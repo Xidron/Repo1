{
 "cells": [
  {
   "cell_type": "markdown",
   "metadata": {},
   "source": [
    "# 1. Imports"
   ]
  },
  {
   "cell_type": "code",
   "execution_count": 1,
   "metadata": {
    "collapsed": true
   },
   "outputs": [],
   "source": [
    "#Imports - general\n",
    "import random\n",
    "random.seed(15)\n",
    "import tensorflow as tf\n",
    "import numpy as np\n",
    "import matplotlib.pyplot as plt\n",
    "import seaborn as sns\n",
    "sns.set_style('whitegrid')\n",
    "sns.set_context('paper')\n",
    "from math import sqrt\n",
    "from sklearn.metrics import f1_score, roc_curve, auc, precision_score, accuracy_score\n",
    "from sklearn.model_selection import train_test_split\n",
    "%matplotlib inline\n",
    "\n",
    "#Imports - RDKit\n",
    "from rdkit.Chem import MolFromSmiles\n",
    "from rdkit.Chem.AllChem import GetMorganFingerprintAsBitVect\n",
    "from rdkit.Chem.rdMolDescriptors import *\n",
    "\n",
    "#Imports - additional\n",
    "from os import listdir #for getting a list of files in a dir to process checkpoints\n",
    "import time # for real-time timing the progress of the network"
   ]
  },
  {
   "cell_type": "markdown",
   "metadata": {},
   "source": [
    "# Some global variables"
   ]
  },
  {
   "cell_type": "code",
   "execution_count": 2,
   "metadata": {
    "collapsed": false
   },
   "outputs": [
    {
     "name": "stdout",
     "output_type": "stream",
     "text": [
      "73\n"
     ]
    },
    {
     "data": {
      "text/plain": [
       "[['DRD2.ism', '6229'],\n",
       " ['HTR1A.ism', '5592'],\n",
       " ['SLC6A4.ism', '5414'],\n",
       " ['OPRM1.ism', '5263'],\n",
       " ['ADORA1.ism', '4136']]"
      ]
     },
     "execution_count": 2,
     "metadata": {},
     "output_type": "execute_result"
    }
   ],
   "source": [
    "batch_number = 0\n",
    "#Get the list of filenames in data/targets/\n",
    "#ordered by the size of class, descending:\n",
    "with open(\"receptors_desc.txt\", \"r\") as f:\n",
    "    receptors = [l.strip().split() for l in f.readlines()]\n",
    "print(len(receptors))\n",
    "receptors[:5]"
   ]
  },
  {
   "cell_type": "markdown",
   "metadata": {},
   "source": [
    "---"
   ]
  },
  {
   "cell_type": "markdown",
   "metadata": {},
   "source": [
    "# 2. Functions"
   ]
  },
  {
   "cell_type": "markdown",
   "metadata": {},
   "source": [
    "## Preparing the dataset"
   ]
  },
  {
   "cell_type": "markdown",
   "metadata": {},
   "source": [
    "#### Reading smiles of molecules from .ism files"
   ]
  },
  {
   "cell_type": "code",
   "execution_count": 3,
   "metadata": {
    "collapsed": true
   },
   "outputs": [],
   "source": [
    "def read_ism(file_name):\n",
    "    ''' Parse an .ism file, returning a list of smiles of molecules '''\n",
    "    mol_list = []\n",
    "    with open(file_name, 'r') as f:\n",
    "        frl = f.readlines()\n",
    "    for line in frl:\n",
    "        line = line.split('\\t')\n",
    "        smile = line[0]\n",
    "        mol_list.append(smile)\n",
    "    return mol_list"
   ]
  },
  {
   "cell_type": "markdown",
   "metadata": {},
   "source": [
    "#### Creating molecule representations"
   ]
  },
  {
   "cell_type": "code",
   "execution_count": 4,
   "metadata": {
    "collapsed": true
   },
   "outputs": [],
   "source": [
    "def get_class_vectors(mol_matrix, rType = 'fingerprint', f_size=2048):\n",
    "    ''' For each molecule in the array (list of lists):\n",
    "        create its representation for training (ingerprint/descriptor/mixed)\n",
    "        and a binary vector showing which classes it belongs to.\n",
    "        Fingerprint will be of size = f_size.\n",
    "    '''\n",
    "    cv_dict = {}\n",
    "    for i,l in enumerate(mol_matrix):\n",
    "        for smile in l:\n",
    "            if smile not in cv_dict:\n",
    "                \n",
    "                mol = MolFromSmiles(smile)\n",
    "                if rType == 'fingerprint':\n",
    "                    rep = fingerprint(mol, f_size)\n",
    "                elif rType == 'descriptor':\n",
    "                    rep = descriptor(mol)\n",
    "                else:\n",
    "                    rep = descriptor(mol) + list(fingerprint(mol, f_size))\n",
    "                \n",
    "                labels = [0]*len(mol_matrix)\n",
    "                cv_dict[smile] = [rep, labels]\n",
    "            cv_dict[smile][1][i] = 1\n",
    "    # Normalize descriptors\n",
    "    if rType != 'fingerprint':\n",
    "        matrix_to_norm = []\n",
    "        for vals in cv_dict.values():\n",
    "            matrix_to_norm.append(vals[0][:37]) #there are 37 descriptors\n",
    "        matrix_to_norm = np.array(matrix_to_norm)\n",
    "        v_min = matrix_to_norm.min(axis=0)\n",
    "        v_max = matrix_to_norm.max(axis=0) - v_min\n",
    "        for key in cv_dict.keys():\n",
    "            for i in range(37):\n",
    "                normed_val = (cv_dict[key][0][i] - v_min[i]) / v_max[i]\n",
    "                cv_dict[key][0][i] = normed_val\n",
    "    return cv_dict\n",
    "\n",
    "def fingerprint(mol, f_size=2048):\n",
    "    return GetMorganFingerprintAsBitVect(mol,2,f_size)\n",
    "\n",
    "def descriptor(mol):\n",
    "    functions = [CalcChi0n,\n",
    "            CalcChi0v,\n",
    "            CalcChi1n,\n",
    "            CalcChi1v,\n",
    "            CalcChi2n,\n",
    "            CalcChi2v,\n",
    "            CalcChi3n,\n",
    "            CalcChi3v,\n",
    "            CalcChi4n,\n",
    "            CalcChi4v,\n",
    "            CalcExactMolWt,\n",
    "            CalcFractionCSP3,\n",
    "            CalcHallKierAlpha,\n",
    "            CalcKappa1,\n",
    "            CalcKappa2,\n",
    "            CalcKappa3,\n",
    "            CalcLabuteASA,\n",
    "            CalcNumAliphaticCarbocycles,\n",
    "            CalcNumAliphaticHeterocycles,\n",
    "            CalcNumAliphaticRings,\n",
    "            CalcNumAmideBonds,\n",
    "            CalcNumAromaticCarbocycles,\n",
    "            CalcNumAromaticHeterocycles,\n",
    "            CalcNumAromaticRings,\n",
    "            CalcNumBridgeheadAtoms,\n",
    "            CalcNumHBA,\n",
    "            CalcNumHBD,\n",
    "            CalcNumHeteroatoms,\n",
    "            CalcNumHeterocycles,\n",
    "            CalcNumLipinskiHBA,\n",
    "            CalcNumLipinskiHBD,\n",
    "            CalcNumRings,\n",
    "            CalcNumSaturatedCarbocycles,\n",
    "            CalcNumSaturatedHeterocycles,\n",
    "            CalcNumSaturatedRings,\n",
    "            CalcNumSpiroAtoms,\n",
    "            CalcTPSA]\n",
    "        \n",
    "    descriptors = []\n",
    "    for function in functions:\n",
    "        descriptors.append(function(mol))\n",
    "    return descriptors"
   ]
  },
  {
   "cell_type": "markdown",
   "metadata": {},
   "source": [
    "#### Creating training and validation sets"
   ]
  },
  {
   "cell_type": "code",
   "execution_count": 5,
   "metadata": {
    "collapsed": true
   },
   "outputs": [],
   "source": [
    "def prepare_sets(mol_matrix, val_prc=0.25, rType='fingerprint', f_size=2048):\n",
    "    ''' Create training and validation sets with labels from an array of smiles\n",
    "        rType - type of representation - fingerprint/descriptor/mixed\n",
    "        f_size - size of the fingerprint if rType is fingerprint or mixed '''\n",
    "    # Create a representation and a class vector for each molecule\n",
    "    molecules = get_class_vectors(mol_matrix,rType,f_size)\n",
    "\n",
    "    # Split the data into training and validation sets\n",
    "    mts=[[],[]]\n",
    "    for val in molecules.values():\n",
    "        mts[0].append(val[0]) # [fingerprint]\n",
    "        mts[1].append(val[1]) # [label]\n",
    "\n",
    "    molecules_split = train_test_split(mts[0], mts[1], test_size=val_prc, random_state=15, stratify=mts[1])\n",
    "\n",
    "    # Validation set:\n",
    "    #     a list of representations (mols) and\n",
    "    #     a list of corresponding class vectors (labels)\n",
    "    val_mols = np.array(molecules_split[1])\n",
    "    val_labels = np.array(molecules_split[3])\n",
    "    # Training set:\n",
    "    train_set = [[],[]]\n",
    "    train_set[0] = np.array(molecules_split[0])\n",
    "    train_set[1] = np.array(molecules_split[2])\n",
    "    \n",
    "    return train_set, val_mols, val_labels"
   ]
  },
  {
   "cell_type": "markdown",
   "metadata": {},
   "source": [
    "## Neuron layers"
   ]
  },
  {
   "cell_type": "code",
   "execution_count": 6,
   "metadata": {
    "collapsed": true
   },
   "outputs": [],
   "source": [
    "def neuron_layer(isize, hsize, prev_layer):\n",
    "    ''' Create a single neuron layer - weight, bias, placeholder '''\n",
    "    # weights and biases\n",
    "    w = tf.Variable(tf.random_normal((isize, hsize), stddev=1/sqrt(isize)))\n",
    "    b = tf.Variable(tf.random_normal((hsize,), stddev=0.1))\n",
    "    # neuron\n",
    "    h = tf.nn.relu(tf.matmul(prev_layer, w) + b)\n",
    "    return w,b,h\n",
    "\n",
    "def setup_layers(layers, osize, isize=2048):\n",
    "    ''' Create placeholders, weights and biases for all requested layers '''\n",
    "    x = tf.placeholder(tf.float32, shape=[None,isize])\n",
    "    active_layers = {'x':x,'w':[],'b':[],'h':[]}\n",
    "    \n",
    "    for i in range(len(layers)):\n",
    "        if i == 0:\n",
    "            w,b,h = neuron_layer(isize, layers[0], x)\n",
    "        else:\n",
    "            w,b,h = neuron_layer(layers[i-1], layers[i], prev_h)\n",
    "        active_layers['w'].append(w)\n",
    "        active_layers['b'].append(b)\n",
    "        active_layers['h'].append(h)\n",
    "        prev_h = h\n",
    "    \n",
    "    # Output Layer\n",
    "    wo = tf.Variable(tf.random_normal((layers[-1], osize), stddev=1/sqrt(layers[-1])))\n",
    "    bo = tf.Variable(tf.random_normal((osize,), stddev=0.1))\n",
    "    a = tf.matmul(h, wo) + bo #h is the one last initialized in the loop > of the last layer\n",
    "    \n",
    "    # Placeholder for targets\n",
    "    t = tf.placeholder(tf.float32, shape=[None, osize])\n",
    "    \n",
    "    active_layers['out'] = [wo,bo,a,t]\n",
    "    return active_layers"
   ]
  },
  {
   "cell_type": "markdown",
   "metadata": {},
   "source": [
    "## Training functions"
   ]
  },
  {
   "cell_type": "code",
   "execution_count": 7,
   "metadata": {
    "collapsed": true
   },
   "outputs": [],
   "source": [
    "def next_batch(data, size): #data = [[fingerprints], [labels]]\n",
    "    ''' Extract the next batch from a dataset.\n",
    "        If dataset size is not dividable by batch size with reminder 0,\n",
    "       the last full batch and the remaining incomplete batch will be merged \n",
    "       to incorporate all data.'''\n",
    "    global batch_number\n",
    "    if batch_number == len(data[0])//size-1:\n",
    "        #the last batch may be larger to incorporate all data\n",
    "        # -1 because the first batch number is 0\n",
    "        start = batch_number*size\n",
    "        batch_number = 0\n",
    "        return data[0][start:], data[1][start:]\n",
    "    start = batch_number*size\n",
    "    batch_number += 1\n",
    "    return data[0][start:start+size], data[1][start:start+size]\n",
    "\n",
    "def shuffle_data(data):\n",
    "    '''Used to shuffle the training set after an epoch'''\n",
    "    indices = list(range(len(data[0])))\n",
    "    random.shuffle(indices)\n",
    "    new_data = [data[0][indices], data[1][indices]]\n",
    "    return new_data\n",
    "\n",
    "def timer(start,end):\n",
    "    ''' For timing the training of the network '''\n",
    "    hours, rem = divmod(end-start, 3600)\n",
    "    minutes, seconds = divmod(rem, 60)\n",
    "    return \"{:0>2}:{:0>2}:{:0>2}\".format(int(hours),int(minutes),int(seconds))\n",
    "\n",
    "def tf_fractions(a1, a2):\n",
    "    ''' Calculate true/false positives/negatives in a2 based on a1\n",
    "        for each class seperately. '''\n",
    "    num_class = len(a1[0]) #number of classes\n",
    "    tp = np.array([0] * num_class)\n",
    "    fn = np.array([0] * num_class)\n",
    "    tn = np.array([0] * num_class)\n",
    "    fp = np.array([0] * num_class)\n",
    "    for i in range(num_class):\n",
    "        for j in range(len(a1)):\n",
    "            if a2[j][i] == a1[j][i]:\n",
    "                if a1[j][i] == 1:\n",
    "                    tp[i] += 1\n",
    "                else:\n",
    "                    tn[i] += 1\n",
    "            else:\n",
    "                if a1[j][i] == 1:\n",
    "                    fn[i] += 1\n",
    "                else:\n",
    "                    fp[i] += 1\n",
    "    return [tp,fn,tn,fp]"
   ]
  },
  {
   "cell_type": "code",
   "execution_count": 8,
   "metadata": {
    "collapsed": true
   },
   "outputs": [],
   "source": [
    "def train_network(data, batch_size, epochs, verbose=True, save=True):\n",
    "    ''' This function trains the network, returning the rate of training and validation accuracy,\n",
    "         the F1 measure and true/false fractions.'''\n",
    "    # Variables:\n",
    "    global start, train, batch_number\n",
    "    iterations = len(data[0]) // batch_size * epochs\n",
    "    if verbose: print(iterations, ' iterations')\n",
    "    tr_rate = []\n",
    "    val_rate = []\n",
    "    f1 = [[],[],[]]\n",
    "    tf_frac = []\n",
    "    batch_number = 0\n",
    "    save_step=0\n",
    "    # Training:\n",
    "    with tf.Session() as session:\n",
    "        session.run(tf.initialize_all_variables())\n",
    "\n",
    "        if save:\n",
    "            saver.save(session, \"tmp/checkpoint\", global_step=save_step)\n",
    "        \n",
    "        # Train the network\n",
    "        for i in range(iterations):\n",
    "            if i != 0 and batch_number == 0:\n",
    "                data = shuffle_data(data)\n",
    "            \n",
    "            mols, labels = next_batch(data, batch_size)\n",
    "            \n",
    "            session.run(train, feed_dict={x: mols, t: labels})\n",
    "            \n",
    "            # Display progress and make a checkpoint\n",
    "            if i == 0 or (i+1)%(iterations//10) == 0:\n",
    "                if save:\n",
    "                    save_step += 1\n",
    "                    saver.save(session, \"tmp/checkpoint\", global_step = save_step)\n",
    "                if verbose:\n",
    "                    progress = int((i+1)/(iterations//10))*10\n",
    "                    now = timer(start,time.time())\n",
    "                    print(\"%3i\" % progress + '%, ' + str(now))                \n",
    "            \n",
    "            # Validate predictions\n",
    "            if i % 200 == 0 or i == iterations-1:\n",
    "                \n",
    "                tr_target = labels\n",
    "                tr_predictions = session.run(predict, feed_dict={x: mols, t: labels})\n",
    "                tr_rate.append((tr_target == tr_predictions).all(axis=1).mean())\n",
    "\n",
    "                val_predictions = session.run(predict, feed_dict={x: val_mols, t: val_labels})\n",
    "                val_rate.append((val_labels == val_predictions).all(axis=1).mean())\n",
    "                \n",
    "                f1[0].append(f1_score(val_labels, val_predictions, average='micro'))\n",
    "                f1[1].append(f1_score(val_labels, val_predictions, average='macro'))\n",
    "                f1[2].append(f1_score(val_labels, val_predictions, average='weighted'))\n",
    "                \n",
    "        tf_frac = tf_fractions(val_labels,val_predictions)\n",
    "        # Final checkpoint\n",
    "        if save:\n",
    "            saver.save(session, \"tmp/checkpoint\", global_step=save_step+1)\n",
    "    return tr_rate, val_rate, f1, tf_frac"
   ]
  },
  {
   "cell_type": "markdown",
   "metadata": {},
   "source": [
    "## Functions to draw and save plots"
   ]
  },
  {
   "cell_type": "code",
   "execution_count": 9,
   "metadata": {
    "collapsed": true
   },
   "outputs": [],
   "source": [
    "def filename_gen(plot_type='', path=''):\n",
    "    ''' Generate filename for a plot. '''\n",
    "    if plot_type != '':\n",
    "        plot_type += '_'\n",
    "    filename = plot_type\n",
    "    layers_str = \"{}'{}\".format(len(layers),max(layers))\n",
    "    filename += \"{}_{}_{}_{:>6}_{}_{}_{:.4}_{}\".format(\n",
    "                num_class, f_size, layers_str, learning_rate, batch_size, epochs, max(val_rate), rType)\n",
    "    filename = filename.replace(\".\",\"'\")\n",
    "    filename = filename.replace(\" \",\"_\")\n",
    "    filename = path + filename + \".pdf\"\n",
    "    return filename\n",
    "\n",
    "def save_accuracy_plot(tr_rate, save=True, path=\"plots/\"):\n",
    "    ''' Draws and saves a plot which displays changes of accuracy \n",
    "        during training for training and validation sets. '''\n",
    "    plt.close()\n",
    "    fig = plt.figure()\n",
    "    ax = fig.add_subplot(111)\n",
    "    \n",
    "    x = [i*200 for i in range(len(tr_rate))]\n",
    "    ax.plot(x,tr_rate, label='trening')\n",
    "    ax.plot(x,val_rate, label='walidacja')\n",
    "    ax.legend(loc=5)\n",
    "    ax.set_ylabel('Dokładność')\n",
    "    ax.set_xlabel('Krok')\n",
    "    plt.ylim([0,1])\n",
    "    vals = ax.get_yticks()\n",
    "    ax.set_yticklabels(['{:3.0f}%'.format(x*100) for x in vals])\n",
    "    \n",
    "    title = \"Cele terapeutyczne: {:2}, Szybkość uczenia: {}\\nWarstwy: {}, Rozmiar batcha: {}, Liczba epok: {}\".format(\n",
    "        num_class, learning_rate, layers, batch_size, epochs)\n",
    "    plt.title(title);\n",
    "    \n",
    "    if save:\n",
    "        filename = filename_gen('',path)\n",
    "        plt.savefig(filename);\n",
    "\n",
    "def save_f1_plot(f1, save=True, path=\"plots/\"):\n",
    "    ''' Draws and saves a plot which displays changes of F1-score\n",
    "        during training for the validation set.\n",
    "        F1 calculated and drawn in three types of averaging. '''\n",
    "    plt.close()\n",
    "    fig = plt.figure()\n",
    "    x = [i*200 for i in range(len(f1[0]))]\n",
    "    ax = fig.add_subplot(111)\n",
    "    \n",
    "    ax.plot(x,f1[0], label='F1 micro')\n",
    "    ax.plot(x,f1[1], label='F1 macro')\n",
    "    ax.plot(x,f1[2], label='F1 ważone')\n",
    "    ax.legend(loc=7)\n",
    "    ax.set_ylabel('F1')\n",
    "    ax.set_xlabel('Krok')\n",
    "    plt.ylim([0,1])\n",
    "    vals = ax.get_yticks()\n",
    "    ax.set_yticklabels(['{:3.0f}%'.format(x*100) for x in vals])\n",
    "    \n",
    "    title = \"Cele terapeutyczne: {:2}, Szybkość uczenia: {}\\nWarstwy: {}, Rozmiar batcha: {}, Liczba epok: {}\".format(\n",
    "        num_class, learning_rate, layers, batch_size, epochs)\n",
    "    plt.title(title);\n",
    "    \n",
    "    if save:\n",
    "        filename = filename_gen('f1',path)\n",
    "        plt.savefig(filename);\n",
    "\n",
    "def save_tf_fractions_plot(tff, save=True, path='plots/'):\n",
    "    ''' Draws and saves a histogram of true/false positive/negative fractions:\n",
    "        True Positive rate, False Positive Rate, False Negative Rate and\n",
    "        False Discovery Rate.\n",
    "        True Negative Rate not included due to having values indistinguishably\n",
    "        close to 100%; however, TNR = 100% - FPR, and the FPR histogram is more\n",
    "        visually clear. '''\n",
    "    plt.close()\n",
    "    fig = plt.figure()\n",
    "    subplots = [fig.add_subplot(221), fig.add_subplot(222),\n",
    "                fig.add_subplot(223), fig.add_subplot(224)]\n",
    "    titles = ['Odsetek prawdziwie pozytywnych', 'Odsetek fałszywie pozytywnych',\n",
    "              'Odsetek fałszywie negatywnych', 'Odsetek fałszywych odkryć']\n",
    "    rate_values = [tff[0]/(tff[0]+tff[1]), tff[3]/(tff[2]+tff[3]),\n",
    "                   tff[1]/(tff[0]+tff[1]), tff[3]/(tff[0]+tff[3])]\n",
    "    xlabel = 'Cele terapeutyczne'\n",
    "    xrange = range(1,len(tff[0])+1)\n",
    "    \n",
    "    for i, ax in enumerate(subplots):\n",
    "        ax.bar(xrange, rate_values[i])\n",
    "        ax.set_title(titles[i])\n",
    "        ax.set_xlabel(xlabel)\n",
    "        ax.set_xticks([])\n",
    "        ax.set_xlim([0,num_class+2])\n",
    "        vals = ax.get_yticks()\n",
    "        if i == 1: #false positive rate is very small\n",
    "            ax.set_yticklabels(['{:3.2f}%'.format(x*100) for x in vals])\n",
    "        else:\n",
    "            ax.set_yticklabels(['{:3.0f}%'.format(x*100) for x in vals])\n",
    "    \n",
    "    plt.tight_layout()\n",
    "    title = \"Cele terapeutyczne: {:2}, Szybkość uczenia: {}\\nWarstwy: {}, Rozmiar batcha: {}, Liczba epok: {}\".format(\n",
    "        num_class, learning_rate, layers, batch_size, epochs)\n",
    "    fig.suptitle(title)\n",
    "    fig.subplots_adjust(top=0.85)\n",
    "    \n",
    "    if save:\n",
    "        filename = filename_gen('tff',path)\n",
    "        plt.savefig(filename)"
   ]
  },
  {
   "cell_type": "markdown",
   "metadata": {},
   "source": [
    "---"
   ]
  },
  {
   "cell_type": "markdown",
   "metadata": {},
   "source": [
    "# 3. Script"
   ]
  },
  {
   "cell_type": "markdown",
   "metadata": {},
   "source": [
    "### Prepare data"
   ]
  },
  {
   "cell_type": "code",
   "execution_count": 10,
   "metadata": {
    "collapsed": false
   },
   "outputs": [
    {
     "data": {
      "text/plain": [
       "['CN1CCN(CC1)C2=Cc3ccccc3C(=C(C)C)c4ccccc24',\n",
       " 'CN1CCN(CC1)C2=Nc3cc(Cl)ccc3Nc4ccccc24',\n",
       " 'CN1CCC(CC1)C2=Cc3cc(Cl)ccc3Cc4ccccc24']"
      ]
     },
     "execution_count": 10,
     "metadata": {},
     "output_type": "execute_result"
    }
   ],
   "source": [
    "num_class = 73 #first n most numerous classes - 2<=n<=73\n",
    "ism_path = 'data/targets/'   #path to .ism files which represent classes and contain molecules\n",
    "mol_matrix = []\n",
    "for line in receptors[:num_class]:\n",
    "    name = line[0]\n",
    "    mol_list = read_ism(ism_path + name)\n",
    "    mol_matrix.append(mol_list)\n",
    "mol_matrix[0][:3]"
   ]
  },
  {
   "cell_type": "markdown",
   "metadata": {},
   "source": [
    "### Type of representation:"
   ]
  },
  {
   "cell_type": "code",
   "execution_count": 11,
   "metadata": {
    "collapsed": false,
    "scrolled": true
   },
   "outputs": [
    {
     "name": "stdout",
     "output_type": "stream",
     "text": [
      "CPU times: user 7min 51s, sys: 452 ms, total: 7min 52s\n",
      "Wall time: 7min 51s\n"
     ]
    }
   ],
   "source": [
    "rType = 'fingerprint'\n",
    "f_size = 4096        #size of fingerprint, if rType = 'fingerprint' or 'mixed'\n",
    "%time train_set,val_mols,val_labels = prepare_sets(mol_matrix, 0.2, rType, f_size)"
   ]
  },
  {
   "cell_type": "raw",
   "metadata": {
    "collapsed": false,
    "scrolled": true
   },
   "source": [
    "rType = 'descriptor'\n",
    "f_size = 37        #the existance of the variable is neccessary for some plotting functions\n",
    "%time train_set,val_mols,val_labels = prepare_sets(mol_matrix, 0.2, rType)"
   ]
  },
  {
   "cell_type": "markdown",
   "metadata": {},
   "source": [
    "###  User-defined network variables:"
   ]
  },
  {
   "cell_type": "code",
   "execution_count": 13,
   "metadata": {
    "collapsed": true
   },
   "outputs": [],
   "source": [
    "layers = [800,800]\n",
    "learning_rate = 0.001\n",
    "batch_size = 50\n",
    "epochs = 10"
   ]
  },
  {
   "cell_type": "markdown",
   "metadata": {},
   "source": [
    "### Create and train the network"
   ]
  },
  {
   "cell_type": "code",
   "execution_count": 14,
   "metadata": {
    "collapsed": false
   },
   "outputs": [
    {
     "name": "stdout",
     "output_type": "stream",
     "text": [
      "2017-10-20 14:00:53\n",
      "13270  iterations\n",
      "  0%, 00:00:02\n"
     ]
    },
    {
     "name": "stderr",
     "output_type": "stream",
     "text": [
      "/home/maks/anaconda3/envs/deep_learning/lib/python3.5/site-packages/sklearn/metrics/classification.py:1113: UndefinedMetricWarning: F-score is ill-defined and being set to 0.0 in labels with no predicted samples.\n",
      "  'precision', 'predicted', average, warn_for)\n"
     ]
    },
    {
     "name": "stdout",
     "output_type": "stream",
     "text": [
      " 10%, 00:00:15\n",
      " 20%, 00:00:32\n",
      " 30%, 00:00:50\n",
      " 40%, 00:01:05\n",
      " 50%, 00:01:18\n",
      " 60%, 00:01:32\n",
      " 70%, 00:01:46\n",
      " 80%, 00:02:00\n",
      " 90%, 00:02:13\n",
      "100%, 00:02:28\n"
     ]
    },
    {
     "data": {
      "text/plain": [
       "'00:02:32'"
      ]
     },
     "execution_count": 14,
     "metadata": {},
     "output_type": "execute_result"
    }
   ],
   "source": [
    "tf.reset_default_graph()\n",
    "tf.set_random_seed(15)\n",
    "random.seed(15)\n",
    "print(time.strftime(\"%Y-%m-%d %H:%M:%S\", time.localtime()))\n",
    "start = time.time()\n",
    "\n",
    "#Automatic network variables.\n",
    "isize = len(val_mols[0])\n",
    "osize = num_class\n",
    "'''\n",
    "isize - size of the input layer, equal to the size \n",
    "        of the data representation (fingerprint/descriptor)\n",
    "osize - size of the output layer, equal to the number of classes.\n",
    "'''\n",
    "\n",
    "# Neuron layers\n",
    "active_layers = setup_layers(layers, osize, isize)\n",
    "x = active_layers['x'] # first placeholder\n",
    "a = active_layers['out'][2] # output layer activations\n",
    "t = active_layers['out'][3] # placeholder for targets\n",
    "\n",
    "saver = tf.train.Saver(max_to_keep=12)\n",
    "\n",
    "# Objective\n",
    "'''Adam Optimizer'''\n",
    "cross_entropy = tf.reduce_mean(tf.nn.sigmoid_cross_entropy_with_logits(a, t))\n",
    "train = tf.train.AdamOptimizer(learning_rate).minimize(cross_entropy)\n",
    "\n",
    "# Prediction\n",
    "y = tf.nn.sigmoid(a)\n",
    "predict = tf.round(y)\n",
    "\n",
    "# Train the network\n",
    "tr_rate, val_rate, f1, tf_frac = train_network(train_set, batch_size, epochs)\n",
    "full_time = timer(start,time.time())\n",
    "full_time"
   ]
  },
  {
   "cell_type": "markdown",
   "metadata": {},
   "source": [
    "# 4. Plots for evaluating predictions, and saving results."
   ]
  },
  {
   "cell_type": "markdown",
   "metadata": {},
   "source": [
    "### Accuracy - training and validation rates"
   ]
  },
  {
   "cell_type": "code",
   "execution_count": 15,
   "metadata": {
    "collapsed": false
   },
   "outputs": [
    {
     "data": {
      "image/png": "[encoded data removed]",
      "text/plain": [
       "<matplotlib.figure.Figure at 0x7fe0b059b5c0>"
      ]
     },
     "metadata": {},
     "output_type": "display_data"
    }
   ],
   "source": [
    "save_accuracy_plot(tr_rate, save=False, path='plots/')"
   ]
  },
  {
   "cell_type": "markdown",
   "metadata": {},
   "source": [
    "### F1 score"
   ]
  },
  {
   "cell_type": "code",
   "execution_count": 16,
   "metadata": {
    "collapsed": false
   },
   "outputs": [
    {
     "data": {
      "image/png": "[encoded data removed]",
      "text/plain": [
       "<matplotlib.figure.Figure at 0x7fe057f9c630>"
      ]
     },
     "metadata": {},
     "output_type": "display_data"
    }
   ],
   "source": [
    "save_f1_plot(f1, save=False, path='plots/')"
   ]
  },
  {
   "cell_type": "markdown",
   "metadata": {},
   "source": [
    "### True/false-positive/negative-related histograms"
   ]
  },
  {
   "cell_type": "code",
   "execution_count": 17,
   "metadata": {
    "collapsed": false
   },
   "outputs": [
    {
     "data": {
      "image/png": "[encoded data removed]",
      "text/plain": [
       "<matplotlib.figure.Figure at 0x7fe057e4f898>"
      ]
     },
     "metadata": {},
     "output_type": "display_data"
    }
   ],
   "source": [
    "save_tf_fractions_plot(tf_frac, save=False, path='plots/')"
   ]
  },
  {
   "cell_type": "markdown",
   "metadata": {},
   "source": [
    "### Saving results to file"
   ]
  },
  {
   "cell_type": "code",
   "execution_count": null,
   "metadata": {
    "collapsed": true
   },
   "outputs": [],
   "source": [
    "# Create a new file\n",
    "with open('plots/desc/desc.csv','w') as f:\n",
    "    f.write('Type of Representation,Number of classes,Fingerprint size,Hidden Layers,Learning Rate,Batch Size,Number of Epochs, Max. Validation Rate\\n')"
   ]
  },
  {
   "cell_type": "code",
   "execution_count": null,
   "metadata": {
    "collapsed": true
   },
   "outputs": [],
   "source": [
    "def save_res_to_file(rType,num_class,f_size,layers,learning_rate,batch_size,epochs,max_val):\n",
    "    with open('plots/desc/desc.csv','a') as f:\n",
    "        layers_str = str(layers).replace(',',';') #for .csv compatibility reasons\n",
    "        s = \"{},{},{},{},{},{},{},{:.4}\\n\".format(\n",
    "            rType,num_class,f_size,layers_str,learning_rate,batch_size,epochs,max_val)\n",
    "        f.write(s)"
   ]
  },
  {
   "cell_type": "markdown",
   "metadata": {},
   "source": [
    "---"
   ]
  },
  {
   "cell_type": "markdown",
   "metadata": {},
   "source": [
    "# 5. Testing the network on drugs"
   ]
  },
  {
   "cell_type": "markdown",
   "metadata": {},
   "source": [
    "## Preparing the test set"
   ]
  },
  {
   "cell_type": "code",
   "execution_count": 18,
   "metadata": {
    "collapsed": true
   },
   "outputs": [],
   "source": [
    "with open('data/drug_targets_untrained.csv') as f: #or 'data/drug_targets.csv' for the full set\n",
    "    drug_targets = [l.strip().split(',') for l in f.readlines()[1:]]\n",
    "class_to_smiles = {}\n",
    "for l in drug_targets:\n",
    "    if l[2] not in class_to_smiles.keys():\n",
    "        class_to_smiles[l[2]] = []\n",
    "    class_to_smiles[l[2]].append(l[4])\n",
    "\n",
    "targets = [l[0].strip('.ism') for l in receptors]\n",
    "\n",
    "drug_mol_matrix = [[]]*73\n",
    "for k, v in class_to_smiles.items():\n",
    "    drug_mol_matrix[targets.index(k)] = v\n",
    "\n",
    "cv_dict = get_class_vectors(drug_mol_matrix, f_size=f_size)\n",
    "drug_mols, drug_labels = [], []\n",
    "for v in cv_dict.values():\n",
    "    drug_mols.append(v[0])\n",
    "    drug_labels.append(v[1])\n",
    "drug_mols, drug_labels = np.array(drug_mols), np.array(drug_labels)"
   ]
  },
  {
   "cell_type": "markdown",
   "metadata": {},
   "source": [
    "## *Rebuilding the network\n",
    "(if the training code in section 3. has not been run)"
   ]
  },
  {
   "cell_type": "code",
   "execution_count": 20,
   "metadata": {
    "collapsed": true
   },
   "outputs": [],
   "source": [
    "tf.reset_default_graph()\n",
    "tf.set_random_seed(15)\n",
    "random.seed(15)\n",
    "# Automatic network variables\n",
    "isize = 4096\n",
    "osize = 73\n",
    "active_layers = setup_layers([800,800], osize, isize)\n",
    "x = active_layers['x'] # first placeholder\n",
    "a = active_layers['out'][2] # output layer activations\n",
    "t = active_layers['out'][3] # placeholder for targets\n",
    "saver = tf.train.Saver(max_to_keep=12)\n",
    "# Objective\n",
    "'''Adam Optimizer'''\n",
    "cross_entropy = tf.reduce_mean(tf.nn.sigmoid_cross_entropy_with_logits(a, t))\n",
    "train = tf.train.AdamOptimizer(0.001).minimize(cross_entropy)\n",
    "# Prediction\n",
    "y = tf.nn.sigmoid(a)\n",
    "predict = tf.round(y)"
   ]
  },
  {
   "cell_type": "markdown",
   "metadata": {},
   "source": [
    "## Restoring network from checkpoint and running test data"
   ]
  },
  {
   "cell_type": "code",
   "execution_count": 22,
   "metadata": {
    "collapsed": false
   },
   "outputs": [
    {
     "name": "stderr",
     "output_type": "stream",
     "text": [
      "/home/maks/anaconda3/envs/deep_learning/lib/python3.5/site-packages/sklearn/metrics/classification.py:1113: UndefinedMetricWarning: F-score is ill-defined and being set to 0.0 in labels with no predicted samples.\n",
      "  'precision', 'predicted', average, warn_for)\n",
      "/home/maks/anaconda3/envs/deep_learning/lib/python3.5/site-packages/sklearn/metrics/classification.py:1115: UndefinedMetricWarning: F-score is ill-defined and being set to 0.0 in labels with no true samples.\n",
      "  'recall', 'true', average, warn_for)\n"
     ]
    },
    {
     "ename": "TypeError",
     "evalue": "'list' object is not callable",
     "output_type": "error",
     "traceback": [
      "\u001b[0;31m---------------------------------------------------------------------------\u001b[0m",
      "\u001b[0;31mTypeError\u001b[0m                                 Traceback (most recent call last)",
      "\u001b[0;32m<ipython-input-22-98c4d90d9bc5>\u001b[0m in \u001b[0;36m<module>\u001b[0;34m()\u001b[0m\n\u001b[1;32m     10\u001b[0m     \u001b[0mf1\u001b[0m\u001b[0;34m[\u001b[0m\u001b[0;36m1\u001b[0m\u001b[0;34m]\u001b[0m\u001b[0;34m.\u001b[0m\u001b[0mappend\u001b[0m\u001b[0;34m(\u001b[0m\u001b[0mf1_score\u001b[0m\u001b[0;34m(\u001b[0m\u001b[0mdrug_labels\u001b[0m\u001b[0;34m,\u001b[0m \u001b[0mdrug_pred\u001b[0m\u001b[0;34m,\u001b[0m \u001b[0maverage\u001b[0m\u001b[0;34m=\u001b[0m\u001b[0;34m'macro'\u001b[0m\u001b[0;34m)\u001b[0m\u001b[0;34m)\u001b[0m\u001b[0;34m\u001b[0m\u001b[0m\n\u001b[1;32m     11\u001b[0m     \u001b[0mf1\u001b[0m\u001b[0;34m[\u001b[0m\u001b[0;36m2\u001b[0m\u001b[0;34m]\u001b[0m\u001b[0;34m.\u001b[0m\u001b[0mappend\u001b[0m\u001b[0;34m(\u001b[0m\u001b[0mf1_score\u001b[0m\u001b[0;34m(\u001b[0m\u001b[0mdrug_labels\u001b[0m\u001b[0;34m,\u001b[0m \u001b[0mdrug_pred\u001b[0m\u001b[0;34m,\u001b[0m \u001b[0maverage\u001b[0m\u001b[0;34m=\u001b[0m\u001b[0;34m'weighted'\u001b[0m\u001b[0;34m)\u001b[0m\u001b[0;34m)\u001b[0m\u001b[0;34m\u001b[0m\u001b[0m\n\u001b[0;32m---> 12\u001b[0;31m     \u001b[0mscore_per_class\u001b[0m \u001b[0;34m=\u001b[0m \u001b[0mtf_frac\u001b[0m\u001b[0;34m(\u001b[0m\u001b[0mdrug_labels\u001b[0m\u001b[0;34m,\u001b[0m\u001b[0mdrug_pred\u001b[0m\u001b[0;34m)\u001b[0m\u001b[0;34m\u001b[0m\u001b[0m\n\u001b[0m",
      "\u001b[0;31mTypeError\u001b[0m: 'list' object is not callable"
     ]
    }
   ],
   "source": [
    "f1=[[],[],[]]\n",
    "with tf.Session() as sess:\n",
    "    saver.restore(sess, 'checkpoint-12')\n",
    "    \n",
    "    drug_pred = sess.run(predict, feed_dict={x: drug_mols, t: drug_labels}) #rounded prediction values\n",
    "    drug_pred_roc = sess.run(y, feed_dict={x: drug_mols, t: drug_labels}) #not-rounded, raw prediction values\n",
    "    drug_rate = (drug_labels == drug_pred).mean(axis=0)\n",
    "    \n",
    "    f1[0].append(f1_score(drug_labels, drug_pred, average='micro'))\n",
    "    f1[1].append(f1_score(drug_labels, drug_pred, average='macro'))\n",
    "    f1[2].append(f1_score(drug_labels, drug_pred, average='weighted'))\n",
    "    score_per_class = tf_frac(drug_labels,drug_pred)"
   ]
  },
  {
   "cell_type": "code",
   "execution_count": null,
   "metadata": {
    "collapsed": true
   },
   "outputs": [],
   "source": [
    "precision_score(drug_pred,drug_labels, average=\"weighted\")\n",
    "precision_score((drug_pred_roc > 0.01).astype(float),drug_labels, average=\"weighted\")\n",
    "tf_fractions(drug_labels, drug_pred)\n",
    "[sum(i) for i in tf_frac]\n",
    "fpr, tpr, thresholds = roc_curve(drug_labels.flatten(), drug_pred_roc.flatten())\n",
    "auc(fpr,tpr)"
   ]
  },
  {
   "cell_type": "code",
   "execution_count": null,
   "metadata": {
    "collapsed": true
   },
   "outputs": [],
   "source": [
    "plt.plot(fpr, tpr, color='darkorange',\n",
    "         lw=2, label='Krzywa ROC (pole powierzchni = %0.2f)' % auc(fpr, tpr))\n",
    "plt.plot([0, 1], [0, 1], color='#4C72B0', lw=2, linestyle='--')\n",
    "plt.axes().set_aspect('equal')\n",
    "plt.xlim([0.0, 1.0])\n",
    "plt.ylim([0.0, 1.0])\n",
    "plt.xlabel('Odsetek fałszywie pozytywnych')\n",
    "plt.ylabel('Odsetek prawdziwie pozytywnych')\n",
    "plt.title('Charakterystyka operacyjna odbiornika (ROC curve)')\n",
    "plt.legend(loc=\"lower right\")\n",
    "#plt.savefig('plots/best/drugs_roc.pdf')\n",
    "plt.show()"
   ]
  },
  {
   "cell_type": "markdown",
   "metadata": {},
   "source": [
    "---"
   ]
  }
 ],
 "metadata": {
  "anaconda-cloud": {},
  "kernelspec": {
   "display_name": "Python [conda env:deep_learning]",
   "language": "python",
   "name": "conda-env-deep_learning-py"
  },
  "language_info": {
   "codemirror_mode": {
    "name": "ipython",
    "version": 3
   },
   "file_extension": ".py",
   "mimetype": "text/x-python",
   "name": "python",
   "nbconvert_exporter": "python",
   "pygments_lexer": "ipython3",
   "version": "3.5.2"
  }
 },
 "nbformat": 4,
 "nbformat_minor": 1
}
