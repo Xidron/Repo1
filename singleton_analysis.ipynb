{
 "cells": [
  {
   "cell_type": "code",
   "execution_count": 5,
   "metadata": {
    "collapsed": false
   },
   "outputs": [],
   "source": [
    "#Imports - general\n",
    "import random\n",
    "random.seed(15)\n",
    "import numpy as np\n",
    "import matplotlib.pyplot as plt\n",
    "import seaborn as sns\n",
    "sns.set_style('whitegrid')\n",
    "sns.set_context('paper')\n",
    "from math import sqrt\n",
    "from sklearn.model_selection import train_test_split\n",
    "%matplotlib inline\n",
    "\n",
    "#Imports - RDKit\n",
    "from rdkit.Chem import MolFromSmiles\n",
    "from rdkit.Chem.AllChem import GetMorganFingerprintAsBitVect\n",
    "from rdkit.Chem.rdMolDescriptors import *\n",
    "\n",
    "#Imports - additional\n",
    "from os import listdir #for getting a list of files in a dir to process checkpoints\n",
    "import time # for real-time timing the progress of the network"
   ]
  },
  {
   "cell_type": "code",
   "execution_count": 6,
   "metadata": {
    "collapsed": true
   },
   "outputs": [],
   "source": [
    "def read_ism(file_name):\n",
    "    ''' Parse an .ism file, returning a list of smiles of molecules '''\n",
    "    mol_list = []\n",
    "    with open(file_name, 'r') as f:\n",
    "        frl = f.readlines()\n",
    "    for line in frl:\n",
    "        line = line.split('\\t')\n",
    "        smile = line[0]\n",
    "        mol_list.append(smile)\n",
    "    return mol_list"
   ]
  },
  {
   "cell_type": "code",
   "execution_count": 8,
   "metadata": {
    "collapsed": false
   },
   "outputs": [],
   "source": [
    "def get_class_vectors(mol_matrix):\n",
    "    '''\n",
    "    \n",
    "    '''\n",
    "    cv_dict = {}\n",
    "    for i,l in enumerate(mol_matrix):\n",
    "        for smile in l:\n",
    "            if smile not in cv_dict:\n",
    "                \n",
    "                mol = MolFromSmiles(smile)\n",
    "                \n",
    "                labels = [0]*len(mol_matrix)\n",
    "                cv_dict[smile] = [mol, labels]\n",
    "            cv_dict[smile][1][i] = 1\n",
    "    return cv_dict"
   ]
  },
  {
   "cell_type": "markdown",
   "metadata": {},
   "source": [
    "---"
   ]
  },
  {
   "cell_type": "code",
   "execution_count": 13,
   "metadata": {
    "collapsed": false
   },
   "outputs": [],
   "source": [
    "with open(\"receptors_descending.txt\", \"r\") as f:\n",
    "    receptors = [l.strip().split() for l in f.readlines()]"
   ]
  },
  {
   "cell_type": "code",
   "execution_count": 14,
   "metadata": {
    "collapsed": false
   },
   "outputs": [
    {
     "data": {
      "text/plain": [
       "['CN1CCN(CC1)C2=Cc3ccccc3C(=C(C)C)c4ccccc24',\n",
       " 'CN1CCN(CC1)C2=Nc3cc(Cl)ccc3Nc4ccccc24',\n",
       " 'CN1CCC(CC1)C2=Cc3cc(Cl)ccc3Cc4ccccc24']"
      ]
     },
     "execution_count": 14,
     "metadata": {},
     "output_type": "execute_result"
    }
   ],
   "source": [
    "num_class = 73 #first n most numerous classes - 2<=n<=73\n",
    "ism_path = 'data/targets/'   #path to .ism files which represent classes and contain molecules\n",
    "mol_matrix = []\n",
    "for line in receptors[:num_class]:\n",
    "    name = line[0]\n",
    "    mol_list = read_ism(ism_path + name)\n",
    "    mol_matrix.append(mol_list)\n",
    "mol_matrix[0][:3]"
   ]
  },
  {
   "cell_type": "markdown",
   "metadata": {},
   "source": [
    "# Singletons"
   ]
  },
  {
   "cell_type": "code",
   "execution_count": 15,
   "metadata": {
    "collapsed": false
   },
   "outputs": [],
   "source": [
    "molecules = get_class_vectors(mol_matrix)"
   ]
  },
  {
   "cell_type": "code",
   "execution_count": 16,
   "metadata": {
    "collapsed": true
   },
   "outputs": [],
   "source": [
    "# Split the data into training and validation sets\n",
    "smiles, mols, labels = [],[], []\n",
    "for key, val in molecules.items():\n",
    "    smiles.append(key) # [fingerprint]\n",
    "    mols.append(val[0])\n",
    "    labels.append(val[1]) # [label]\n",
    "smiles = np.array(smiles)\n",
    "mols = np.array(mols)\n",
    "labels = np.array(labels)"
   ]
  },
  {
   "cell_type": "code",
   "execution_count": 17,
   "metadata": {
    "collapsed": true
   },
   "outputs": [],
   "source": [
    "unique_labels, unique_indices, unique_counts = np.unique(\n",
    "            ar=labels, return_index=True, return_counts=True, axis=0)\n",
    "\n",
    "singular_indices = unique_indices[unique_counts==1]\n",
    "\n",
    "smiles_os = smiles[singular_indices]\n",
    "mols_os = mols[singular_indices]\n",
    "labels_os = labels[singular_indices]"
   ]
  },
  {
   "cell_type": "markdown",
   "metadata": {},
   "source": [
    "---"
   ]
  },
  {
   "cell_type": "markdown",
   "metadata": {},
   "source": [
    "# Repetitions"
   ]
  },
  {
   "cell_type": "code",
   "execution_count": 50,
   "metadata": {
    "collapsed": false
   },
   "outputs": [],
   "source": [
    "with open(\"receptors_descending.txt\", \"r\") as f:\n",
    "    receptors = [l.strip().split() for l in f.readlines()]"
   ]
  },
  {
   "cell_type": "code",
   "execution_count": 51,
   "metadata": {
    "collapsed": false
   },
   "outputs": [
    {
     "data": {
      "text/plain": [
       "['CN1CCN(CC1)C2=Cc3ccccc3C(=C(C)C)c4ccccc24',\n",
       " 'CN1CCN(CC1)C2=Nc3cc(Cl)ccc3Nc4ccccc24',\n",
       " 'CN1CCC(CC1)C2=Cc3cc(Cl)ccc3Cc4ccccc24']"
      ]
     },
     "execution_count": 51,
     "metadata": {},
     "output_type": "execute_result"
    }
   ],
   "source": [
    "num_class = 73\n",
    "ism_path = 'data/targets/'\n",
    "mol_matrix = []\n",
    "for line in receptors[:num_class]:\n",
    "    name = line[0]\n",
    "    mol_list = read_ism(ism_path + name)\n",
    "    mol_matrix.append(mol_list)\n",
    "mol_matrix[0][:3]"
   ]
  },
  {
   "cell_type": "code",
   "execution_count": 54,
   "metadata": {
    "collapsed": false
   },
   "outputs": [],
   "source": [
    "class_dict = {}\n",
    "for j in range(73):\n",
    "    d1={}\n",
    "    d2={}\n",
    "    c = mol_matrix[j]\n",
    "    for i in range(len(c)):\n",
    "        s = c[i]\n",
    "        if s not in d1:\n",
    "            d1[s] = i+1\n",
    "        elif s in d2:\n",
    "            d2[s].append(i+1)\n",
    "        else:\n",
    "            d2[s] = [d1[s],i+1]\n",
    "    if d2:\n",
    "        class_dict[receptors[j][0]] = d2"
   ]
  },
  {
   "cell_type": "code",
   "execution_count": 55,
   "metadata": {
    "collapsed": false
   },
   "outputs": [
    {
     "name": "stdout",
     "output_type": "stream",
     "text": [
      "ADRA1A.ism \n",
      "\n",
      "COc1cccc(OC)c1OCCNC[C@@H]2C[S+]([O-])c3ccccc3O2 \n",
      " [2288, 2289] \n",
      "\n",
      "\n",
      "\n",
      "ADRA2A.ism \n",
      "\n",
      "COc1cccc(OC)c1OCCNC[C@@H]2C[S+]([O-])c3ccccc3O2 \n",
      " [632, 633] \n",
      "\n",
      "\n",
      "\n",
      "ADRA2B.ism \n",
      "\n",
      "COc1cccc(OC)c1OCCNC[C@@H]2C[S+]([O-])c3ccccc3O2 \n",
      " [573, 574] \n",
      "\n",
      "\n",
      "\n",
      "ADRA2C.ism \n",
      "\n",
      "COc1cccc(OC)c1OCCNC[C@@H]2C[S+]([O-])c3ccccc3O2 \n",
      " [595, 596] \n",
      "\n",
      "\n",
      "\n",
      "CHRM1.ism \n",
      "\n",
      "COc1ccc(cc1)[S+]([O-])c2ccc(cc2)C(C#N)C3CCN(CC3)C4CCCCC4 \n",
      " [569, 577] \n",
      "\n",
      "COc1ccc(cc1)[S+]([O-])c2ccc(cc2)C(=O)C3CCN(CC3)C4CCCCC4 \n",
      " [589, 598] \n",
      "\n",
      "COc1ccc(cc1)[S+]([O-])c2ccc(cc2)C(C#N)N3CCN(CC3)C4CCCCC4 \n",
      " [282, 564, 567] \n",
      "\n",
      "COc1ccc(cc1)[S+]([O-])c2ccc(cc2)C(=C)C3CCN(CC3)C4CCCCC4 \n",
      " [570, 588] \n",
      "\n",
      "\n",
      "\n",
      "CHRM2.ism \n",
      "\n",
      "COc1ccc(cc1)[S+]([O-])c2ccc(cc2)C(C#N)C3CCN(CC3)C4CCCCC4 \n",
      " [1561, 1571] \n",
      "\n",
      "COc1ccc(cc1)[S+]([O-])c2ccc(cc2)C(=O)C3CCN(CC3)C4CCCCC4 \n",
      " [1585, 1598] \n",
      "\n",
      "COc1ccc(cc1)[S+]([O-])c2ccc(cc2)C(C#N)N3CCN(CC3)C4CCCCC4 \n",
      " [1065, 1556, 1559] \n",
      "\n",
      "COc1ccc(cc1)[S+]([O-])c2ccc(cc2)C(=C)C3CCN(CC3)C4CCCCC4 \n",
      " [1562, 1584] \n",
      "\n",
      "[I-].C[N+](C)(C)C[C@@H]1C[S+]([O-])C(O1)(C2CCCCC2)C3CCCCC3 \n",
      " [696, 709] \n",
      "\n",
      "\n",
      "\n",
      "CHRM3.ism \n",
      "\n",
      "COc1ccc(cc1)[S+]([O-])c2ccc(cc2)C(C#N)C3CCN(CC3)C4CCCCC4 \n",
      " [1135, 1143] \n",
      "\n",
      "COc1ccc(cc1)[S+]([O-])c2ccc(cc2)C(=O)C3CCN(CC3)C4CCCCC4 \n",
      " [1157, 1169] \n",
      "\n",
      "COc1ccc(cc1)[S+]([O-])c2ccc(cc2)C(=C)C3CCN(CC3)C4CCCCC4 \n",
      " [1136, 1156] \n",
      "\n",
      "[I-].C[N+](C)(C)C[C@@H]1C[S+]([O-])C(O1)(C2CCCCC2)C3CCCCC3 \n",
      " [666, 679] \n",
      "\n",
      "\n",
      "\n",
      "CNR1.ism \n",
      "\n",
      "C[S+]([O-])Cc1ccc(C(=O)Nc2cccnc2C(=O)NCC3CCOCC3)c4ccccc14 \n",
      " [3509, 3566] \n",
      "\n",
      "\n",
      "\n",
      "DRD2.ism \n",
      "\n",
      "CN1C(=O)c2ccccc2[S+]([O-])c3ccc(cc13)C(=O)NCCc4cccs4 \n",
      " [6088, 6096] \n",
      "\n",
      "\n",
      "\n",
      "PTGS2.ism \n",
      "\n",
      "C[S+]([O-])c1ccc(cc1)C2=C(Oc3ccc(F)cc3F)C(=O)C=C(C)O2 \n",
      " [1857, 2069] \n",
      "\n",
      "\n",
      "\n",
      "TACR1.ism \n",
      "\n",
      "COc1cc(cc(OC)c1OC)C(=O)N2CCO[C@@](CCN3CCC4(CC3)[S+]([O-])Cc5ccccc45)(C2)c6ccc(Cl)c(Cl)c6 \n",
      " [248, 251] \n",
      "\n",
      "\n",
      "\n",
      "TBXA2R.ism \n",
      "\n",
      "OC(=O)CC\\C=C/CC[C@H]1[C@@H](C[S+]([O-])[C@@H]1c2cccnc2)OCc3ccc(cc3)c4ccccc4 \n",
      " [713, 715] \n",
      "\n",
      "\n",
      "\n"
     ]
    }
   ],
   "source": [
    "for key,val in sorted(class_dict.items()):\n",
    "    print(key,'\\n')\n",
    "    for k2,v2 in val.items():\n",
    "        print(k2,'\\n',v2,'\\n')\n",
    "    print('\\n')"
   ]
  }
 ],
 "metadata": {
  "kernelspec": {
   "display_name": "Python 3",
   "language": "python",
   "name": "python3"
  },
  "language_info": {
   "codemirror_mode": {
    "name": "ipython",
    "version": 3
   },
   "file_extension": ".py",
   "mimetype": "text/x-python",
   "name": "python",
   "nbconvert_exporter": "python",
   "pygments_lexer": "ipython3",
   "version": "3.5.4"
  }
 },
 "nbformat": 4,
 "nbformat_minor": 2
}
