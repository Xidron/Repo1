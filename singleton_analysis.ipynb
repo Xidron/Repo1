{
 "cells": [
  {
   "cell_type": "markdown",
   "metadata": {},
   "source": [
    "# Imports"
   ]
  },
  {
   "cell_type": "code",
   "execution_count": 1,
   "metadata": {
    "collapsed": false
   },
   "outputs": [],
   "source": [
    "#Imports - general\n",
    "import numpy as np\n",
    "\n",
    "#Imports - RDKit\n",
    "from rdkit.Chem import MolFromSmiles\n",
    "from rdkit.Chem.AllChem import GetMorganFingerprintAsBitVect\n",
    "from rdkit.DataStructs import DiceSimilarity\n",
    "\n",
    "#Imports - additional\n",
    "from os import listdir #for getting a list of files in a dir to process checkpoints"
   ]
  },
  {
   "cell_type": "markdown",
   "metadata": {},
   "source": [
    "---"
   ]
  },
  {
   "cell_type": "markdown",
   "metadata": {},
   "source": [
    "# Singletons"
   ]
  },
  {
   "cell_type": "code",
   "execution_count": 2,
   "metadata": {
    "collapsed": false
   },
   "outputs": [],
   "source": [
    "with open(\"receptors_descending.txt\", \"r\") as f:\n",
    "    receptors = [l.strip().split() for l in f.readlines()]"
   ]
  },
  {
   "cell_type": "code",
   "execution_count": 3,
   "metadata": {
    "collapsed": true
   },
   "outputs": [],
   "source": [
    "def read_ism_w_chembl(file_name):\n",
    "    ''' Parse an .ism file, returning a list of smiles of molecules '''\n",
    "    mol_list = []\n",
    "    chembl_list = []\n",
    "    with open(file_name, 'r') as f:\n",
    "        frl = f.readlines()\n",
    "    for line in frl:\n",
    "        line = line.strip().split('\\t')\n",
    "        smile = line[0]\n",
    "        chembl = line[1]\n",
    "        mol_list.append(smile)\n",
    "        chembl_list.append(chembl)\n",
    "    return mol_list, chembl_list"
   ]
  },
  {
   "cell_type": "code",
   "execution_count": 4,
   "metadata": {
    "collapsed": false
   },
   "outputs": [],
   "source": [
    "num_class = 73\n",
    "ism_path = 'data/targets/'\n",
    "mol_matrix = []\n",
    "chembl_matrix = []\n",
    "for line in receptors[:num_class]:\n",
    "    name = line[0]\n",
    "    mol_list, chembl_list = read_ism_w_chembl(ism_path + name)\n",
    "    mol_matrix.append(mol_list)\n",
    "    chembl_matrix.append(chembl_list)"
   ]
  },
  {
   "cell_type": "code",
   "execution_count": 5,
   "metadata": {
    "collapsed": false
   },
   "outputs": [],
   "source": [
    "def get_class_vectors_w_chembl(mol_matrix, chembl_matrix):\n",
    "    '''\n",
    "    \n",
    "    '''\n",
    "    cv_dict = {}\n",
    "    for i,l in enumerate(mol_matrix):\n",
    "        for j, smile in enumerate(l):\n",
    "            if smile not in cv_dict:\n",
    "                chembl_id = chembl_matrix[i][j]\n",
    "                mol = MolFromSmiles(smile)\n",
    "                labels = [0]*len(mol_matrix)\n",
    "                cv_dict[smile] = [mol, labels, chembl_id]\n",
    "            cv_dict[smile][1][i] = 1\n",
    "    return cv_dict"
   ]
  },
  {
   "cell_type": "code",
   "execution_count": 6,
   "metadata": {
    "collapsed": false
   },
   "outputs": [],
   "source": [
    "molecules = get_class_vectors_w_chembl(mol_matrix, chembl_matrix)"
   ]
  },
  {
   "cell_type": "code",
   "execution_count": 7,
   "metadata": {
    "collapsed": true
   },
   "outputs": [],
   "source": [
    "# Split the data into training and validation sets\n",
    "smiles, mols, labels, chembl_ids = [],[], [], []\n",
    "for key, val in molecules.items():\n",
    "    smiles.append(key) # [fingerprint]\n",
    "    mols.append(val[0])\n",
    "    labels.append(val[1]) # [label]\n",
    "    chembl_ids.append(val[2])\n",
    "smiles = np.array(smiles)\n",
    "mols = np.array(mols)\n",
    "labels = np.array(labels)\n",
    "chembl_ids = np.array(chembl_ids)"
   ]
  },
  {
   "cell_type": "markdown",
   "metadata": {},
   "source": [
    "### Select the singletons"
   ]
  },
  {
   "cell_type": "code",
   "execution_count": 8,
   "metadata": {
    "collapsed": true
   },
   "outputs": [],
   "source": [
    "unique_labels, unique_indices, unique_counts = np.unique(\n",
    "            ar=labels, return_index=True, return_counts=True, axis=0)\n",
    "\n",
    "singular_indices = unique_indices[unique_counts==1]\n",
    "\n",
    "smiles_os = smiles[singular_indices]\n",
    "mols_os = mols[singular_indices]\n",
    "labels_os = labels[singular_indices]\n",
    "chembl_os = chembl_ids[singular_indices]"
   ]
  },
  {
   "cell_type": "markdown",
   "metadata": {},
   "source": [
    "### Calculate similarity"
   ]
  },
  {
   "cell_type": "code",
   "execution_count": 9,
   "metadata": {
    "collapsed": true
   },
   "outputs": [],
   "source": [
    "def Calculate_DiceSimilarity(molecules):\n",
    "    fps = list(map(lambda x: GetMorganFingerprintAsBitVect(x,2), molecules))\n",
    "    \n",
    "    r = len(fps)\n",
    "    \n",
    "    similarity_matrix = np.zeros([r, r]) # fingerprint_matrix\n",
    "    similarity_matrix[range(r), range(r)] = 1.0\n",
    "    for i in range(r):\n",
    "        for j in range(i+1, r):\n",
    "            similarity_matrix[i,j] = similarity_matrix[j,i] = DiceSimilarity(fps[i], fps[j])\n",
    "\n",
    "    return similarity_matrix"
   ]
  },
  {
   "cell_type": "code",
   "execution_count": 10,
   "metadata": {
    "collapsed": false,
    "scrolled": false
   },
   "outputs": [],
   "source": [
    "dice = Calculate_DiceSimilarity(mols_os)"
   ]
  },
  {
   "cell_type": "markdown",
   "metadata": {},
   "source": [
    "### Save the resulting matrix to file"
   ]
  },
  {
   "cell_type": "code",
   "execution_count": 11,
   "metadata": {
    "collapsed": false
   },
   "outputs": [],
   "source": [
    "csv_lines = []\n",
    "over = 'CHEMBL id,'\n",
    "for i in range(len(chembl_os)):\n",
    "    over += ',{}'.format(i+1) \n",
    "over += '\\n'\n",
    "csv_lines.append(over)\n",
    "\n",
    "for i, row in enumerate(dice):\n",
    "    line = '{},{},'.format(chembl_os[i], i+1)\n",
    "    for j,item in enumerate(row):\n",
    "        rounded = str(round(item,3))\n",
    "        line += rounded\n",
    "        if j != len(row)-1:\n",
    "            line += ','\n",
    "    line += '\\n'\n",
    "    csv_lines.append(line)\n",
    "\n",
    "with open('test_save_1.csv','w') as f:\n",
    "    for line in csv_lines:\n",
    "        f.write(line)"
   ]
  },
  {
   "cell_type": "markdown",
   "metadata": {},
   "source": [
    "### Check how similar they are"
   ]
  },
  {
   "cell_type": "raw",
   "metadata": {},
   "source": [
    "Check how many pairs have similarity score key<=x<next_key.\n",
    "Numbers are double the actual value, as the matrix is symmetrical.\n",
    "The number of 1-s has been reduced by the 1-s on the diagonal (506)."
   ]
  },
  {
   "cell_type": "code",
   "execution_count": 87,
   "metadata": {
    "collapsed": false
   },
   "outputs": [],
   "source": [
    "flattened = dice.flatten()\n",
    "flat_sort = np.sort(flattened)[::-1]\n",
    "\n",
    "tmp_dict1 = {}\n",
    "points = [0,.1,.2,.3,.4,.5,.6,.7,.8,.9,1]\n",
    "for i in range(1,len(points)):\n",
    "    s = points[i-1]\n",
    "    e = points[i]\n",
    "    slice_1 = flat_sort[np.where(s<=flat_sort)]\n",
    "    slice_2 = slice_1[np.where(slice_1<e)]\n",
    "    tmp_dict1[s] = len(slice_2)//2\n",
    "tmp_dict1[1] = (len(flat_sort[np.where(flat_sort==1)])-506)//2"
   ]
  },
  {
   "cell_type": "code",
   "execution_count": 82,
   "metadata": {
    "collapsed": false
   },
   "outputs": [
    {
     "data": {
      "text/plain": [
       "True"
      ]
     },
     "execution_count": 82,
     "metadata": {},
     "output_type": "execute_result"
    }
   ],
   "source": [
    "check = 0\n",
    "for key, val in tmp_dict1.items():\n",
    "    check += val\n",
    "check == len(flat_sort)-506"
   ]
  },
  {
   "cell_type": "code",
   "execution_count": 83,
   "metadata": {
    "collapsed": false
   },
   "outputs": [
    {
     "data": {
      "text/plain": [
       "256036"
      ]
     },
     "execution_count": 83,
     "metadata": {},
     "output_type": "execute_result"
    }
   ],
   "source": [
    "len(flat_sort) # = 506**2"
   ]
  },
  {
   "cell_type": "code",
   "execution_count": 88,
   "metadata": {
    "collapsed": false,
    "scrolled": true
   },
   "outputs": [
    {
     "data": {
      "text/plain": [
       "{0: 4017,\n",
       " 0.1: 48677,\n",
       " 0.2: 55123,\n",
       " 0.3: 15767,\n",
       " 0.4: 2912,\n",
       " 0.5: 658,\n",
       " 0.6: 250,\n",
       " 0.7: 202,\n",
       " 0.8: 123,\n",
       " 0.9: 25,\n",
       " 1: 11}"
      ]
     },
     "execution_count": 88,
     "metadata": {},
     "output_type": "execute_result"
    }
   ],
   "source": [
    "tmp_dict1"
   ]
  },
  {
   "cell_type": "code",
   "execution_count": 89,
   "metadata": {
    "collapsed": false
   },
   "outputs": [
    {
     "data": {
      "text/plain": [
       "33"
      ]
     },
     "execution_count": 89,
     "metadata": {},
     "output_type": "execute_result"
    }
   ],
   "source": [
    "len(flat_sort[np.where(flat_sort==0)])//2"
   ]
  },
  {
   "cell_type": "markdown",
   "metadata": {
    "collapsed": true
   },
   "source": [
    "## 0.75<=x --> wszystkie do treningowego"
   ]
  },
  {
   "cell_type": "code",
   "execution_count": 17,
   "metadata": {
    "collapsed": false
   },
   "outputs": [
    {
     "data": {
      "text/plain": [
       "(array([  0,   1,   2, ..., 504, 505, 505]),\n",
       " array([  0,   1,   2, ..., 504, 397, 505]))"
      ]
     },
     "execution_count": 17,
     "metadata": {},
     "output_type": "execute_result"
    }
   ],
   "source": [
    "pair_indices = np.where(0.75<=dice)\n",
    "pair_indices"
   ]
  },
  {
   "cell_type": "code",
   "execution_count": 27,
   "metadata": {
    "collapsed": false
   },
   "outputs": [
    {
     "data": {
      "text/plain": [
       "(1018,)"
      ]
     },
     "execution_count": 27,
     "metadata": {},
     "output_type": "execute_result"
    }
   ],
   "source": [
    "pair_indices[0].shape"
   ]
  },
  {
   "cell_type": "raw",
   "metadata": {},
   "source": [
    "Are the resulting arrays indeed symmetrical?"
   ]
  },
  {
   "cell_type": "code",
   "execution_count": 49,
   "metadata": {
    "collapsed": false
   },
   "outputs": [
    {
     "data": {
      "text/plain": [
       "True"
      ]
     },
     "execution_count": 49,
     "metadata": {},
     "output_type": "execute_result"
    }
   ],
   "source": [
    "np.array_equal(np.sort(pair_indices[0]), np.sort(pair_indices[1]))"
   ]
  },
  {
   "cell_type": "markdown",
   "metadata": {},
   "source": [
    "### Remove the pairs along the diagonal."
   ]
  },
  {
   "cell_type": "code",
   "execution_count": 21,
   "metadata": {
    "collapsed": true
   },
   "outputs": [],
   "source": [
    "actual_pairs = [[],[]]\n",
    "for i in range(len(pair_indices[0])):\n",
    "    if pair_indices[0][i] != pair_indices[1][i]:\n",
    "        actual_pairs[0].append(pair_indices[0][i])\n",
    "        actual_pairs[1].append(pair_indices[1][i])\n",
    "actual_pairs = np.array(actual_pairs)"
   ]
  },
  {
   "cell_type": "code",
   "execution_count": 23,
   "metadata": {
    "collapsed": false
   },
   "outputs": [
    {
     "data": {
      "text/plain": [
       "(2, 512)"
      ]
     },
     "execution_count": 23,
     "metadata": {},
     "output_type": "execute_result"
    }
   ],
   "source": [
    "actual_pairs.shape # that's okay, this is the doubled number"
   ]
  },
  {
   "cell_type": "code",
   "execution_count": 44,
   "metadata": {
    "collapsed": false
   },
   "outputs": [
    {
     "data": {
      "text/plain": [
       "array([  3,  10,  15,  17,  18,  21,  23,  24,  26,  28,  46,  48,  62,\n",
       "        63,  66,  68,  69,  70,  71,  82,  83,  84,  85,  88,  90,  97,\n",
       "       104, 105, 106, 107, 111, 112, 113, 114, 122, 124, 127, 128, 129,\n",
       "       131, 135, 137, 142, 144, 145, 146, 147, 149, 161, 165, 166, 174,\n",
       "       175, 183, 186, 187, 189, 191, 196, 198, 201, 207, 208, 210, 211,\n",
       "       212, 214, 215, 218, 219, 220, 221, 223, 224, 227, 230, 231, 232,\n",
       "       234, 236, 241, 242, 243, 244, 248, 250, 251, 252, 257, 259, 260,\n",
       "       261, 263, 267, 269, 271, 272, 274, 275, 281, 283, 287, 288, 289,\n",
       "       292, 293, 294, 297, 298, 299, 300, 302, 303, 305, 310, 314, 315,\n",
       "       318, 321, 322, 324, 325, 326, 327, 328, 332, 334, 335, 336, 337,\n",
       "       339, 340, 342, 345, 348, 349, 350, 351, 352, 354, 355, 356, 358,\n",
       "       359, 360, 361, 362, 363, 364, 365, 366, 367, 368, 369, 370, 371,\n",
       "       372, 380, 381, 382, 384, 388, 389, 390, 391, 394, 395, 396, 397,\n",
       "       398, 400, 401, 403, 408, 411, 412, 413, 414, 418, 420, 421, 423,\n",
       "       425, 426, 427, 428, 430, 431, 432, 434, 435, 438, 441, 446, 447,\n",
       "       449, 450, 451, 453, 454, 455, 457, 458, 461, 463, 464, 465, 466,\n",
       "       469, 472, 473, 474, 478, 481, 482, 483, 484, 485, 487, 489, 490,\n",
       "       491, 492, 493, 494, 497, 498, 499, 500, 505])"
      ]
     },
     "execution_count": 44,
     "metadata": {},
     "output_type": "execute_result"
    }
   ],
   "source": [
    "np.unique(actual_pairs[0])"
   ]
  },
  {
   "cell_type": "markdown",
   "metadata": {},
   "source": [
    "# Repetitions"
   ]
  },
  {
   "cell_type": "code",
   "execution_count": 90,
   "metadata": {
    "collapsed": true
   },
   "outputs": [],
   "source": [
    "def read_ism_w_chembl(file_name):\n",
    "    ''' Parse an .ism file, returning a list of smiles of molecules '''\n",
    "    mol_list = []\n",
    "    chembl_list = []\n",
    "    with open(file_name, 'r') as f:\n",
    "        frl = f.readlines()\n",
    "    for line in frl:\n",
    "        line = line.strip().split('\\t')\n",
    "        smile = line[0]\n",
    "        chembl = line[1]\n",
    "        mol_list.append(smile)\n",
    "        chembl_list.append(chembl)\n",
    "    return mol_list, chembl_list"
   ]
  },
  {
   "cell_type": "code",
   "execution_count": 91,
   "metadata": {
    "collapsed": false
   },
   "outputs": [],
   "source": [
    "with open(\"receptors_descending.txt\", \"r\") as f:\n",
    "    receptors = [l.strip().split() for l in f.readlines()]"
   ]
  },
  {
   "cell_type": "code",
   "execution_count": 92,
   "metadata": {
    "collapsed": false
   },
   "outputs": [],
   "source": [
    "num_class = 73\n",
    "ism_path = 'data/targets/'\n",
    "mol_matrix = []\n",
    "chembl_matrix = []\n",
    "for line in receptors[:num_class]:\n",
    "    name = line[0]\n",
    "    mol_list, chembl_list = read_ism_w_chembl(ism_path + name)\n",
    "    mol_matrix.append(mol_list)\n",
    "    chembl_matrix.append(chembl_list)"
   ]
  },
  {
   "cell_type": "code",
   "execution_count": 93,
   "metadata": {
    "collapsed": false
   },
   "outputs": [],
   "source": [
    "class_dict = {}\n",
    "for target_i in range(73):\n",
    "    d_tmp = {}\n",
    "    d_final = {}\n",
    "    target = mol_matrix[target_i]\n",
    "    for line in range(len(target)):\n",
    "        smile = target[line]\n",
    "        ch_id = chembl_matrix[target_i][line]\n",
    "        line_id_tuple = (line+1, ch_id)\n",
    "        if smile not in d_tmp:\n",
    "            d_tmp[smile] = line_id_tuple\n",
    "        elif smile in d_final:\n",
    "            d_final[smile].append(line_id_tuple)\n",
    "        else:\n",
    "            d_final[smile] = [d_tmp[smile],line_id_tuple]\n",
    "    if d_final:\n",
    "        class_dict[receptors[target_i][0]] = d_final"
   ]
  },
  {
   "cell_type": "code",
   "execution_count": 94,
   "metadata": {
    "collapsed": true
   },
   "outputs": [],
   "source": [
    "repetitions_dict = {}\n",
    "for target,val in sorted(class_dict.items()):\n",
    "    \n",
    "    for smile,lines in val.items():\n",
    "        smile_val = (target,lines)\n",
    "        \n",
    "        if smile not in repetitions_dict:\n",
    "            repetitions_dict[smile] = [smile_val]\n",
    "        else:\n",
    "            repetitions_dict[smile].append((target,lines))"
   ]
  },
  {
   "cell_type": "code",
   "execution_count": 41,
   "metadata": {
    "collapsed": false
   },
   "outputs": [],
   "source": [
    "with open('repeated_molecules.txt','w') as f:\n",
    "    f.write(\"Format:\\nSmile\\n\\tfile\\n\\t\\tline_number -- CHEMBL_id\\n\\nLine numbers counted from 1, the same as when opening .ism files through Jupyter Notebook.\\n\\n\\n\")\n",
    "    \n",
    "    for smile,val in sorted(repetitions_dict.items()):\n",
    "        f.write(\"{}\\n\".format(smile))\n",
    "        for t_l_tuple in val:\n",
    "            f.write('\\t{}\\n'.format(t_l_tuple[0]))\n",
    "            for line in t_l_tuple[1]:\n",
    "                f.write('\\t\\t{} -- {}\\n'.format(line[0],line[1]))\n",
    "        f.write('\\n')"
   ]
  },
  {
   "cell_type": "code",
   "execution_count": 18,
   "metadata": {
    "collapsed": false,
    "scrolled": false
   },
   "outputs": [
    {
     "name": "stdout",
     "output_type": "stream",
     "text": [
      "ADRA1A.ism \n",
      "\n",
      "COc1cccc(OC)c1OCCNC[C@@H]2C[S+]([O-])c3ccccc3O2 \n",
      " [(2288, 'CHEMBL2114139'), (2289, 'CHEMBL2115166')] \n",
      "\n",
      "\n",
      "\n",
      "ADRA2A.ism \n",
      "\n",
      "COc1cccc(OC)c1OCCNC[C@@H]2C[S+]([O-])c3ccccc3O2 \n",
      " [(632, 'CHEMBL2114139'), (633, 'CHEMBL2115166')] \n",
      "\n",
      "\n",
      "\n",
      "ADRA2B.ism \n",
      "\n",
      "COc1cccc(OC)c1OCCNC[C@@H]2C[S+]([O-])c3ccccc3O2 \n",
      " [(573, 'CHEMBL2114139'), (574, 'CHEMBL2115166')] \n",
      "\n",
      "\n",
      "\n",
      "ADRA2C.ism \n",
      "\n",
      "COc1cccc(OC)c1OCCNC[C@@H]2C[S+]([O-])c3ccccc3O2 \n",
      " [(595, 'CHEMBL2114139'), (596, 'CHEMBL2115166')] \n",
      "\n",
      "\n",
      "\n",
      "CHRM1.ism \n",
      "\n",
      "COc1ccc(cc1)[S+]([O-])c2ccc(cc2)C(=C)C3CCN(CC3)C4CCCCC4 \n",
      " [(570, 'CHEMBL2115128'), (588, 'CHEMBL2114068')] \n",
      "\n",
      "COc1ccc(cc1)[S+]([O-])c2ccc(cc2)C(=O)C3CCN(CC3)C4CCCCC4 \n",
      " [(589, 'CHEMBL2115127'), (598, 'CHEMBL2114067')] \n",
      "\n",
      "COc1ccc(cc1)[S+]([O-])c2ccc(cc2)C(C#N)N3CCN(CC3)C4CCCCC4 \n",
      " [(282, 'CHEMBL73341'), (564, 'CHEMBL2114066'), (567, 'CHEMBL2111540')] \n",
      "\n",
      "COc1ccc(cc1)[S+]([O-])c2ccc(cc2)C(C#N)C3CCN(CC3)C4CCCCC4 \n",
      " [(569, 'CHEMBL2115126'), (577, 'CHEMBL2114064')] \n",
      "\n",
      "\n",
      "\n",
      "CHRM2.ism \n",
      "\n",
      "COc1ccc(cc1)[S+]([O-])c2ccc(cc2)C(=C)C3CCN(CC3)C4CCCCC4 \n",
      " [(1562, 'CHEMBL2115128'), (1584, 'CHEMBL2114068')] \n",
      "\n",
      "COc1ccc(cc1)[S+]([O-])c2ccc(cc2)C(=O)C3CCN(CC3)C4CCCCC4 \n",
      " [(1585, 'CHEMBL2115127'), (1598, 'CHEMBL2114067')] \n",
      "\n",
      "COc1ccc(cc1)[S+]([O-])c2ccc(cc2)C(C#N)N3CCN(CC3)C4CCCCC4 \n",
      " [(1065, 'CHEMBL73341'), (1556, 'CHEMBL2114066'), (1559, 'CHEMBL2111540')] \n",
      "\n",
      "COc1ccc(cc1)[S+]([O-])c2ccc(cc2)C(C#N)C3CCN(CC3)C4CCCCC4 \n",
      " [(1561, 'CHEMBL2115126'), (1571, 'CHEMBL2114064')] \n",
      "\n",
      "[I-].C[N+](C)(C)C[C@@H]1C[S+]([O-])C(O1)(C2CCCCC2)C3CCCCC3 \n",
      " [(696, 'CHEMBL2115422'), (709, 'CHEMBL2114973')] \n",
      "\n",
      "\n",
      "\n",
      "CHRM3.ism \n",
      "\n",
      "COc1ccc(cc1)[S+]([O-])c2ccc(cc2)C(=C)C3CCN(CC3)C4CCCCC4 \n",
      " [(1136, 'CHEMBL2115128'), (1156, 'CHEMBL2114068')] \n",
      "\n",
      "COc1ccc(cc1)[S+]([O-])c2ccc(cc2)C(=O)C3CCN(CC3)C4CCCCC4 \n",
      " [(1157, 'CHEMBL2115127'), (1169, 'CHEMBL2114067')] \n",
      "\n",
      "COc1ccc(cc1)[S+]([O-])c2ccc(cc2)C(C#N)C3CCN(CC3)C4CCCCC4 \n",
      " [(1135, 'CHEMBL2115126'), (1143, 'CHEMBL2114064')] \n",
      "\n",
      "[I-].C[N+](C)(C)C[C@@H]1C[S+]([O-])C(O1)(C2CCCCC2)C3CCCCC3 \n",
      " [(666, 'CHEMBL2115422'), (679, 'CHEMBL2114973')] \n",
      "\n",
      "\n",
      "\n",
      "CNR1.ism \n",
      "\n",
      "C[S+]([O-])Cc1ccc(C(=O)Nc2cccnc2C(=O)NCC3CCOCC3)c4ccccc14 \n",
      " [(3509, 'CHEMBL2316384'), (3566, 'CHEMBL2316383')] \n",
      "\n",
      "\n",
      "\n",
      "DRD2.ism \n",
      "\n",
      "CN1C(=O)c2ccccc2[S+]([O-])c3ccc(cc13)C(=O)NCCc4cccs4 \n",
      " [(6088, 'CHEMBL3234522'), (6096, 'CHEMBL3234544')] \n",
      "\n",
      "\n",
      "\n",
      "PTGS2.ism \n",
      "\n",
      "C[S+]([O-])c1ccc(cc1)C2=C(Oc3ccc(F)cc3F)C(=O)C=C(C)O2 \n",
      " [(1857, 'CHEMBL209883'), (2069, 'CHEMBL2096836')] \n",
      "\n",
      "\n",
      "\n",
      "TACR1.ism \n",
      "\n",
      "COc1cc(cc(OC)c1OC)C(=O)N2CCO[C@@](CCN3CCC4(CC3)[S+]([O-])Cc5ccccc45)(C2)c6ccc(Cl)c(Cl)c6 \n",
      " [(248, 'CHEMBL2114963'), (251, 'CHEMBL2115415')] \n",
      "\n",
      "\n",
      "\n",
      "TBXA2R.ism \n",
      "\n",
      "OC(=O)CC\\C=C/CC[C@H]1[C@@H](C[S+]([O-])[C@@H]1c2cccnc2)OCc3ccc(cc3)c4ccccc4 \n",
      " [(713, 'CHEMBL2115518'), (715, 'CHEMBL2115559')] \n",
      "\n",
      "\n",
      "\n"
     ]
    }
   ],
   "source": [
    "for key,val in sorted(class_dict.items()):\n",
    "    print(key,'\\n')\n",
    "    for k2,v2 in val.items():\n",
    "        print(k2,'\\n',v2,'\\n')\n",
    "    print('\\n')"
   ]
  }
 ],
 "metadata": {
  "kernelspec": {
   "display_name": "Python 3",
   "language": "python",
   "name": "python3"
  },
  "language_info": {
   "codemirror_mode": {
    "name": "ipython",
    "version": 3
   },
   "file_extension": ".py",
   "mimetype": "text/x-python",
   "name": "python",
   "nbconvert_exporter": "python",
   "pygments_lexer": "ipython3",
   "version": "3.5.4"
  }
 },
 "nbformat": 4,
 "nbformat_minor": 2
}
