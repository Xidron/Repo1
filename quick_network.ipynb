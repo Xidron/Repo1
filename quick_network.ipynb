{
 "cells": [
  {
   "cell_type": "raw",
   "metadata": {},
   "source": [
    "0.5 - próg odcięcia\n",
    "opisać za pomocą sum TP, FP, TN, FN\n",
    "to zupełnie zewnętrzny dataset\n",
    "trudne cząsteczki\n",
    "wykres - krzywa ROC (sckikit learn) - wyrysować + pole powierzchni pod tą krzywą\n",
    "wniosek - im bardziej wygięta do lewego górnego rogu tym lepiej (im większe pole powierzchni)\n",
    "w zbiorze testowym bardzo mało przykładów pozytywnych (ile względem negatywnych)\n",
    "\n",
    ").mean(axis=0) - średnia dla każdej klasy  + wykres tego (bar) <-- tylko dla leków\n",
    "^.mean() - średnia po klasach / średnie accuracy"
   ]
  },
  {
   "cell_type": "code",
   "execution_count": 2,
   "metadata": {
    "collapsed": false
   },
   "outputs": [],
   "source": [
    "#Imports - general\n",
    "import random\n",
    "random.seed(15)\n",
    "import tensorflow as tf\n",
    "import numpy as np\n",
    "import pandas as pd\n",
    "import matplotlib.pyplot as plt\n",
    "import seaborn as sns\n",
    "sns.set_style('whitegrid')\n",
    "sns.set_context('paper')\n",
    "from math import ceil, sqrt\n",
    "#import sklearn\n",
    "from sklearn.metrics import f1_score, roc_curve, auc, precision_score, accuracy_score\n",
    "from sklearn.model_selection import train_test_split\n",
    "from scipy.stats import pearsonr\n",
    "%matplotlib inline\n",
    "\n",
    "#Imports - RDKit\n",
    "from rdkit.Chem import MolFromSmiles\n",
    "from rdkit.Chem.AllChem import GetMorganFingerprintAsBitVect\n",
    "from rdkit.Chem.rdMolDescriptors import *\n",
    "\n",
    "#Imports - additional\n",
    "from os import listdir #for getting a list of files in a dir to process checkpoints\n",
    "import time # for real-time timing the progress of the network\n",
    "\n",
    "path = 'data/targets/'   #path to .ism files\n",
    "batch_number = 0\n",
    "#Get the list of filenames in data/targets/\n",
    "#ordered by the size of class, descending:\n",
    "with open(\"receptors_descending.txt\", \"r\") as f:\n",
    "    receptors = [l.strip().split() for l in f.readlines()]\n",
    "#receptors[:5]\n",
    "\n",
    "#---\n",
    "\n",
    "# Functions\n",
    "\n",
    "## Preparing the dataset\n",
    "\n",
    "def read_ism(file_name):\n",
    "    ''' Parse an .ism file, returning a list of smiles of molecules '''\n",
    "    mol_list = []\n",
    "    with open(file_name, 'r') as f:\n",
    "        frl = f.readlines()\n",
    "    for line in frl:\n",
    "        line = line.split('\\t')\n",
    "        smile = line[0]\n",
    "        mol_list.append(smile)\n",
    "    return mol_list\n",
    "\n",
    "#### Creating molecule representations\n",
    "\n",
    "def get_class_vectors(mol_matrix, rType = 'fingerprint', f_size=2048):\n",
    "    ''' For each molecule in the array (list of lists):\n",
    "        create its vector representation for training (fingerprint/descriptor/mixed)\n",
    "        and a binary vector showing which classes it belongs to.\n",
    "        f_size - length of the fingerprint\n",
    "    '''\n",
    "    cv_dict = {}\n",
    "    for i,l in enumerate(mol_matrix):\n",
    "        for smile in l:\n",
    "            if smile not in cv_dict:\n",
    "                \n",
    "                mol = MolFromSmiles(smile)\n",
    "                if rType == 'fingerprint':\n",
    "                    rep = fingerprint(mol, f_size)\n",
    "                elif rType == 'descriptor':\n",
    "                    rep = descriptor(mol)\n",
    "                else: # both representations\n",
    "                    rep = descriptor(mol) + list(fingerprint(mol,f_size))\n",
    "                \n",
    "                labels = [0]*len(mol_matrix)\n",
    "                cv_dict[smile] = [rep, labels]\n",
    "            cv_dict[smile][1][i] = 1\n",
    "    # Normalize descriptors\n",
    "    if rType != 'fingerprint':\n",
    "        matrix_to_norm = []\n",
    "        for vals in cv_dict.values():\n",
    "            matrix_to_norm.append(vals[0][:37])\n",
    "        matrix_to_norm = np.array(matrix_to_norm)\n",
    "        v_min = matrix_to_norm.min(axis=0)\n",
    "        v_max = matrix_to_norm.max(axis=0) - v_min\n",
    "        \n",
    "        for key in cv_dict.keys():\n",
    "            for i in range(37):\n",
    "                normed_val = (cv_dict[key][0][i] - v_min[i]) / v_max[i]\n",
    "                cv_dict[key][0][i] = normed_val\n",
    "        \n",
    "    return cv_dict\n",
    "\n",
    "def fingerprint(mol, f_size=2048):\n",
    "    return GetMorganFingerprintAsBitVect(mol,2,f_size)\n",
    "\n",
    "def descriptor(mol):\n",
    "    functions = [CalcChi0n,\n",
    "            CalcChi0v,\n",
    "            CalcChi1n,\n",
    "            CalcChi1v,\n",
    "            CalcChi2n,\n",
    "            CalcChi2v,\n",
    "            CalcChi3n,\n",
    "            CalcChi3v,\n",
    "            CalcChi4n,\n",
    "            CalcChi4v,\n",
    "            CalcExactMolWt,\n",
    "            CalcFractionCSP3,\n",
    "            CalcHallKierAlpha,\n",
    "            CalcKappa1,\n",
    "            CalcKappa2,\n",
    "            CalcKappa3,\n",
    "            CalcLabuteASA,\n",
    "            CalcNumAliphaticCarbocycles,\n",
    "            CalcNumAliphaticHeterocycles,\n",
    "            CalcNumAliphaticRings,\n",
    "            CalcNumAmideBonds,\n",
    "            CalcNumAromaticCarbocycles,\n",
    "            CalcNumAromaticHeterocycles,\n",
    "            CalcNumAromaticRings,\n",
    "            CalcNumBridgeheadAtoms,\n",
    "            CalcNumHBA,\n",
    "            CalcNumHBD,\n",
    "            CalcNumHeteroatoms,\n",
    "            CalcNumHeterocycles,\n",
    "            CalcNumLipinskiHBA,\n",
    "            CalcNumLipinskiHBD,\n",
    "            CalcNumRings,\n",
    "            CalcNumSaturatedCarbocycles,\n",
    "            CalcNumSaturatedHeterocycles,\n",
    "            CalcNumSaturatedRings,\n",
    "            CalcNumSpiroAtoms,\n",
    "            CalcTPSA]\n",
    "        \n",
    "    descriptors = []\n",
    "    for function in functions:\n",
    "        descriptors.append(function(mol))\n",
    "    return descriptors\n",
    "\n",
    "def prepare_sets(mol_matrix, val_prc=0.25, rType='fingerprint', f_size=2048):\n",
    "    ''' Create training and validation sets with labels from an array of smiles\n",
    "        rType - type of representation - fingerprint/descriptor/mixed\n",
    "        f_size - size of the fingerprint if rType is fingerprint or mixed '''\n",
    "    # Create a representation and a class vector for each molecule\n",
    "    molecules = get_class_vectors(mol_matrix,rType,f_size)\n",
    "\n",
    "    # Split the data into training and validation sets\n",
    "    mts=[[],[]]\n",
    "    for val in molecules.values():\n",
    "        mts[0].append(val[0]) # [fingerprint]\n",
    "        mts[1].append(val[1]) # [label]\n",
    "\n",
    "    molecules_split = train_test_split(mts[0], mts[1], test_size=val_prc, random_state=15)\n",
    "\n",
    "    # Validation set:\n",
    "    #     a list of representations (mols) and\n",
    "    #     a list of corresponding class vectors (labels)\n",
    "    val_mols = np.array(molecules_split[1])\n",
    "    val_labels = np.array(molecules_split[3])\n",
    "    # Training set:\n",
    "    train_set = [[],[]]\n",
    "    train_set[0] = np.array(molecules_split[0])\n",
    "    train_set[1] = np.array(molecules_split[2])\n",
    "    \n",
    "    return train_set, val_mols, val_labels\n",
    "\n",
    "## Neuron layers\n",
    "\n",
    "def neuron_layer(isize, hsize, prev_layer):\n",
    "    ''' Create a single neuron layer - weight, bias, placeholder '''\n",
    "    # weights and biases\n",
    "    w = tf.Variable(tf.random_normal((isize, hsize), stddev=1/sqrt(isize)))\n",
    "    b = tf.Variable(tf.random_normal((hsize,), stddev=0.1))\n",
    "    # neuron\n",
    "    h = tf.nn.relu(tf.matmul(prev_layer, w) + b)\n",
    "    return w,b,h\n",
    "\n",
    "def setup_layers(layers, osize, isize=2048):\n",
    "    ''' Create placeholders, weights and biases for all requested layers '''\n",
    "    x = tf.placeholder(tf.float32, shape=[None,isize])\n",
    "    active_layers = {'x':x,'w':[],'b':[],'h':[]}\n",
    "    \n",
    "    for i in range(len(layers)):\n",
    "        if i == 0:\n",
    "            w,b,h = neuron_layer(isize, layers[i], x)\n",
    "        else:\n",
    "            w,b,h = neuron_layer(layers[i-1], layers[i], prev_h)\n",
    "        active_layers['w'].append(w)\n",
    "        active_layers['b'].append(b)\n",
    "        active_layers['h'].append(h)\n",
    "        prev_h = h\n",
    "    \n",
    "    # Output Layer\n",
    "    wo = tf.Variable(tf.random_normal((layers[-1], osize), stddev=1/sqrt(layers[-1])))\n",
    "    bo = tf.Variable(tf.random_normal((osize,), stddev=0.1))\n",
    "    a = tf.matmul(h, wo) + bo #h is the one last initialized in the loop > of the last layer\n",
    "    \n",
    "    # Placeholder for targets\n",
    "    t = tf.placeholder(tf.float32, shape=[None, osize])\n",
    "    \n",
    "    active_layers['out'] = [wo,bo,a,t]\n",
    "    return active_layers\n",
    "\n",
    "## Training functions\n",
    "\n",
    "def next_batch(data, size): #data = [[fingerprints], [labels]]\n",
    "    ''' Extract the next batch from a dataset.\n",
    "        If dataset size is not dividable by batch size with reminder 0,\n",
    "       the last full batch and the remaining incomplete batch will be merged \n",
    "       to incorporate all data.'''\n",
    "    global batch_number\n",
    "    if batch_number == len(data[0])//size-1:\n",
    "        #the last batch may be larger to incorporate all data\n",
    "        # -1 because the first batch number is 0\n",
    "        start = batch_number*size\n",
    "        batch_number = 0\n",
    "        return data[0][start:], data[1][start:]\n",
    "    start = batch_number*size\n",
    "    batch_number += 1\n",
    "    return data[0][start:start+size], data[1][start:start+size]\n",
    "\n",
    "def shuffle_data(data):\n",
    "    '''Used to shuffle the training set after an epoch'''\n",
    "    indices = list(range(len(data[0])))\n",
    "    random.shuffle(indices)\n",
    "    new_data = [data[0][indices], data[1][indices]]\n",
    "    return new_data\n",
    "\n",
    "def timer(start,end):\n",
    "    ''' For timing the training of the network '''\n",
    "    hours, rem = divmod(end-start, 3600)\n",
    "    minutes, seconds = divmod(rem, 60)\n",
    "    return \"{:0>2}:{:0>2}:{:0>2}\".format(int(hours),int(minutes),int(seconds))\n",
    "\n",
    "def tf_fractions(a1, a2):\n",
    "    ''' Calculate true/false positives/negatives in a2 based on a1\n",
    "        for each class seperately. '''\n",
    "    num_class = len(a1[0]) #number of classes\n",
    "    tp = np.array([0] * num_class)\n",
    "    fn = np.array([0] * num_class)\n",
    "    tn = np.array([0] * num_class)\n",
    "    fp = np.array([0] * num_class)\n",
    "    for i in range(num_class):\n",
    "        for j in range(len(a1)):\n",
    "            if a2[j][i] == a1[j][i]:\n",
    "                if a1[j][i] == 1:\n",
    "                    tp[i] += 1\n",
    "                else:\n",
    "                    tn[i] += 1\n",
    "            else:\n",
    "                if a1[j][i] == 1:\n",
    "                    fn[i] += 1\n",
    "                else:\n",
    "                    fp[i] += 1\n",
    "    return [tp,fn,tn,fp]\n",
    "\n",
    "def train_network(data, batch_size, epochs, verbose=True, save=True):\n",
    "    ''' This function trains the network, returning the rate of training and validation accuracy '''\n",
    "    # Variables:\n",
    "    global start, train, val_pred, batch_number\n",
    "    iterations = len(data[0]) // batch_size * epochs\n",
    "    if verbose: print(iterations, ' iterations')\n",
    "    tr_rate = []\n",
    "    val_rate = []\n",
    "    f1 = [[],[],[]]\n",
    "    tf_frac = []\n",
    "    batch_number = 0\n",
    "    save_step=0\n",
    "    # Training:\n",
    "    with tf.Session() as session:\n",
    "        session.run(tf.initialize_all_variables())\n",
    "\n",
    "        if save:\n",
    "            saver.save(session, \"tmp/checkpoint\", global_step=save_step)\n",
    "        \n",
    "        # Train the network\n",
    "        for i in range(iterations):\n",
    "            if i != 0 and batch_number == 0:\n",
    "                data = shuffle_data(data)\n",
    "            \n",
    "            mols, labels = next_batch(data, batch_size)\n",
    "            \n",
    "            session.run(train, feed_dict={x: mols, t: labels})\n",
    "            \n",
    "            # Display progress and make a checkpoint\n",
    "            if i == 0 or (i+1)%(iterations//10) == 0:\n",
    "                if save:\n",
    "                    save_step += 1\n",
    "                    saver.save(session, \"tmp/checkpoint\", global_step = save_step)\n",
    "                if verbose:\n",
    "                    progress = int((i+1)/(iterations//10))*10\n",
    "                    now = timer(start,time.time())\n",
    "                    print(\"%3i\" % progress + '%, ' + str(now))                \n",
    "            \n",
    "            # Validate predictions\n",
    "            if i % 200 == 0 or i == iterations-1:\n",
    "                \n",
    "                tr_target = labels\n",
    "                tr_predictions = session.run(predict, feed_dict={x: mols, t: labels})\n",
    "                tr_rate.append((tr_target == tr_predictions).all(axis=1).mean())\n",
    "\n",
    "                val_predictions = session.run(predict, feed_dict={x: val_mols, t: val_labels})\n",
    "                val_rate.append((val_labels == val_predictions).all(axis=1).mean())\n",
    "                \n",
    "                \n",
    "                f1[0].append(f1_score(val_labels, val_predictions, average='micro'))\n",
    "                f1[1].append(f1_score(val_labels, val_predictions, average='macro'))\n",
    "                f1[2].append(f1_score(val_labels, val_predictions, average='weighted'))\n",
    "                \n",
    "        tf_frac = tf_fractions(val_labels,val_predictions)\n",
    "        # Final checkpoint\n",
    "        if save:\n",
    "            saver.save(session, \"tmp/checkpoint\", global_step=save_step+1)\n",
    "    return tr_rate, val_rate, f1, tf_frac\n",
    "\n",
    "def filename_gen(plot_type='', path=''):\n",
    "    ''' Generate filename for a plot. '''\n",
    "    if plot_type != '':\n",
    "        plot_type += '_'\n",
    "    filename = plot_type\n",
    "    layers_str = \"{}'{}\".format(len(layers),max(layers))\n",
    "    filename += \"{}_{}_{}_{:>6}_{}_{}_{:.4}_{}\".format(\n",
    "                num_class, f_size, layers_str, learning_rate, batch_size, epochs, max(val_rate), rType)\n",
    "    filename = filename.replace(\".\",\"'\")\n",
    "    filename = filename.replace(\" \",\"_\")\n",
    "    filename = path + filename + \".pdf\"\n",
    "    return filename\n",
    "\n",
    "def save_accuracy_plot(tr_rate, save=True, path=\"plots/\"):\n",
    "    ''' Draws and saves a plot which displays changes of accuracy \n",
    "        during training for training and validation sets. '''\n",
    "    plt.close()\n",
    "    fig = plt.figure()\n",
    "    ax = fig.add_subplot(111)\n",
    "    \n",
    "    x = [i*200 for i in range(len(tr_rate))]\n",
    "    ax.plot(x,tr_rate, label='trening')\n",
    "    ax.plot(x,val_rate, label='walidacja')\n",
    "    ax.legend(loc=5)\n",
    "    ax.set_ylabel('Dokładność')\n",
    "    ax.set_xlabel('Krok')\n",
    "    plt.ylim([0,1])\n",
    "    vals = ax.get_yticks()\n",
    "    ax.set_yticklabels(['{:3.0f}%'.format(x*100) for x in vals])\n",
    "    \n",
    "    title = \"Cele terapeutyczne: {:2}, Szybkość uczenia: {}\\nWarstwy: {}, Rozmiar batcha: {}, Liczba epok: {}\".format(\n",
    "        num_class, learning_rate, layers, batch_size, epochs)\n",
    "    plt.title(title);\n",
    "    \n",
    "    if save:\n",
    "        filename = filename_gen('',path)\n",
    "        plt.savefig(filename);\n",
    "\n",
    "def save_f1_plot(f1, save=True, path=\"plots/\"):\n",
    "    ''' Draws and saves a plot which displays changes of F1-score\n",
    "        during training for the validation set.\n",
    "        F1 calculated and drawn in three types of averaging. '''\n",
    "    plt.close()\n",
    "    fig = plt.figure()\n",
    "    x = [i*200 for i in range(len(f1[0]))]\n",
    "    ax = fig.add_subplot(111)\n",
    "    \n",
    "    ax.plot(x,f1[0], label='F1 micro')\n",
    "    ax.plot(x,f1[1], label='F1 macro')\n",
    "    ax.plot(x,f1[2], label='F1 ważone')\n",
    "    ax.legend(loc=7)\n",
    "    ax.set_ylabel('F1')\n",
    "    ax.set_xlabel('Krok')\n",
    "    plt.ylim([0,1])\n",
    "    vals = ax.get_yticks()\n",
    "    ax.set_yticklabels(['{:3.0f}%'.format(x*100) for x in vals])\n",
    "    \n",
    "    title = \"Cele terapeutyczne: {:2}, Szybkość uczenia: {}\\nWarstwy: {}, Rozmiar batcha: {}, Liczba epok: {}\".format(\n",
    "        num_class, learning_rate, layers, batch_size, epochs)\n",
    "    plt.title(title);\n",
    "    \n",
    "    if save:\n",
    "        filename = filename_gen('f1',path)\n",
    "        plt.savefig(filename);\n",
    "\n",
    "def save_tf_fractions_plot(tff, save=True, path='plots/'):\n",
    "    ''' Draws and saves a histogram of true/false positive/negative fractions:\n",
    "        True Positive rate, False Positive Rate, False Negative Rate and\n",
    "        False Discovery Rate.\n",
    "        True Negative Rate not included due to having values indistinguishably\n",
    "        close to 100%; however, TNR = 100% - FPR, and the FPR histogram is more\n",
    "        visually clear. '''\n",
    "    plt.close()\n",
    "    fig = plt.figure()\n",
    "    subplots = [fig.add_subplot(221), fig.add_subplot(222),\n",
    "                fig.add_subplot(223), fig.add_subplot(224)]\n",
    "    titles = ['Odsetek prawdziwie pozytywnych', 'Odsetek fałszywie pozytywnych',\n",
    "              'Odsetek fałszywie negatywnych', 'Odsetek fałszywych odkryć']\n",
    "    rate_values = [tff[0]/(tff[0]+tff[1]), tff[3]/(tff[2]+tff[3]),\n",
    "                   tff[1]/(tff[0]+tff[1]), tff[3]/(tff[0]+tff[3])]\n",
    "    xlabel = 'Cele terapeutyczne'\n",
    "    xrange = range(1,len(tff[0])+1)\n",
    "    \n",
    "    for i, ax in enumerate(subplots):\n",
    "        ax.bar(xrange, rate_values[i])\n",
    "        ax.set_title(titles[i])\n",
    "        ax.set_xlabel(xlabel)\n",
    "        ax.set_xticks([])\n",
    "        ax.set_xlim([0,num_class+2])\n",
    "        vals = ax.get_yticks()\n",
    "        if i == 1: #false positive rate is very small\n",
    "            ax.set_yticklabels(['{:3.2f}%'.format(x*100) for x in vals])\n",
    "        else:\n",
    "            ax.set_yticklabels(['{:3.0f}%'.format(x*100) for x in vals])\n",
    "    \n",
    "    plt.tight_layout()\n",
    "    title = \"Cele terapeutyczne: {:2}, Szybkość uczenia: {}\\nWarstwy: {}, Rozmiar batcha: {}, Liczba epok: {}\".format(\n",
    "        num_class, learning_rate, layers, batch_size, epochs)\n",
    "    fig.suptitle(title)\n",
    "    fig.subplots_adjust(top=0.85)\n",
    "    \n",
    "    if save:\n",
    "        filename = filename_gen('tff',path)\n",
    "        plt.savefig(filename)\n",
    "        \n",
    "import pickle\n",
    "\n",
    "def load_var(name):\n",
    "    with open(name,'rb') as f:\n",
    "        return pickle.load(f)\n",
    "\n",
    "def save_var(name,var):\n",
    "    with open(name,'wb') as f:\n",
    "        pickle.dump(var,f)"
   ]
  },
  {
   "cell_type": "markdown",
   "metadata": {},
   "source": [
    "# Uwagi"
   ]
  },
  {
   "cell_type": "raw",
   "metadata": {},
   "source": [
    "len(desc) = 37"
   ]
  },
  {
   "cell_type": "raw",
   "metadata": {},
   "source": [
    "with_repetitions = 122644\n",
    "total_molecules  =  82957\n",
    "unique_molecules =  56735\n",
    "shared_molecules =  26222\n",
    "122644 - 82957   =  39687"
   ]
  },
  {
   "cell_type": "raw",
   "metadata": {},
   "source": [
    "val_rate - procent dobrze sklasyfikowanych czasteczek w zbiorze walidacyjnym; w procentach!!!\n",
    "cele terapeutyczne / klasy aktywnosci\n",
    "opisy do legendy:\n",
    "    tf_frac - ze na osi x sa klasy w malejacej kolejnosci i odnosnik do tabelki: klasa - max(val_rate)\n",
    "        \"kazdy slupek odpowiada jednemu celowi terapeutycznemu\"\n",
    "        nie przedstawiono \"true negative rate\" poniewaz dla wszystkich klas jest bardzo bliskie 100% i jest rowne 100%-\"false positive rate\"\n",
    "    \n",
    "tabelka - jedna, dla najlepszej sieci\n",
    "    klasa - licznosc, max(val_rate), wszystko z wykresu tf_frac,"
   ]
  },
  {
   "cell_type": "markdown",
   "metadata": {},
   "source": [
    "---"
   ]
  },
  {
   "cell_type": "code",
   "execution_count": 3,
   "metadata": {
    "collapsed": false
   },
   "outputs": [
    {
     "ename": "NameError",
     "evalue": "name 'drug_labels' is not defined",
     "output_type": "error",
     "traceback": [
      "\u001b[0;31m---------------------------------------------------------------------------\u001b[0m",
      "\u001b[0;31mNameError\u001b[0m                                 Traceback (most recent call last)",
      "\u001b[0;32m<ipython-input-3-723884b7f890>\u001b[0m in \u001b[0;36m<module>\u001b[0;34m()\u001b[0m\n\u001b[1;32m      1\u001b[0m \u001b[0mcounts\u001b[0m \u001b[0;34m=\u001b[0m \u001b[0;34m{\u001b[0m\u001b[0;34m}\u001b[0m\u001b[0;34m\u001b[0m\u001b[0m\n\u001b[1;32m      2\u001b[0m \u001b[0mi\u001b[0m \u001b[0;34m=\u001b[0m \u001b[0;36m0\u001b[0m\u001b[0;34m\u001b[0m\u001b[0m\n\u001b[0;32m----> 3\u001b[0;31m \u001b[0;32mfor\u001b[0m \u001b[0ml\u001b[0m \u001b[0;32min\u001b[0m \u001b[0mdrug_labels\u001b[0m\u001b[0;34m:\u001b[0m\u001b[0;34m\u001b[0m\u001b[0m\n\u001b[0m\u001b[1;32m      4\u001b[0m     \u001b[0;32mif\u001b[0m \u001b[0msum\u001b[0m\u001b[0;34m(\u001b[0m\u001b[0ml\u001b[0m\u001b[0;34m)\u001b[0m \u001b[0;32mnot\u001b[0m \u001b[0;32min\u001b[0m \u001b[0mcounts\u001b[0m\u001b[0;34m:\u001b[0m\u001b[0;34m\u001b[0m\u001b[0m\n\u001b[1;32m      5\u001b[0m         \u001b[0mcounts\u001b[0m\u001b[0;34m[\u001b[0m\u001b[0msum\u001b[0m\u001b[0;34m(\u001b[0m\u001b[0ml\u001b[0m\u001b[0;34m)\u001b[0m\u001b[0;34m]\u001b[0m \u001b[0;34m=\u001b[0m \u001b[0;36m0\u001b[0m\u001b[0;34m\u001b[0m\u001b[0m\n",
      "\u001b[0;31mNameError\u001b[0m: name 'drug_labels' is not defined"
     ]
    }
   ],
   "source": [
    "counts = {}\n",
    "i = 0\n",
    "for l in drug_labels:\n",
    "    if sum(l) not in counts:\n",
    "        counts[sum(l)] = 0\n",
    "    counts[sum(l)] += 1\n",
    "counts"
   ]
  },
  {
   "cell_type": "code",
   "execution_count": 4,
   "metadata": {
    "collapsed": true
   },
   "outputs": [],
   "source": [
    "num_class = 73\n",
    "rType = 'fingerprint'\n",
    "f_size = 4096\n",
    "layers = [800,800]\n",
    "learning_rate = 0.001\n",
    "lr_rate = learning_rate\n",
    "batch_size = 50\n",
    "epochs = 10"
   ]
  },
  {
   "cell_type": "code",
   "execution_count": 5,
   "metadata": {
    "collapsed": false,
    "scrolled": true
   },
   "outputs": [
    {
     "data": {
      "image/png": "[encoded data removed]",
      "text/plain": [
       "<Figure size 432x288 with 1 Axes>"
      ]
     },
     "metadata": {},
     "output_type": "display_data"
    }
   ],
   "source": [
    "#''' Wykres liczności klas '''\n",
    "plt.close()\n",
    "#plt.bar(range(73),[int(x[1]) for x in receptors])\n",
    "\n",
    "fig = plt.figure()\n",
    "\n",
    "ax1 = fig.add_subplot(111)\n",
    "ax1.bar(range(73),[int(x[1]) for x in receptors])\n",
    "ax1.set_title('Liczność klas')\n",
    "ax1.set_ylabel('Liczba związków')\n",
    "ax1.set_xlabel('Cele terapeutyczne')\n",
    "ax1.set_xticks([]);"
   ]
  },
  {
   "cell_type": "markdown",
   "metadata": {},
   "source": [
    "---"
   ]
  },
  {
   "cell_type": "code",
   "execution_count": 2,
   "metadata": {
    "collapsed": false
   },
   "outputs": [],
   "source": [
    "with open('data/drug_targets_untrained.csv') as f: #or data/drug_targets.csv\n",
    "    drug_targets = [l.strip().split(',') for l in f.readlines()[1:]]\n",
    "class_to_smiles = {}\n",
    "for l in drug_targets:\n",
    "    if l[2] not in class_to_smiles.keys():\n",
    "        class_to_smiles[l[2]] = []\n",
    "    class_to_smiles[l[2]].append(l[4])\n",
    "\n",
    "targets = [l[0].strip('.ism') for l in receptors]\n",
    "\n",
    "drug_mol_matrix = [[]]*73\n",
    "for k, v in class_to_smiles.items():\n",
    "    drug_mol_matrix[targets.index(k)] = v\n",
    "\n",
    "cv_dict = get_class_vectors(drug_mol_matrix, f_size=4096)\n",
    "drug_mols, drug_labels = [], []\n",
    "for v in cv_dict.values():\n",
    "    drug_mols.append(v[0])\n",
    "    drug_labels.append(v[1])\n",
    "drug_mols, drug_labels = np.array(drug_mols), np.array(drug_labels)"
   ]
  },
  {
   "cell_type": "code",
   "execution_count": 3,
   "metadata": {
    "collapsed": false
   },
   "outputs": [
    {
     "name": "stderr",
     "output_type": "stream",
     "text": [
      "/home/maks/anaconda3/envs/deep_learning/lib/python3.5/site-packages/sklearn/metrics/classification.py:1113: UndefinedMetricWarning: F-score is ill-defined and being set to 0.0 in labels with no predicted samples.\n",
      "  'precision', 'predicted', average, warn_for)\n",
      "/home/maks/anaconda3/envs/deep_learning/lib/python3.5/site-packages/sklearn/metrics/classification.py:1115: UndefinedMetricWarning: F-score is ill-defined and being set to 0.0 in labels with no true samples.\n",
      "  'recall', 'true', average, warn_for)\n"
     ]
    }
   ],
   "source": [
    "tf.reset_default_graph()\n",
    "tf.set_random_seed(15)\n",
    "random.seed(15)\n",
    "# Automatic network variables\n",
    "isize = 4096\n",
    "osize = 73\n",
    "active_layers = setup_layers([800,800], osize, isize)\n",
    "x = active_layers['x'] # first placeholder\n",
    "a = active_layers['out'][2] # output layer activations\n",
    "t = active_layers['out'][3] # placeholder for targets\n",
    "saver = tf.train.Saver(max_to_keep=12)\n",
    "# Objective\n",
    "'''Adam Optimizer'''\n",
    "cross_entropy = tf.reduce_mean(tf.nn.sigmoid_cross_entropy_with_logits(a, t))\n",
    "train = tf.train.AdamOptimizer(0.001).minimize(cross_entropy)\n",
    "# Prediction\n",
    "y = tf.nn.sigmoid(a)\n",
    "predict = tf.round(y)\n",
    "\n",
    "f1=[[],[],[]]\n",
    "with tf.Session() as sess:\n",
    "    saver.restore(sess, 'checkpoint-12')\n",
    "    #sess.run(tf.initialize_all_variables())\n",
    "    \n",
    "    drug_pred = sess.run(predict, feed_dict={x: drug_mols, t: drug_labels})\n",
    "    drug_pred_roc = sess.run(y, feed_dict={x: drug_mols, t: drug_labels})\n",
    "    drug_rate = (drug_labels == drug_pred).mean(axis=0)\n",
    "    \n",
    "    f1[0].append(f1_score(drug_labels, drug_pred, average='micro'))\n",
    "    f1[1].append(f1_score(drug_labels, drug_pred, average='macro'))\n",
    "    f1[2].append(f1_score(drug_labels, drug_pred, average='weighted'))\n",
    "    tf_frac = tf_fractions(drug_labels,drug_pred)"
   ]
  },
  {
   "cell_type": "raw",
   "metadata": {
    "collapsed": false
   },
   "source": [
    "save_var('drugs.txt',{'pred':drug_pred,'rate':drug_rate,'f1':f1,'tf_frac':score_per_class})\n",
    "save_var('data.txt', {'labels':drug_labels,'pred':drug_pred_roc})"
   ]
  },
  {
   "cell_type": "code",
   "execution_count": 12,
   "metadata": {
    "collapsed": false
   },
   "outputs": [
    {
     "data": {
      "text/plain": [
       "array([ 0.95555556,  0.95555556,  0.92222222,  0.94444444,  0.96111111,\n",
       "        0.96111111,  0.97777778,  0.98888889,  0.91666667,  0.99444444,\n",
       "        0.96111111,  0.91666667,  0.93333333,  0.92222222,  0.93888889,\n",
       "        0.88888889,  0.91111111,  1.        ,  0.94444444,  0.93333333,\n",
       "        1.        ,  0.96666667,  1.        ,  0.98888889,  0.97777778,\n",
       "        0.93888889,  1.        ,  0.94444444,  0.93888889,  0.96666667,\n",
       "        0.98333333,  0.96111111,  0.91666667,  0.90555556,  0.98333333,\n",
       "        0.96666667,  0.97222222,  0.97222222,  0.93333333,  0.98888889,\n",
       "        0.94444444,  1.        ,  0.97222222,  0.94444444,  1.        ,\n",
       "        0.98333333,  0.95555556,  0.96111111,  1.        ,  0.97777778,\n",
       "        1.        ,  0.97222222,  1.        ,  1.        ,  0.93888889,\n",
       "        1.        ,  1.        ,  1.        ,  1.        ,  0.98888889,\n",
       "        0.98888889,  0.99444444,  1.        ,  0.98333333,  1.        ,\n",
       "        1.        ,  0.97222222,  0.98333333,  1.        ,  1.        ,\n",
       "        1.        ,  0.91666667,  0.97222222])"
      ]
     },
     "execution_count": 12,
     "metadata": {},
     "output_type": "execute_result"
    }
   ],
   "source": [
    "drug_rate"
   ]
  },
  {
   "cell_type": "code",
   "execution_count": 4,
   "metadata": {
    "collapsed": false
   },
   "outputs": [],
   "source": [
    "tff = tf_frac"
   ]
  },
  {
   "cell_type": "markdown",
   "metadata": {
    "collapsed": false,
    "scrolled": true
   },
   "source": [
    "sum(tf_frac[1])/460"
   ]
  },
  {
   "cell_type": "markdown",
   "metadata": {
    "collapsed": false
   },
   "source": [
    "(tff[1]+tff[3])#[np.where((tff[1]+tff[3])!=0)]"
   ]
  },
  {
   "cell_type": "markdown",
   "metadata": {
    "collapsed": false
   },
   "source": [
    "(tff[0]+tff[2])#[np.where((tff[0]+tff[2])!=0)]"
   ]
  },
  {
   "cell_type": "markdown",
   "metadata": {
    "collapsed": false
   },
   "source": [
    "norep = np.where(sum(drug_labels)==0)[0]"
   ]
  },
  {
   "cell_type": "raw",
   "metadata": {
    "collapsed": false
   },
   "source": [
    "rate_values = [tff[0]/(tff[0]+tff[1]), tff[3]/(tff[2]+tff[3]),\n",
    "                   tff[1]/(tff[0]+tff[1]), tff[3]/(tff[0]+tff[3])]"
   ]
  },
  {
   "cell_type": "markdown",
   "metadata": {
    "collapsed": false
   },
   "source": [
    "rate_values[0][norep]=100"
   ]
  },
  {
   "cell_type": "markdown",
   "metadata": {
    "collapsed": false
   },
   "source": [
    "rate_values[1][norep]"
   ]
  },
  {
   "cell_type": "markdown",
   "metadata": {
    "collapsed": false
   },
   "source": [
    "lol1 = [np.where(rate_values[i]==1)[0] for i in range(4)]\n",
    "lol2 = [np.where(rate_values[i]==0)[0] for i in range(4)]\n",
    "for i in range(4):\n",
    "    print(lol1[i],lol2[i])"
   ]
  },
  {
   "cell_type": "markdown",
   "metadata": {
    "collapsed": true
   },
   "source": [
    "labels = sum(drug_labels)"
   ]
  },
  {
   "cell_type": "markdown",
   "metadata": {
    "collapsed": false
   },
   "source": [
    "lol2[1]"
   ]
  },
  {
   "cell_type": "markdown",
   "metadata": {
    "collapsed": false
   },
   "source": [
    "np.array([c for c in labels if c!=0]).mean()"
   ]
  },
  {
   "cell_type": "markdown",
   "metadata": {
    "collapsed": false,
    "scrolled": false
   },
   "source": [
    "print(' tpr=1',labels[lol1[0]],'\\n',\n",
    "      'fnr=1',labels[lol1[2]],'\\n',\n",
    "      'fpr=0',labels[lol2[1]],'\\n',\n",
    "      'fdr=1',labels[lol1[3]],'\\n',\n",
    "      'fdr=0',labels[lol2[3]]\n",
    "     )"
   ]
  },
  {
   "cell_type": "markdown",
   "metadata": {
    "collapsed": false,
    "scrolled": true
   },
   "source": [
    "rate_values[3]"
   ]
  },
  {
   "cell_type": "markdown",
   "metadata": {
    "collapsed": false
   },
   "source": [
    "i=71\n",
    "tff[0][i],tff[3][i],tff[1][i]"
   ]
  },
  {
   "cell_type": "markdown",
   "metadata": {
    "collapsed": false
   },
   "source": [
    "rate_values[0][np.where(np.isnan(rate_values[3])==True)]"
   ]
  },
  {
   "cell_type": "markdown",
   "metadata": {
    "collapsed": false,
    "scrolled": true
   },
   "source": [
    "(tff[0]+tff[3])[lol2[3]]"
   ]
  },
  {
   "cell_type": "markdown",
   "metadata": {
    "collapsed": false
   },
   "source": [
    "A = np.array([1,14,25,55,59])\n",
    "B = np.array([14,59])"
   ]
  },
  {
   "cell_type": "markdown",
   "metadata": {
    "collapsed": false
   },
   "source": [
    "np.where((A==B).any())"
   ]
  },
  {
   "cell_type": "code",
   "execution_count": 23,
   "metadata": {
    "collapsed": false
   },
   "outputs": [
    {
     "data": {
      "text/plain": [
       "array([17, 20, 26, 44, 48, 50, 52, 53, 55, 56, 57, 58, 61, 62, 64, 65, 68,\n",
       "       69, 70])"
      ]
     },
     "execution_count": 23,
     "metadata": {},
     "output_type": "execute_result"
    }
   ],
   "source": [
    "norep"
   ]
  },
  {
   "cell_type": "code",
   "execution_count": 22,
   "metadata": {
    "collapsed": false
   },
   "outputs": [
    {
     "data": {
      "text/plain": [
       "array([0, 0, 0, 0, 0, 0, 0, 0, 0, 0, 0, 0, 1, 0, 0, 0, 0, 0, 0])"
      ]
     },
     "execution_count": 22,
     "metadata": {},
     "output_type": "execute_result"
    }
   ],
   "source": [
    "tff[3][norep] #false positive"
   ]
  },
  {
   "cell_type": "code",
   "execution_count": 26,
   "metadata": {
    "collapsed": false,
    "scrolled": false
   },
   "outputs": [
    {
     "name": "stderr",
     "output_type": "stream",
     "text": [
      "/home/maks/anaconda3/envs/deep_learning/lib/python3.5/site-packages/ipykernel/__main__.py:9: RuntimeWarning: invalid value encountered in true_divide\n",
      "/home/maks/anaconda3/envs/deep_learning/lib/python3.5/site-packages/ipykernel/__main__.py:10: RuntimeWarning: invalid value encountered in true_divide\n"
     ]
    },
    {
     "data": {
      "image/png": "[encoded data removed]",
      "text/plain": [
       "<matplotlib.figure.Figure at 0x7fae20ad2470>"
      ]
     },
     "metadata": {},
     "output_type": "display_data"
    }
   ],
   "source": [
    "num_class=73\n",
    "norep = np.where(sum(drug_labels)==0)[0]\n",
    "plt.close()\n",
    "fig = plt.figure()\n",
    "subplots = [fig.add_subplot(221), fig.add_subplot(222),\n",
    "            fig.add_subplot(223), fig.add_subplot(224)]\n",
    "titles = ['Odsetek prawdziwie pozytywnych', 'Odsetek fałszywie pozytywnych',\n",
    "          'Odsetek fałszywie negatywnych', 'Odsetek fałszywych odkryć']\n",
    "rate_values = [tff[0]/(tff[0]+tff[1]), tff[3]/(tff[2]+tff[3]),\n",
    "               tff[1]/(tff[0]+tff[1]), tff[3]/(tff[0]+tff[3])]\n",
    "\n",
    "fdr_nan = np.where(np.isnan(rate_values[3])==True)[0] # where both false positives and true positives equal 0\n",
    "\n",
    "xlabel = 'Cele terapeutyczne'\n",
    "xrange = np.arange(1,len(tff[0])+1)\n",
    "\n",
    "for i, ax in enumerate(subplots):\n",
    "    ax.bar(xrange, rate_values[i]) #blue\n",
    "    if i == 3:\n",
    "        ax.bar(xrange[fdr_nan],[max(rate_values[i])]*fdr_nan.size,color=\"#59ff69\") #green; tp+fp=0\n",
    "    ax.bar(xrange[norep],[max(rate_values[i])]*19,color='red') #red\n",
    "    ax.set_title(titles[i])\n",
    "    ax.set_xlabel(xlabel)\n",
    "    ax.set_xticks([])\n",
    "    ax.set_xlim([0,num_class+2])\n",
    "    vals = ax.get_yticks()\n",
    "    if i == 1: #false positive rate is very small\n",
    "        ax.set_yticklabels(['{:3.2f}%'.format(x*100) for x in vals])\n",
    "    else:\n",
    "        ax.set_yticklabels(['{:3.0f}%'.format(x*100) for x in vals])\n",
    "\n",
    "plt.tight_layout();\n",
    "plt.savefig('drug_tff2.pdf')"
   ]
  },
  {
   "cell_type": "code",
   "execution_count": 75,
   "metadata": {
    "collapsed": false
   },
   "outputs": [
    {
     "name": "stdout",
     "output_type": "stream",
     "text": [
      "[1 1 1 1 1] [1 1 1 1 1]\n"
     ]
    }
   ],
   "source": [
    "print(tff[3][fdr100],(tff[0]+tff[3])[fdr100])"
   ]
  },
  {
   "cell_type": "code",
   "execution_count": null,
   "metadata": {
    "collapsed": true
   },
   "outputs": [],
   "source": [
    "dla białek [fdr100] jest:\n",
    "100 procent fdr to jedna znaleziona czasteczka i znaleziona nieprawidłowo\n",
    "co nie jest dużym problemem\n",
    "białko oprm1 ma tych cząsteczek 9 i nie udało się znaleźć żadnej, pozostałe mają mało więc nic dziwnego\n",
    "oprm1 - co to za białko, czy należy do klasy, która jest mało reprezentowana w zbiorze treningowym"
   ]
  },
  {
   "cell_type": "code",
   "execution_count": 62,
   "metadata": {
    "collapsed": false,
    "scrolled": true
   },
   "outputs": [
    {
     "data": {
      "text/plain": [
       "(array([ 3,  7, 23, 39, 72]),)"
      ]
     },
     "execution_count": 62,
     "metadata": {},
     "output_type": "execute_result"
    }
   ],
   "source": [
    "fdr100 = np.where(rate_values[3] == 1); fdr100"
   ]
  },
  {
   "cell_type": "code",
   "execution_count": 36,
   "metadata": {
    "collapsed": false
   },
   "outputs": [
    {
     "data": {
      "text/plain": [
       "array([['OPRM1.ism', '5263'],\n",
       "       ['CNR1.ism', '3753'],\n",
       "       ['EDNRA.ism', '1875'],\n",
       "       ['CCKBR.ism', '1216'],\n",
       "       ['NR1I2.ism', '59']], \n",
       "      dtype='<U11')"
      ]
     },
     "execution_count": 36,
     "metadata": {},
     "output_type": "execute_result"
    }
   ],
   "source": [
    "np.array(receptors)[fdr100]"
   ]
  },
  {
   "cell_type": "code",
   "execution_count": 58,
   "metadata": {
    "collapsed": false
   },
   "outputs": [
    {
     "data": {
      "text/plain": [
       "array([9, 1, 1, 1, 4])"
      ]
     },
     "execution_count": 58,
     "metadata": {},
     "output_type": "execute_result"
    }
   ],
   "source": [
    "drug_labels.sum(axis=0)[fdr100]"
   ]
  },
  {
   "cell_type": "code",
   "execution_count": 72,
   "metadata": {
    "collapsed": false
   },
   "outputs": [
    {
     "data": {
      "text/plain": [
       "array([12,  9, 14,  9,  8,  7,  4,  1, 18,  2,  8, 16, 14, 15, 10, 23,  7,\n",
       "        0, 11, 13,  0,  6,  1,  1, 13,  6,  0, 13, 13, 13,  2,  7, 16, 13,\n",
       "        5,  3,  8, 12, 11,  1, 12,  1,  5,  9,  0,  3,  8, 12,  0,  4,  0,\n",
       "        5,  0,  0, 17,  0,  0,  0,  0,  2,  5,  0,  0,  3,  0,  0,  6,  3,\n",
       "        0,  0,  0, 16,  4])"
      ]
     },
     "execution_count": 72,
     "metadata": {},
     "output_type": "execute_result"
    }
   ],
   "source": [
    "drug_labels.sum(axis=0)"
   ]
  },
  {
   "cell_type": "markdown",
   "metadata": {},
   "source": [
    "---"
   ]
  },
  {
   "cell_type": "code",
   "execution_count": 116,
   "metadata": {
    "collapsed": false
   },
   "outputs": [
    {
     "data": {
      "text/plain": [
       "[<matplotlib.lines.Line2D at 0x7f23f82368d0>]"
      ]
     },
     "execution_count": 116,
     "metadata": {},
     "output_type": "execute_result"
    },
    {
     "data": {
      "image/png": "[encoded data removed]",
      "text/plain": [
       "<matplotlib.figure.Figure at 0x7f23f8114c18>"
      ]
     },
     "metadata": {},
     "output_type": "display_data"
    }
   ],
   "source": [
    "#plt.plot(list(range(73)),scp[0],'o')\n",
    "#plt.plot(list(range(73)),scp[1],'o')\n",
    "plt.plot(list(range(73)),sorted(scp[3]+scp[1]),'o');"
   ]
  },
  {
   "cell_type": "code",
   "execution_count": 84,
   "metadata": {
    "collapsed": false
   },
   "outputs": [
    {
     "data": {
      "text/plain": [
       "0.0074132492113564673"
      ]
     },
     "execution_count": 84,
     "metadata": {},
     "output_type": "execute_result"
    }
   ],
   "source": [
    "sum(scp[1])/sum(scp[1]+scp[2])"
   ]
  },
  {
   "cell_type": "code",
   "execution_count": 4,
   "metadata": {
    "collapsed": false,
    "scrolled": true
   },
   "outputs": [
    {
     "data": {
      "image/png": "[encoded data removed]",
      "text/plain": [
       "<matplotlib.figure.Figure at 0x7fa814371f60>"
      ]
     },
     "metadata": {},
     "output_type": "display_data"
    }
   ],
   "source": [
    "sns.boxplot(drug_labels.flatten(),drug_pred_roc.flatten())\n",
    "plt.xticks(plt.xticks()[0],['nieaktywne', 'aktywne'])\n",
    "plt.savefig('boxplot.pdf');"
   ]
  },
  {
   "cell_type": "code",
   "execution_count": 70,
   "metadata": {
    "collapsed": false
   },
   "outputs": [
    {
     "data": {
      "image/png": "[encoded data removed]",
      "text/plain": [
       "<matplotlib.figure.Figure at 0x7f23c8275780>"
      ]
     },
     "metadata": {},
     "output_type": "display_data"
    }
   ],
   "source": [
    "d = drug_labels.astype(bool)\n",
    "sns.distplot(drug_pred_roc[d], kde=False, bins=100, label='actives', color='b')\n",
    "sns.distplot(drug_pred_roc[~d], kde=False, bins=100, label='inactives', color='r')\n",
    "plt.legend(loc='center right')\n",
    "#plt.xlim([0,1]);\n",
    "plt.ylim([0,50])\n",
    "plt.xlabel('Wartość predykcji')\n",
    "plt.ylabel('Liczba związków')\n",
    "plt.tight_layout()\n",
    "#plt.savefig('distplot2.pdf');"
   ]
  },
  {
   "cell_type": "code",
   "execution_count": 65,
   "metadata": {
    "collapsed": false,
    "scrolled": true
   },
   "outputs": [
    {
     "data": {
      "image/png": "[encoded data removed]",
      "text/plain": [
       "<matplotlib.figure.Figure at 0x7f23f8429cf8>"
      ]
     },
     "metadata": {},
     "output_type": "display_data"
    }
   ],
   "source": [
    "labels, pred = drug_labels, drug_pred_roc\n",
    "q = np.arange(101)\n",
    "plt.plot(q, np.percentile(pred[d], q), label='aktywne', color='g')\n",
    "plt.plot(q, np.percentile(pred[~d], q), label='nieaktywne', color='r')\n",
    "plt.xlabel('% próbek')\n",
    "plt.ylabel('Percentyl')\n",
    "plt.legend(loc='upper center');\n",
    "#plt.savefig('percentyl.pdf')"
   ]
  },
  {
   "cell_type": "code",
   "execution_count": 6,
   "metadata": {
    "collapsed": false
   },
   "outputs": [
    {
     "data": {
      "text/plain": [
       "[150, 129, 12551, 310]"
      ]
     },
     "execution_count": 6,
     "metadata": {},
     "output_type": "execute_result"
    }
   ],
   "source": [
    "[sum(i) for i in tf_fractions(drug_labels, (drug_pred_roc > 0.3).astype(float))]"
   ]
  },
  {
   "cell_type": "code",
   "execution_count": 9,
   "metadata": {
    "collapsed": false,
    "scrolled": true
   },
   "outputs": [
    {
     "data": {
      "text/plain": [
       "array([[ 0.,  0.,  0., ...,  0.,  0.,  0.],\n",
       "       [ 0.,  0.,  0., ...,  0.,  0.,  0.],\n",
       "       [ 0.,  0.,  0., ...,  0.,  0.,  0.],\n",
       "       ..., \n",
       "       [ 0.,  0.,  0., ...,  0.,  0.,  0.],\n",
       "       [ 0.,  0.,  0., ...,  0.,  0.,  0.],\n",
       "       [ 0.,  0.,  0., ...,  0.,  0.,  0.]])"
      ]
     },
     "execution_count": 9,
     "metadata": {},
     "output_type": "execute_result"
    }
   ],
   "source": [
    "(drug_pred_roc > 0.3).astype(float)"
   ]
  },
  {
   "cell_type": "code",
   "execution_count": 117,
   "metadata": {
    "collapsed": false,
    "scrolled": true
   },
   "outputs": [
    {
     "name": "stderr",
     "output_type": "stream",
     "text": [
      "/home/maks/anaconda3/envs/deep_learning/lib/python3.5/site-packages/sklearn/metrics/classification.py:1113: UndefinedMetricWarning: Precision is ill-defined and being set to 0.0 in labels with no predicted samples.\n",
      "  'precision', 'predicted', average, warn_for)\n"
     ]
    },
    {
     "data": {
      "text/plain": [
       "0.40009749562594416"
      ]
     },
     "execution_count": 117,
     "metadata": {},
     "output_type": "execute_result"
    }
   ],
   "source": [
    "precision_score(drug_pred,drug_labels, average=\"weighted\")"
   ]
  },
  {
   "cell_type": "code",
   "execution_count": 122,
   "metadata": {
    "collapsed": false,
    "scrolled": true
   },
   "outputs": [
    {
     "name": "stderr",
     "output_type": "stream",
     "text": [
      "/home/maks/anaconda3/envs/deep_learning/lib/python3.5/site-packages/sklearn/metrics/classification.py:1113: UndefinedMetricWarning: Precision is ill-defined and being set to 0.0 in labels with no predicted samples.\n",
      "  'precision', 'predicted', average, warn_for)\n"
     ]
    },
    {
     "data": {
      "text/plain": [
       "0.50613123118207448"
      ]
     },
     "execution_count": 122,
     "metadata": {},
     "output_type": "execute_result"
    }
   ],
   "source": [
    "precision_score((drug_pred_roc > 0.01).astype(float),drug_labels, average=\"weighted\")"
   ]
  },
  {
   "cell_type": "code",
   "execution_count": 196,
   "metadata": {
    "collapsed": false
   },
   "outputs": [
    {
     "name": "stdout",
     "output_type": "stream",
     "text": [
      "36.0869565217 1.6403785489\n",
      "166 294 12472 208\n"
     ]
    }
   ],
   "source": [
    "i = 0.1\n",
    "tp=sum(d[np.where(pred>i)])\n",
    "fp=sum(~d[np.where(pred>i)])\n",
    "tpr = tp/460\n",
    "fpr = fp/12680\n",
    "print(tpr*100,fpr*100)\n",
    "print(tp,460-tp,12680-fp,fp)"
   ]
  },
  {
   "cell_type": "code",
   "execution_count": 124,
   "metadata": {
    "collapsed": false,
    "scrolled": true
   },
   "outputs": [
    {
     "data": {
      "text/plain": [
       "array([ 23.,  20.,  18.,   7.,  16.,  16.,   5.,   4.,  12.,   8.,  11.,\n",
       "        19.,  34.,  18.,  19.,  14.,  30.,   2.,   6.,  25.,   0.,  14.,\n",
       "         1.,   5.,  16.,  33.,   1.,  23.,  30.,  27.,   7.,  12.,  18.,\n",
       "        28.,   5.,  14.,  12.,  22.,  25.,   4.,  21.,   4.,   5.,  21.,\n",
       "         4.,   7.,   5.,  16.,   6.,  16.,   0.,   3.,   2.,   0.,  18.,\n",
       "         0.,   1.,   0.,   1.,   4.,   8.,   1.,   0.,   9.,   0.,   3.,\n",
       "         3.,   0.,   2.,   0.,   0.,   2.,   3.])"
      ]
     },
     "execution_count": 124,
     "metadata": {},
     "output_type": "execute_result"
    }
   ],
   "source": [
    "sum((drug_pred_roc > 0.01).astype(float))"
   ]
  },
  {
   "cell_type": "code",
   "execution_count": 80,
   "metadata": {
    "collapsed": false
   },
   "outputs": [
    {
     "data": {
      "text/plain": [
       "0.14444444444444443"
      ]
     },
     "execution_count": 80,
     "metadata": {},
     "output_type": "execute_result"
    }
   ],
   "source": [
    "accuracy_score(drug_pred, drug_labels)"
   ]
  },
  {
   "cell_type": "code",
   "execution_count": 75,
   "metadata": {
    "collapsed": false
   },
   "outputs": [],
   "source": [
    "fpr, tpr, thresholds = roc_curve(drug_labels.flatten(), drug_pred_roc.flatten())"
   ]
  },
  {
   "cell_type": "code",
   "execution_count": 76,
   "metadata": {
    "collapsed": false
   },
   "outputs": [
    {
     "data": {
      "text/plain": [
       "0.82670827047044293"
      ]
     },
     "execution_count": 76,
     "metadata": {},
     "output_type": "execute_result"
    }
   ],
   "source": [
    "auc(fpr,tpr)"
   ]
  },
  {
   "cell_type": "code",
   "execution_count": 77,
   "metadata": {
    "collapsed": false
   },
   "outputs": [
    {
     "data": {
      "text/plain": [
       "array([ 0.0214511,  0.0216877])"
      ]
     },
     "execution_count": 77,
     "metadata": {},
     "output_type": "execute_result"
    }
   ],
   "source": [
    "fpr[np.where(tpr==0.4)]"
   ]
  },
  {
   "cell_type": "code",
   "execution_count": 78,
   "metadata": {
    "collapsed": false
   },
   "outputs": [
    {
     "data": {
      "image/png": "[encoded data removed]",
      "text/plain": [
       "<matplotlib.figure.Figure at 0x7f06e63e1400>"
      ]
     },
     "metadata": {},
     "output_type": "display_data"
    }
   ],
   "source": [
    "plt.plot(fpr, tpr, color='darkorange',\n",
    "         lw=2, label='Krzywa ROC (pole powierzchni = %0.2f)' % auc(fpr, tpr))\n",
    "plt.plot([0, 1], [0, 1], color='#4C72B0', lw=2, linestyle='--')\n",
    "plt.axes().set_aspect('equal')\n",
    "plt.xlim([0.0, 1.0])\n",
    "plt.ylim([0.0, 1.0])\n",
    "plt.xlabel('Odsetek fałszywie pozytywnych')\n",
    "plt.ylabel('Odsetek prawdziwie pozytywnych')\n",
    "plt.title('Charakterystyka operacyjna odbiornika (ROC curve)')\n",
    "plt.legend(loc=\"lower right\")\n",
    "#plt.savefig('plots/best/drugs_roc.pdf')\n",
    "plt.show()"
   ]
  },
  {
   "cell_type": "code",
   "execution_count": 85,
   "metadata": {
    "collapsed": false
   },
   "outputs": [
    {
     "data": {
      "text/plain": [
       "[[0.39652677279305359], [0.25366742026563682], [0.36821566717250204]]"
      ]
     },
     "execution_count": 85,
     "metadata": {},
     "output_type": "execute_result"
    }
   ],
   "source": [
    "f1"
   ]
  },
  {
   "cell_type": "code",
   "execution_count": 86,
   "metadata": {
    "collapsed": false
   },
   "outputs": [
    {
     "data": {
      "text/plain": [
       "0.96826484018264847"
      ]
     },
     "execution_count": 86,
     "metadata": {},
     "output_type": "execute_result"
    }
   ],
   "source": [
    "drug_rate.mean()"
   ]
  },
  {
   "cell_type": "code",
   "execution_count": 87,
   "metadata": {
    "collapsed": false
   },
   "outputs": [
    {
     "data": {
      "text/plain": [
       "0.95628930817610058"
      ]
     },
     "execution_count": 87,
     "metadata": {},
     "output_type": "execute_result"
    }
   ],
   "source": [
    "np.array([x for x in drug_rate if x!=1]).mean()"
   ]
  },
  {
   "cell_type": "code",
   "execution_count": 16,
   "metadata": {
    "collapsed": false,
    "scrolled": true
   },
   "outputs": [
    {
     "data": {
      "text/plain": [
       "array([ 0.95555556,  0.95555556,  0.92222222,  0.94444444,  0.96111111,\n",
       "        0.96111111,  0.97777778,  0.98888889,  0.91666667,  0.99444444,\n",
       "        0.96111111,  0.91666667,  0.93333333,  0.92222222,  0.93888889,\n",
       "        0.88888889,  0.91111111,  1.        ,  0.94444444,  0.93333333,\n",
       "        1.        ,  0.96666667,  1.        ,  0.98888889,  0.97777778,\n",
       "        0.93888889,  1.        ,  0.94444444,  0.93888889,  0.96666667,\n",
       "        0.98333333,  0.96111111,  0.91666667,  0.90555556,  0.98333333,\n",
       "        0.96666667,  0.97222222,  0.97222222,  0.93333333,  0.98888889,\n",
       "        0.94444444,  1.        ,  0.97222222,  0.94444444,  1.        ,\n",
       "        0.98333333,  0.95555556,  0.96111111,  1.        ,  0.97777778,\n",
       "        1.        ,  0.97222222,  1.        ,  1.        ,  0.93888889,\n",
       "        1.        ,  1.        ,  1.        ,  1.        ,  0.98888889,\n",
       "        0.98888889,  0.99444444,  1.        ,  0.98333333,  1.        ,\n",
       "        1.        ,  0.97222222,  0.98333333,  1.        ,  1.        ,\n",
       "        1.        ,  0.91666667,  0.97222222])"
      ]
     },
     "execution_count": 16,
     "metadata": {},
     "output_type": "execute_result"
    }
   ],
   "source": [
    "drug_rate"
   ]
  },
  {
   "cell_type": "code",
   "execution_count": 79,
   "metadata": {
    "collapsed": false
   },
   "outputs": [
    {
     "data": {
      "text/plain": [
       "[137, 94, 12586, 323]"
      ]
     },
     "execution_count": 79,
     "metadata": {},
     "output_type": "execute_result"
    }
   ],
   "source": [
    "[sum(i) for i in score_per_class]"
   ]
  },
  {
   "cell_type": "markdown",
   "metadata": {},
   "source": [
    "---"
   ]
  },
  {
   "cell_type": "markdown",
   "metadata": {},
   "source": [
    "---"
   ]
  },
  {
   "cell_type": "markdown",
   "metadata": {},
   "source": [
    "---"
   ]
  },
  {
   "cell_type": "markdown",
   "metadata": {
    "collapsed": true
   },
   "source": [
    "from scipy.stats import pearsonr"
   ]
  },
  {
   "cell_type": "markdown",
   "metadata": {
    "collapsed": false
   },
   "source": [
    "class_sizes = [int(e[1]) for e in receptors]\n",
    "fpr = tf_frac[3]/(tf_frac[3]+tf_frac[2])\n",
    "pearsonr(fpr, class_sizes)"
   ]
  },
  {
   "cell_type": "code",
   "execution_count": 116,
   "metadata": {
    "collapsed": true
   },
   "outputs": [],
   "source": [
    "with open('plots/desc/desc.csv','w') as f:\n",
    "    f.write('Type of Representation,Number of classes,Fingerprint size,Hidden Layers,Learning Rate,Batch Size,Number of Epochs, Max. Validation Rate\\n')"
   ]
  },
  {
   "cell_type": "code",
   "execution_count": 2,
   "metadata": {
    "collapsed": false
   },
   "outputs": [],
   "source": [
    "def save_res_to_file(rType,num_class,f_size,layers,learning_rate,batch_size,epochs,max_val):\n",
    "    with open('plots/desc/desc.csv','a') as f:\n",
    "        layers_str = str(layers).replace(',',';') #for .csv compatibility reasons\n",
    "        s = \"{},{},{},{},{},{},{},{:.4}\\n\".format(\n",
    "            rType,num_class,f_size,layers_str,learning_rate,batch_size,epochs,max_val)\n",
    "        f.write(s)"
   ]
  },
  {
   "cell_type": "code",
   "execution_count": 116,
   "metadata": {
    "collapsed": false,
    "scrolled": false
   },
   "outputs": [
    {
     "name": "stdout",
     "output_type": "stream",
     "text": [
      "CPU times: user 7min 47s, sys: 1.09 s, total: 7min 48s\n",
      "Wall time: 7min 46s\n"
     ]
    }
   ],
   "source": [
    "%%time\n",
    "num_class = 73 #first n most numerous classes\n",
    "rType = 'fingerprint' # fingerprint/descriptor/mixed\n",
    "f_size = 4096\n",
    "\n",
    "mol_matrix = []\n",
    "for line in receptors[:num_class]:\n",
    "    name = line[0]\n",
    "    mol_list = read_ism(path + name)\n",
    "    mol_matrix.append(mol_list)\n",
    "mol_matrix[0][:3]\n",
    "\n",
    "random.seed(15)\n",
    "np.random.seed(15)\n",
    "val_pred_roc = 0\n",
    "train_set,val_mols,val_labels = prepare_sets(mol_matrix, 0.2, rType, f_size)"
   ]
  },
  {
   "cell_type": "markdown",
   "metadata": {},
   "source": [
    "---"
   ]
  },
  {
   "cell_type": "code",
   "execution_count": 3,
   "metadata": {
    "collapsed": false
   },
   "outputs": [],
   "source": [
    "rType='fingerprint'\n",
    "num_class = 73\n",
    "f_size = 4096\n",
    "dat_loaded = load_var('vars/dat%s.txt'%f_size)\n",
    "#dat_loaded = load_var('vars/best%s.txt'%num_class)\n",
    "train_set, val_mols, val_labels = dat_loaded['tr_set'],dat_loaded['val_mols'],dat_loaded['val_labels']"
   ]
  },
  {
   "cell_type": "code",
   "execution_count": 7,
   "metadata": {
    "collapsed": true
   },
   "outputs": [],
   "source": [
    "layers = [800,800]\n",
    "learning_rate = 0.001\n",
    "batch_size = 50\n",
    "epochs = 10"
   ]
  },
  {
   "cell_type": "code",
   "execution_count": 117,
   "metadata": {
    "collapsed": false,
    "scrolled": true
   },
   "outputs": [
    {
     "name": "stdout",
     "output_type": "stream",
     "text": [
      "2017-12-06 13:16:36\n",
      "13270  iterations\n",
      "  0%, 00:00:00\n"
     ]
    },
    {
     "name": "stderr",
     "output_type": "stream",
     "text": [
      "/home/maks/anaconda3/envs/deep_learning/lib/python3.5/site-packages/sklearn/metrics/classification.py:1113: UndefinedMetricWarning: F-score is ill-defined and being set to 0.0 in labels with no predicted samples.\n",
      "  'precision', 'predicted', average, warn_for)\n"
     ]
    },
    {
     "name": "stdout",
     "output_type": "stream",
     "text": [
      " 10%, 00:00:19\n",
      " 20%, 00:00:41\n",
      " 30%, 00:00:59\n",
      " 40%, 00:01:18\n",
      " 50%, 00:01:36\n",
      " 60%, 00:01:53\n",
      " 70%, 00:02:13\n",
      " 80%, 00:02:29\n",
      " 90%, 00:02:44\n",
      "100%, 00:03:00\n",
      "00:03:04\n"
     ]
    },
    {
     "data": {
      "text/plain": [
       "'--END--'"
      ]
     },
     "execution_count": 117,
     "metadata": {},
     "output_type": "execute_result"
    }
   ],
   "source": [
    "tf.reset_default_graph()\n",
    "tf.set_random_seed(15)\n",
    "np.random.seed(15)\n",
    "random.seed(15)\n",
    "print(time.strftime(\"%Y-%m-%d %H:%M:%S\", time.localtime()))\n",
    "start = time.time()\n",
    "# Automatic network variables\n",
    "isize = len(val_mols[0])\n",
    "osize = num_class\n",
    "active_layers = setup_layers(layers, osize, isize)\n",
    "x = active_layers['x'] # first placeholder\n",
    "a = active_layers['out'][2] # output layer activations\n",
    "t = active_layers['out'][3] # placeholder for targets\n",
    "saver = tf.train.Saver(max_to_keep=12)\n",
    "# Objective\n",
    "'''Adam Optimizer'''\n",
    "cross_entropy = tf.reduce_mean(tf.nn.sigmoid_cross_entropy_with_logits(a, t))\n",
    "train = tf.train.AdamOptimizer(learning_rate).minimize(cross_entropy)\n",
    "# Prediction\n",
    "y = tf.nn.sigmoid(a)\n",
    "predict = tf.round(y)\n",
    "# Train the network\n",
    "tr_rate, val_rate, f1, tf_frac = train_network(train_set, batch_size, epochs, save=False)\n",
    "full_time = timer(start,time.time())\n",
    "print(full_time)\n",
    "\"--END--\""
   ]
  },
  {
   "cell_type": "code",
   "execution_count": 88,
   "metadata": {
    "collapsed": false
   },
   "outputs": [
    {
     "data": {
      "text/plain": [
       "[0.89217207772052887, 0.88911600244692057, 0.89134386944048938]"
      ]
     },
     "execution_count": 88,
     "metadata": {},
     "output_type": "execute_result"
    }
   ],
   "source": [
    "[max(l) for l in f1]"
   ]
  },
  {
   "cell_type": "code",
   "execution_count": 115,
   "metadata": {
    "collapsed": false,
    "scrolled": true
   },
   "outputs": [
    {
     "data": {
      "text/plain": [
       "78.290742526518812"
      ]
     },
     "execution_count": 115,
     "metadata": {},
     "output_type": "execute_result"
    }
   ],
   "source": [
    "max(val_rate)*100"
   ]
  },
  {
   "cell_type": "code",
   "execution_count": 8,
   "metadata": {
    "collapsed": false,
    "scrolled": true
   },
   "outputs": [
    {
     "data": {
      "image/png": "[encoded data removed]",
      "text/plain": [
       "<matplotlib.figure.Figure at 0x7f6c1c566940>"
      ]
     },
     "metadata": {},
     "output_type": "display_data"
    }
   ],
   "source": [
    "save_accuracy_plot(tr_rate, save=True, path=\"plots/\")"
   ]
  },
  {
   "cell_type": "code",
   "execution_count": 9,
   "metadata": {
    "collapsed": false,
    "scrolled": true
   },
   "outputs": [
    {
     "data": {
      "image/png": "[encoded data removed]",
      "text/plain": [
       "<matplotlib.figure.Figure at 0x7f6bc0f02e48>"
      ]
     },
     "metadata": {},
     "output_type": "display_data"
    }
   ],
   "source": [
    "save_f1_plot(f1, save=True, path=\"plots/\")"
   ]
  },
  {
   "cell_type": "code",
   "execution_count": 119,
   "metadata": {
    "collapsed": false,
    "scrolled": true
   },
   "outputs": [
    {
     "data": {
      "image/png": "[encoded data removed]",
      "text/plain": [
       "<matplotlib.figure.Figure at 0x7fae20680d68>"
      ]
     },
     "metadata": {},
     "output_type": "display_data"
    }
   ],
   "source": [
    "save_tf_fractions_plot(tf_frac, save=True, path=\"plots/\")"
   ]
  },
  {
   "cell_type": "code",
   "execution_count": 67,
   "metadata": {
    "collapsed": true
   },
   "outputs": [],
   "source": [
    "save_res_to_file(rType,num_class,f_size,layers,learning_rate,batch_size,epochs,max(val_rate))"
   ]
  },
  {
   "cell_type": "markdown",
   "metadata": {},
   "source": [
    "---"
   ]
  },
  {
   "cell_type": "markdown",
   "metadata": {},
   "source": [
    "---"
   ]
  },
  {
   "cell_type": "markdown",
   "metadata": {},
   "source": [
    "---"
   ]
  },
  {
   "cell_type": "code",
   "execution_count": 8,
   "metadata": {
    "collapsed": false,
    "scrolled": true
   },
   "outputs": [
    {
     "name": "stdout",
     "output_type": "stream",
     "text": [
      "2017-08-28 11:35:52\n"
     ]
    },
    {
     "name": "stderr",
     "output_type": "stream",
     "text": [
      "/home/maks/anaconda3/envs/deep_learning/lib/python3.5/site-packages/sklearn/metrics/classification.py:1113: UndefinedMetricWarning: F-score is ill-defined and being set to 0.0 in labels with no predicted samples.\n",
      "  'precision', 'predicted', average, warn_for)\n",
      "/home/maks/anaconda3/envs/deep_learning/lib/python3.5/site-packages/ipykernel/__main__.py:83: RuntimeWarning: invalid value encountered in true_divide\n"
     ]
    },
    {
     "name": "stdout",
     "output_type": "stream",
     "text": [
      "00:02:42 1 out of 27\n",
      "2017-08-28 11:38:34\n",
      "00:01:46 2 out of 27\n",
      "2017-08-28 11:40:20\n",
      "00:01:01 3 out of 27\n",
      "2017-08-28 11:41:21\n",
      "00:02:42 4 out of 27\n",
      "2017-08-28 11:44:03\n",
      "00:01:47 5 out of 27\n",
      "2017-08-28 11:45:51\n",
      "00:01:02 6 out of 27\n",
      "2017-08-28 11:46:53\n"
     ]
    },
    {
     "name": "stderr",
     "output_type": "stream",
     "text": [
      "/home/maks/anaconda3/envs/deep_learning/lib/python3.5/site-packages/sklearn/metrics/classification.py:1113: UndefinedMetricWarning: F-score is ill-defined and being set to 0.0 due to no predicted samples.\n",
      "  'precision', 'predicted', average, warn_for)\n"
     ]
    },
    {
     "name": "stdout",
     "output_type": "stream",
     "text": [
      "00:05:09 7 out of 27\n",
      "2017-08-28 11:52:03\n",
      "00:03:17 8 out of 27\n",
      "2017-08-28 11:55:20\n",
      "00:01:54 9 out of 27\n",
      "2017-08-28 11:57:14\n",
      "00:03:33 10 out of 27\n",
      "2017-08-28 12:00:47\n",
      "00:02:16 11 out of 27\n",
      "2017-08-28 12:03:04\n",
      "00:01:20 12 out of 27\n",
      "2017-08-28 12:04:25\n",
      "00:03:28 13 out of 27\n",
      "2017-08-28 12:07:53\n",
      "00:02:08 14 out of 27\n",
      "2017-08-28 12:10:02\n",
      "00:01:16 15 out of 27\n",
      "2017-08-28 12:11:18\n",
      "00:06:45 16 out of 27\n",
      "2017-08-28 12:18:04\n",
      "00:04:22 17 out of 27\n",
      "2017-08-28 12:22:26\n",
      "00:02:32 18 out of 27\n",
      "2017-08-28 12:24:58\n",
      "00:04:29 19 out of 27\n",
      "2017-08-28 12:29:28\n",
      "00:02:46 20 out of 27\n",
      "2017-08-28 12:32:14\n",
      "00:01:34 21 out of 27\n",
      "2017-08-28 12:33:49\n",
      "00:04:11 22 out of 27\n",
      "2017-08-28 12:38:01\n",
      "00:02:43 23 out of 27\n",
      "2017-08-28 12:40:44\n",
      "00:01:34 24 out of 27\n",
      "2017-08-28 12:42:19\n",
      "00:08:26 25 out of 27\n",
      "2017-08-28 12:50:45\n",
      "00:05:20 26 out of 27\n",
      "2017-08-28 12:56:06\n",
      "00:03:10 27 out of 27\n",
      "CPU times: user 1h 9min 10s, sys: 27min 22s, total: 1h 36min 32s\n",
      "Wall time: 1h 23min 23s\n"
     ]
    }
   ],
   "source": [
    "%%time\n",
    "'''m_layers = [[100],[200],[500],\n",
    "            [100,100],[200,200],[500,500],\n",
    "            [100,100,100],[200,200,200],[500,500,500]]\n",
    "'''\n",
    "m_layers = [[200,200],[500,500],[800,800]]\n",
    "m_lr_rate = [0.01,0.001,0.0001]\n",
    "m_batch_size = [15,25,50]\n",
    "#m_epochs = [10]\n",
    "i = 0\n",
    "for l in m_layers:\n",
    "    layers = l\n",
    "    for lrr in m_lr_rate:\n",
    "        learning_rate = lrr\n",
    "        if lrr == 0.0001:\n",
    "            epochs = 20\n",
    "        else:\n",
    "            epochs = 10\n",
    "        for bsize in m_batch_size:\n",
    "            batch_size = bsize\n",
    "            \n",
    "            tf.reset_default_graph()\n",
    "            tf.set_random_seed(15)\n",
    "            random.seed(15)\n",
    "            print(time.strftime(\"%Y-%m-%d %H:%M:%S\", time.localtime()))\n",
    "            start = time.time()\n",
    "            # Automatic network variables\n",
    "            isize = len(val_mols[0])\n",
    "            osize = num_class\n",
    "            active_layers = setup_layers(layers, osize, isize)\n",
    "            x = active_layers['x'] # first placeholder\n",
    "            a = active_layers['out'][2] # output layer activations\n",
    "            t = active_layers['out'][3] # placeholder for targets\n",
    "            saver = tf.train.Saver(max_to_keep=12)\n",
    "            # Objective\n",
    "            '''Adam Optimizer'''\n",
    "            cross_entropy = tf.reduce_mean(tf.nn.sigmoid_cross_entropy_with_logits(a, t))\n",
    "            train = tf.train.AdamOptimizer(learning_rate).minimize(cross_entropy)\n",
    "            # Prediction\n",
    "            predict = tf.round(tf.nn.sigmoid(a))\n",
    "            # Train the network\n",
    "            tr_rate, val_rate, f1, tf_frac = train_network(train_set, batch_size, epochs, False, False)\n",
    "            \n",
    "            save_accuracy_plot(tr_rate, val_rate, layers, learning_rate, batch_size, epochs)\n",
    "            save_f1_plot(f1, val_rate, layers, learning_rate, batch_size, epochs)\n",
    "            save_tf_fractions_plot(tf_frac, val_rate, layers, learning_rate, batch_size, epochs)\n",
    "            save_res_to_file(rType,num_class,f_size,layers,learning_rate,batch_size,epochs,max(val_rate))\n",
    "            plt.close();\n",
    "            total = len(m_layers) * len(m_lr_rate) * len(m_batch_size)\n",
    "            full_time = timer(start,time.time())\n",
    "            i += 1\n",
    "            print(full_time, '{} out of {}'.format(i, total))"
   ]
  },
  {
   "cell_type": "code",
   "execution_count": 27,
   "metadata": {
    "collapsed": false
   },
   "outputs": [
    {
     "data": {
      "text/plain": [
       "0.76609209257473476"
      ]
     },
     "execution_count": 27,
     "metadata": {},
     "output_type": "execute_result"
    }
   ],
   "source": [
    "max(val_rate)"
   ]
  },
  {
   "cell_type": "markdown",
   "metadata": {},
   "source": [
    "---"
   ]
  },
  {
   "cell_type": "code",
   "execution_count": 28,
   "metadata": {
    "collapsed": false,
    "scrolled": false
   },
   "outputs": [
    {
     "data": {
      "image/png": "[encoded data removed]",
      "text/plain": [
       "<matplotlib.figure.Figure at 0x7f8305885198>"
      ]
     },
     "metadata": {},
     "output_type": "display_data"
    }
   ],
   "source": [
    "save_accuracy_plot(tr_rate, val_rate, layers, learning_rate, batch_size, epochs, False)"
   ]
  },
  {
   "cell_type": "code",
   "execution_count": 18,
   "metadata": {
    "collapsed": false,
    "scrolled": false
   },
   "outputs": [
    {
     "data": {
      "image/png": "[encoded data removed]",
      "text/plain": [
       "<matplotlib.figure.Figure at 0x7f4a31487f60>"
      ]
     },
     "metadata": {},
     "output_type": "display_data"
    }
   ],
   "source": [
    "save_f1_plot(f1, val_rate, layers, learning_rate, batch_size, epochs)"
   ]
  },
  {
   "cell_type": "code",
   "execution_count": 105,
   "metadata": {
    "collapsed": false
   },
   "outputs": [
    {
     "ename": "TypeError",
     "evalue": "save_tf_fractions_plot() takes from 1 to 3 positional arguments but 6 were given",
     "output_type": "error",
     "traceback": [
      "\u001b[0;31m---------------------------------------------------------------------------\u001b[0m",
      "\u001b[0;31mTypeError\u001b[0m                                 Traceback (most recent call last)",
      "\u001b[0;32m<ipython-input-105-5f0ab137fef4>\u001b[0m in \u001b[0;36m<module>\u001b[0;34m()\u001b[0m\n\u001b[0;32m----> 1\u001b[0;31m \u001b[0msave_tf_fractions_plot\u001b[0m\u001b[0;34m(\u001b[0m\u001b[0mtf_frac\u001b[0m\u001b[0;34m,\u001b[0m \u001b[0mval_rate\u001b[0m\u001b[0;34m,\u001b[0m \u001b[0mlayers\u001b[0m\u001b[0;34m,\u001b[0m \u001b[0mlearning_rate\u001b[0m\u001b[0;34m,\u001b[0m \u001b[0mbatch_size\u001b[0m\u001b[0;34m,\u001b[0m \u001b[0mepochs\u001b[0m\u001b[0;34m)\u001b[0m\u001b[0;34m\u001b[0m\u001b[0m\n\u001b[0m",
      "\u001b[0;31mTypeError\u001b[0m: save_tf_fractions_plot() takes from 1 to 3 positional arguments but 6 were given"
     ]
    }
   ],
   "source": [
    "save_tf_fractions_plot(tf_frac, val_rate, layers, learning_rate, batch_size, epochs)"
   ]
  },
  {
   "cell_type": "markdown",
   "metadata": {},
   "source": [
    "---"
   ]
  },
  {
   "cell_type": "markdown",
   "metadata": {},
   "source": [
    "---"
   ]
  },
  {
   "cell_type": "markdown",
   "metadata": {},
   "source": [
    "# Save results"
   ]
  },
  {
   "cell_type": "code",
   "execution_count": 21,
   "metadata": {
    "collapsed": true
   },
   "outputs": [],
   "source": [
    "with open('results.csv','w') as f:\n",
    "    f.write('Type of Representation,Number of classes,Hidden Layers,Learning Rate,Batch Size,Number of Epochs, Max. Validation Rate\\n')"
   ]
  },
  {
   "cell_type": "code",
   "execution_count": 22,
   "metadata": {
    "collapsed": false
   },
   "outputs": [],
   "source": [
    "def save_res_to_file(rType,num_class,f_size,layers,learning_rate,batch_size,epochs,max_val):\n",
    "    with open('results.csv','a') as f:\n",
    "        layers_str = str(layers).replace(',',';') #for .csv compatibility reasons\n",
    "        s = \"{},{},{},{},{},{},{},{:.4}\\n\".format(\n",
    "            rType,num_class,f_size,layers_str,learning_rate,batch_size,epochs,max_val)\n",
    "        f.write(s)"
   ]
  },
  {
   "cell_type": "markdown",
   "metadata": {},
   "source": [
    "---"
   ]
  },
  {
   "cell_type": "raw",
   "metadata": {
    "collapsed": true
   },
   "source": [
    "def save_table(val_rate, receptors, tf_frac):\n",
    "    table = \"\"\n",
    "    header = 'Cel terapeutyczny,Liczność klasy,Odsetek prawdziwie pozytywnych,Odsetek fałszywie pozytywnych,Odsetek prawdziwie negatywnych,Odsetek fałszywie negatywnych,Odsetek fałszywych odkryć\\n'\n",
    "    table += header\n",
    "    \n",
    "    tpr = tf_frac[0] / (tf_frac[0] + tf_frac[1])\n",
    "    fpr = tf_frac[1] / (tf_frac[0] + tf_frac[1])\n",
    "    tnr = tf_frac[2] / (tf_frac[2] + tf_frac[3])\n",
    "    fnr = tf_frac[3] / (tf_frac[2] + tf_frac[3])\n",
    "    fdr = tf_frac[3] / (tf_frac[0] + tf_frac[3])\n",
    "    \n",
    "    for i in range(len(tf_frac[0])):\n",
    "        target = receptors[i][0][:-4]\n",
    "        class_size = receptors[i][1]\n",
    "        \n",
    "        line = '%s' % target\n",
    "        line += ',%s' % class_size\n",
    "        line += ',%.4f' % tpr[i]\n",
    "        line += ',%.4f' % fpr[i]\n",
    "        line += ',%.4f' % tnr[i]\n",
    "        line += ',%.4f' % fnr[i]\n",
    "        line += ',%.4f' % fdr[i]\n",
    "        line += '\\n'\n",
    "        \n",
    "        table += line\n",
    "    \n",
    "    f = open('final_table.csv', 'w')\n",
    "    f.write(table)\n",
    "    f.close()\n",
    "\n",
    "save_table(val_rate, receptors, tf_frac)"
   ]
  },
  {
   "cell_type": "markdown",
   "metadata": {},
   "source": [
    "---"
   ]
  },
  {
   "cell_type": "markdown",
   "metadata": {},
   "source": [
    "# Multiple runs"
   ]
  },
  {
   "cell_type": "raw",
   "metadata": {
    "collapsed": true
   },
   "source": [
    "%%time\n",
    "'''m_layers = [[100],[200],[500],\n",
    "            [100,100],[200,200],[500,500],\n",
    "            [100,100,100],[200,200,200],[500,500,500]]\n",
    "'''\n",
    "m_layers = [[200,200],[500,500],[800,800]]\n",
    "m_lr_rate = [0.01,0.001,0.0001]\n",
    "m_batch_size = [15,25,50]\n",
    "m_epochs = [10]\n",
    "\n",
    "for l in m_layers:\n",
    "    for lrr in m_lr_rate:\n",
    "        for bsize in m_batch_size:\n",
    "            layers = l\n",
    "            learning_rate = lrr\n",
    "            batch_size = bsize\n",
    "            \n",
    "            tf.reset_default_graph()\n",
    "            tf.set_random_seed(15)\n",
    "            random.seed(15)\n",
    "            print(time.strftime(\"%Y-%m-%d %H:%M:%S\", time.localtime()))\n",
    "            start = time.time()\n",
    "            # Automatic network variables\n",
    "            isize = len(val_mols[0])\n",
    "            osize = num_class\n",
    "            active_layers = setup_layers(layers, osize, isize)\n",
    "            x = active_layers['x'] # first placeholder\n",
    "            a = active_layers['out'][2] # output layer activations\n",
    "            t = active_layers['out'][3] # placeholder for targets\n",
    "            saver = tf.train.Saver(max_to_keep=12)\n",
    "            # Objective\n",
    "            '''Adam Optimizer'''\n",
    "            cross_entropy = tf.reduce_mean(tf.nn.sigmoid_cross_entropy_with_logits(a, t))\n",
    "            train = tf.train.AdamOptimizer(learning_rate).minimize(cross_entropy)\n",
    "            # Prediction\n",
    "            predict = tf.round(tf.nn.sigmoid(a))\n",
    "            # Train the network\n",
    "            tr_rate, val_rate, f1, tf_frac = train_network(train_set, batch_size, epochs)\n",
    "            full_time = timer(start,time.time())\n",
    "            print(full_time)\n",
    "            save_accuracy_plot(tr_rate, val_rate, layers, learning_rate, batch_size, epochs)\n",
    "            save_f1_plot(f1, val_rate, layers, learning_rate, batch_size, epochs)\n",
    "            save_tf_fractions_plot(tf_frac, val_rate, layers, learning_rate, batch_size, epochs)\n",
    "            \"--END--\""
   ]
  },
  {
   "cell_type": "raw",
   "metadata": {},
   "source": [
    "---"
   ]
  },
  {
   "cell_type": "raw",
   "metadata": {
    "collapsed": true
   },
   "source": [
    "plt.plot(f1[0], label='f1 micro')\n",
    "plt.plot(f1[1], label='f1 macro')\n",
    "plt.plot(f1[2], label='f1 weighted')\n",
    "plt.ylim([0,1])\n",
    "plt.legend(loc=5);"
   ]
  },
  {
   "cell_type": "raw",
   "metadata": {
    "collapsed": true
   },
   "source": [
    "plt.plot(tr_rate, label='train')\n",
    "plt.plot(val_rate, label='validation')\n",
    "plt.plot(f1[0], label='f1 score')\n",
    "plt.ylim([0,1])\n",
    "plt.legend(loc=5)\n",
    "#print(max(val_rate), layers, learning_rate)\n",
    "print(\"Classes: {:2}, val_rate: {:.4}, Layers: {}, rType: {:11}|\\nlr_rate: {}, batch_size: {}, epochs: {}, time: {}, fsize={}\".format(\n",
    "        osize, max(val_rate), layers, rType, learning_rate, batch_size, epochs, full_time, f_size))"
   ]
  },
  {
   "cell_type": "markdown",
   "metadata": {},
   "source": [
    "---"
   ]
  },
  {
   "cell_type": "code",
   "execution_count": 30,
   "metadata": {
    "collapsed": true
   },
   "outputs": [],
   "source": [
    "tr1, vr1 = tr_rate, val_rate"
   ]
  },
  {
   "cell_type": "code",
   "execution_count": 18,
   "metadata": {
    "collapsed": true
   },
   "outputs": [],
   "source": [
    "tr2, vr2 = tr_rate, val_rate"
   ]
  },
  {
   "cell_type": "code",
   "execution_count": 24,
   "metadata": {
    "collapsed": true
   },
   "outputs": [],
   "source": [
    "tr3, vr3 = tr_rate, val_rate"
   ]
  },
  {
   "cell_type": "code",
   "execution_count": 26,
   "metadata": {
    "collapsed": false,
    "scrolled": true
   },
   "outputs": [
    {
     "data": {
      "image/png": "[encoded data removed]",
      "text/plain": [
       "<matplotlib.figure.Figure at 0x7fee60423208>"
      ]
     },
     "metadata": {},
     "output_type": "display_data"
    }
   ],
   "source": [
    "fig = plt.figure()\n",
    "ax = fig.add_subplot(111)\n",
    "\n",
    "x = [i*200 for i in range(len(tr_rate))]\n",
    "ax.plot(x,vr1, label='200 neuronów')\n",
    "ax.plot(x,vr2, label='500 neuronów')\n",
    "ax.plot(x,vr3, label='800 neuronów')\n",
    "ax.legend(loc=5)\n",
    "ax.set_ylabel('Dokładność')\n",
    "ax.set_xlabel('Krok')\n",
    "plt.ylim([0,1])\n",
    "plt.xlim([0,x[-1]])\n",
    "vals = ax.get_yticks()\n",
    "ax.set_yticklabels(['{:3.0f}%'.format(x*100) for x in vals])\n",
    "plt.tight_layout()\n",
    "plt.savefig('layers_diff.pdf')"
   ]
  },
  {
   "cell_type": "markdown",
   "metadata": {},
   "source": [
    "---"
   ]
  },
  {
   "cell_type": "markdown",
   "metadata": {},
   "source": [
    "---"
   ]
  },
  {
   "cell_type": "markdown",
   "metadata": {},
   "source": [
    "---"
   ]
  },
  {
   "cell_type": "markdown",
   "metadata": {},
   "source": [
    "# CSV -- Class Sizes for training and drugs"
   ]
  },
  {
   "cell_type": "code",
   "execution_count": null,
   "metadata": {
    "collapsed": true
   },
   "outputs": [],
   "source": [
    "drugs_sum = drug_labels.sum(axis=0)\n",
    "\n",
    "with open('class_sizes.csv','w') as f:\n",
    "    f.write(',Target,Training molecules,Drugs\\n')\n",
    "    for i in range(73):\n",
    "        line = '{},'.format(i+1)\n",
    "        line += receptors[i][0].strip('.ism') + ','\n",
    "        line += receptors[i][1] + ','\n",
    "        line += str(drugs_sum[i])\n",
    "        line += '\\n'\n",
    "        f.write(line)"
   ]
  },
  {
   "cell_type": "markdown",
   "metadata": {},
   "source": [
    "# Plots - backup"
   ]
  },
  {
   "cell_type": "code",
   "execution_count": null,
   "metadata": {
    "collapsed": true
   },
   "outputs": [],
   "source": [
    "def filename_gen(plot_type='', path=''):\n",
    "    ''' Generates a filename for a plot. '''\n",
    "    if plot_type != '':\n",
    "        plot_type += '_'\n",
    "    filename = plot_type\n",
    "    layers_str = \"{}'{}\".format(len(layers),max(layers))\n",
    "    filename += \"{}_{}_{}_{:>6}_{}_{}_{:.4}_{}\".format(\n",
    "                num_class, f_size, layers_str, learning_rate, batch_size, epochs, max(val_rate), rType)\n",
    "    filename = filename.replace(\".\",\"'\")\n",
    "    filename = filename.replace(\" \",\"_\")\n",
    "    filename = path + filename + \".pdf\"\n",
    "    return filename\n",
    "\n",
    "def save_accuracy_plot(tr_rate, save=True, path=\"plots/\"):\n",
    "    '''\n",
    "    Draws and saves a plot which displays changes of accuracy \n",
    "    during training for training and validation sets.\n",
    "    '''\n",
    "    plt.close()\n",
    "    fig = plt.figure()\n",
    "    ax = fig.add_subplot(111)\n",
    "    \n",
    "    x = [i*200 for i in range(len(tr_rate))]\n",
    "    ax.plot(x,tr_rate, label='trening')\n",
    "    ax.plot(x,val_rate, label='walidacja')\n",
    "    ax.legend(loc=5)\n",
    "    ax.set_ylabel('Dokładność')\n",
    "    ax.set_xlabel('Krok')\n",
    "    plt.ylim([0,1])\n",
    "    vals = ax.get_yticks()\n",
    "    ax.set_yticklabels(['{:3.0f}%'.format(x*100) for x in vals])\n",
    "    \n",
    "    title = \"Cele terapeutyczne: {:2}, Szybkość uczenia: {}\\nWarstwy: {}, Rozmiar batcha: {}, Liczba epok: {}\".format(\n",
    "        num_class, learning_rate, layers, batch_size, epochs)\n",
    "    plt.title(title);\n",
    "    \n",
    "    if save:\n",
    "        filename = filename_gen('',path)\n",
    "        plt.savefig(filename);\n",
    "\n",
    "def save_f1_plot(f1, save=True, path=\"plots/\"):\n",
    "    '''\n",
    "    Draws and saves a plot which displays changes of F1-score\n",
    "    during training for the validation set.\n",
    "    F1 calculated and drawn in three types of averaging.\n",
    "    '''\n",
    "    plt.close()\n",
    "    fig = plt.figure()\n",
    "    x = [i*200 for i in range(len(f1[0]))]\n",
    "    ax = fig.add_subplot(111)\n",
    "    \n",
    "    ax.plot(x,f1[0], label='F1 micro')\n",
    "    ax.plot(x,f1[1], label='F1 macro')\n",
    "    ax.plot(x,f1[2], label='F1 ważone')\n",
    "    ax.legend(loc=7)\n",
    "    ax.set_ylabel('F1')\n",
    "    ax.set_xlabel('Krok')\n",
    "    plt.ylim([0,1])\n",
    "    vals = ax.get_yticks()\n",
    "    ax.set_yticklabels(['{:3.0f}%'.format(x*100) for x in vals])\n",
    "    \n",
    "    title = \"Cele terapeutyczne: {:2}, Szybkość uczenia: {}\\nWarstwy: {}, Rozmiar batcha: {}, Liczba epok: {}\".format(\n",
    "        num_class, learning_rate, layers, batch_size, epochs)\n",
    "    plt.title(title);\n",
    "    \n",
    "    if save:\n",
    "        filename = filename_gen('f1',path)\n",
    "        plt.savefig(filename);\n",
    "\n",
    "def save_confusion_matrix_plot(cm, save=True, path='plots/'):\n",
    "    '''\n",
    "    Draws and saves a histogram of true/false positive/negative fractions:\n",
    "    True Positive rate, False Positive Rate, False Negative Rate and\n",
    "    False Discovery Rate.\n",
    "    True Negative Rate not included due to having values indistinguishably\n",
    "    close to 100%; however, TNR = 100% - FPR, and the FPR histogram is more\n",
    "    visually clear.\n",
    "    '''\n",
    "    plt.close()\n",
    "    fig = plt.figure()\n",
    "    subplots = [fig.add_subplot(221), fig.add_subplot(222),\n",
    "                fig.add_subplot(223), fig.add_subplot(224)]\n",
    "    titles = ['Odsetek prawdziwie pozytywnych', 'Odsetek fałszywie pozytywnych',\n",
    "              'Odsetek fałszywie negatywnych', 'Odsetek fałszywych odkryć']\n",
    "    rate_values = [cm[0]/(cm[0]+cm[1]), cm[3]/(cm[2]+cm[3]),\n",
    "                   cm[1]/(cm[0]+cm[1]), cm[3]/(cm[0]+cm[3])]\n",
    "    xlabel = 'Cele terapeutyczne'\n",
    "    xrange = range(1,len(cm[0])+1)\n",
    "    \n",
    "    for i, ax in enumerate(subplots):\n",
    "        ax.bar(xrange, rate_values[i])\n",
    "        ax.set_title(titles[i])\n",
    "        ax.set_xlabel(xlabel)\n",
    "        ax.set_xticks([])\n",
    "        ax.set_xlim([0,num_class+2])\n",
    "        vals = ax.get_yticks()\n",
    "        # Set float format for ticks on the Y axis\n",
    "        if i != 1:\n",
    "            ax.set_yticklabels(['{:3.0f}%'.format(x*100) for x in vals])\n",
    "        # greater precision on the False Positives plot due to the rate being very small    \n",
    "        else:\n",
    "            ax.set_yticklabels(['{:3.2f}%'.format(x*100) for x in vals])\n",
    "    \n",
    "    plt.tight_layout()\n",
    "    title = \"Cele terapeutyczne: {:2}, Szybkość uczenia: {}\\nWarstwy: {}, Rozmiar batcha: {}, Liczba epok: {}\".format(\n",
    "        num_class, learning_rate, layers, batch_size, epochs)\n",
    "    fig.suptitle(title)\n",
    "    fig.subplots_adjust(top=0.85)\n",
    "    \n",
    "    if save:\n",
    "        filename = filename_gen('cm',path)\n",
    "        plt.savefig(filename)"
   ]
  }
 ],
 "metadata": {
  "anaconda-cloud": {},
  "kernelspec": {
   "display_name": "Python 3",
   "language": "python",
   "name": "python3"
  },
  "language_info": {
   "codemirror_mode": {
    "name": "ipython",
    "version": 3
   },
   "file_extension": ".py",
   "mimetype": "text/x-python",
   "name": "python",
   "nbconvert_exporter": "python",
   "pygments_lexer": "ipython3",
   "version": "3.5.4"
  }
 },
 "nbformat": 4,
 "nbformat_minor": 1
}
