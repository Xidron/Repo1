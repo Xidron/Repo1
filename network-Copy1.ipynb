{
 "cells": [
  {
   "cell_type": "markdown",
   "metadata": {},
   "source": [
    "# 1. Imports"
   ]
  },
  {
   "cell_type": "code",
   "execution_count": 1,
   "metadata": {
    "collapsed": false
   },
   "outputs": [
    {
     "name": "stderr",
     "output_type": "stream",
     "text": [
      "/home/maks/anaconda3/envs/qSAR/lib/python3.5/site-packages/IPython/html.py:14: ShimWarning: The `IPython.html` package has been deprecated. You should import from `notebook` instead. `IPython.html.widgets` has moved to `ipywidgets`.\n",
      "  \"`IPython.html.widgets` has moved to `ipywidgets`.\", ShimWarning)\n"
     ]
    }
   ],
   "source": [
    "#Imports - general\n",
    "import random\n",
    "random.seed(15)\n",
    "import tensorflow as tf\n",
    "import numpy as np\n",
    "import matplotlib.pyplot as plt\n",
    "import seaborn as sns\n",
    "sns.set_style('whitegrid')\n",
    "sns.set_context('paper')\n",
    "from math import sqrt\n",
    "from sklearn.metrics import f1_score, roc_curve, auc, precision_score, accuracy_score\n",
    "from sklearn.model_selection import train_test_split\n",
    "%matplotlib inline\n",
    "\n",
    "#Imports - RDKit\n",
    "from rdkit.Chem import MolFromSmiles\n",
    "from rdkit.Chem.AllChem import GetMorganFingerprintAsBitVect\n",
    "from rdkit.Chem.rdMolDescriptors import *\n",
    "\n",
    "#Imports - additional\n",
    "from os import listdir #for getting a list of files in a dir to process checkpoints\n",
    "import time # for real-time timing the progress of the network"
   ]
  },
  {
   "cell_type": "markdown",
   "metadata": {},
   "source": [
    "# Some global variables"
   ]
  },
  {
   "cell_type": "code",
   "execution_count": 2,
   "metadata": {
    "collapsed": false
   },
   "outputs": [
    {
     "name": "stdout",
     "output_type": "stream",
     "text": [
      "73\n"
     ]
    },
    {
     "data": {
      "text/plain": [
       "[['DRD2.ism', '6229'],\n",
       " ['HTR1A.ism', '5592'],\n",
       " ['SLC6A4.ism', '5414'],\n",
       " ['OPRM1.ism', '5263'],\n",
       " ['ADORA1.ism', '4136']]"
      ]
     },
     "execution_count": 2,
     "metadata": {},
     "output_type": "execute_result"
    }
   ],
   "source": [
    "batch_number = 0\n",
    "#Get the list of filenames in data/targets/\n",
    "#ordered by the size of class, descending:\n",
    "with open(\"receptors_desc.txt\", \"r\") as f:\n",
    "    receptors = [l.strip().split() for l in f.readlines()]\n",
    "print(len(receptors))\n",
    "receptors[:5]"
   ]
  },
  {
   "cell_type": "markdown",
   "metadata": {},
   "source": [
    "---"
   ]
  },
  {
   "cell_type": "markdown",
   "metadata": {},
   "source": [
    "# 2. Functions"
   ]
  },
  {
   "cell_type": "markdown",
   "metadata": {},
   "source": [
    "## Preparing the dataset"
   ]
  },
  {
   "cell_type": "markdown",
   "metadata": {},
   "source": [
    "#### Reading smiles of molecules from .ism files"
   ]
  },
  {
   "cell_type": "code",
   "execution_count": 3,
   "metadata": {
    "collapsed": true
   },
   "outputs": [],
   "source": [
    "def read_ism(file_name):\n",
    "    ''' Parse an .ism file, returning a list of smiles of molecules '''\n",
    "    mol_list = []\n",
    "    with open(file_name, 'r') as f:\n",
    "        frl = f.readlines()\n",
    "    for line in frl:\n",
    "        line = line.split('\\t')\n",
    "        smile = line[0]\n",
    "        mol_list.append(smile)\n",
    "    return mol_list"
   ]
  },
  {
   "cell_type": "markdown",
   "metadata": {},
   "source": [
    "#### Creating molecule representations"
   ]
  },
  {
   "cell_type": "code",
   "execution_count": 4,
   "metadata": {
    "collapsed": true
   },
   "outputs": [],
   "source": [
    "def get_class_vectors(mol_matrix, rType = 'fingerprint', f_size=2048):\n",
    "    ''' For each molecule in the array (list of lists):\n",
    "        create its representation for training (ingerprint/descriptor/mixed)\n",
    "        and a binary vector showing which classes it belongs to.\n",
    "        Fingerprint will be of size = f_size.\n",
    "    '''\n",
    "    cv_dict = {}\n",
    "    for i,l in enumerate(mol_matrix):\n",
    "        for smile in l:\n",
    "            if smile not in cv_dict:\n",
    "                \n",
    "                mol = MolFromSmiles(smile)\n",
    "                if rType == 'fingerprint':\n",
    "                    rep = fingerprint(mol, f_size)\n",
    "                elif rType == 'descriptor':\n",
    "                    rep = descriptor(mol)\n",
    "                else:\n",
    "                    rep = descriptor(mol) + list(fingerprint(mol, f_size))\n",
    "                \n",
    "                labels = [0]*len(mol_matrix)\n",
    "                cv_dict[smile] = [rep, labels]\n",
    "            cv_dict[smile][1][i] = 1\n",
    "    # Normalize descriptors\n",
    "    if rType != 'fingerprint':\n",
    "        matrix_to_norm = []\n",
    "        for vals in cv_dict.values():\n",
    "            matrix_to_norm.append(vals[0][:37]) #there are 37 descriptors\n",
    "        matrix_to_norm = np.array(matrix_to_norm)\n",
    "        v_min = matrix_to_norm.min(axis=0)\n",
    "        v_max = matrix_to_norm.max(axis=0) - v_min\n",
    "        for key in cv_dict.keys():\n",
    "            for i in range(37):\n",
    "                normed_val = (cv_dict[key][0][i] - v_min[i]) / v_max[i]\n",
    "                cv_dict[key][0][i] = normed_val\n",
    "    return cv_dict\n",
    "\n",
    "def fingerprint(mol, f_size=2048):\n",
    "    return GetMorganFingerprintAsBitVect(mol,2,f_size)\n",
    "\n",
    "def descriptor(mol):\n",
    "    functions = [CalcChi0n,\n",
    "            CalcChi0v,\n",
    "            CalcChi1n,\n",
    "            CalcChi1v,\n",
    "            CalcChi2n,\n",
    "            CalcChi2v,\n",
    "            CalcChi3n,\n",
    "            CalcChi3v,\n",
    "            CalcChi4n,\n",
    "            CalcChi4v,\n",
    "            CalcExactMolWt,\n",
    "            CalcFractionCSP3,\n",
    "            CalcHallKierAlpha,\n",
    "            CalcKappa1,\n",
    "            CalcKappa2,\n",
    "            CalcKappa3,\n",
    "            CalcLabuteASA,\n",
    "            CalcNumAliphaticCarbocycles,\n",
    "            CalcNumAliphaticHeterocycles,\n",
    "            CalcNumAliphaticRings,\n",
    "            CalcNumAmideBonds,\n",
    "            CalcNumAromaticCarbocycles,\n",
    "            CalcNumAromaticHeterocycles,\n",
    "            CalcNumAromaticRings,\n",
    "            CalcNumBridgeheadAtoms,\n",
    "            CalcNumHBA,\n",
    "            CalcNumHBD,\n",
    "            CalcNumHeteroatoms,\n",
    "            CalcNumHeterocycles,\n",
    "            CalcNumLipinskiHBA,\n",
    "            CalcNumLipinskiHBD,\n",
    "            CalcNumRings,\n",
    "            CalcNumSaturatedCarbocycles,\n",
    "            CalcNumSaturatedHeterocycles,\n",
    "            CalcNumSaturatedRings,\n",
    "            CalcNumSpiroAtoms,\n",
    "            CalcTPSA]\n",
    "        \n",
    "    descriptors = []\n",
    "    for function in functions:\n",
    "        descriptors.append(function(mol))\n",
    "    return descriptors"
   ]
  },
  {
   "cell_type": "markdown",
   "metadata": {},
   "source": [
    "#### Creating training and validation sets"
   ]
  },
  {
   "cell_type": "code",
   "execution_count": 5,
   "metadata": {
    "collapsed": true
   },
   "outputs": [],
   "source": [
    "def prepare_sets(mol_matrix, val_prc=0.2, rType='fingerprint', f_size=2048):\n",
    "    ''' Create training and validation sets with labels from an array of smiles\n",
    "        rType - type of representation - fingerprint/descriptor/mixed\n",
    "        f_size - size of the fingerprint if rType is fingerprint or mixed '''\n",
    "    # Create a representation and a class vector for each molecule\n",
    "    molecules = get_class_vectors(mol_matrix,rType,f_size)\n",
    "\n",
    "    # Split the data into training and validation sets\n",
    "    mts=[[],[]]\n",
    "    for val in molecules.values():\n",
    "        mts[0].append(val[0]) # [fingerprint]\n",
    "        mts[1].append(val[1]) # [label]\n",
    "\n",
    "    molecules_split = train_test_split(mts[0], mts[1], test_size=val_prc, random_state=15)#, stratify=mts[1])\n",
    "\n",
    "    # Validation set:\n",
    "    #     a list of representations (mols) and\n",
    "    #     a list of corresponding class vectors (labels)\n",
    "    val_mols = np.array(molecules_split[1])\n",
    "    val_labels = np.array(molecules_split[3])\n",
    "    # Training set:\n",
    "    train_set = [[],[]]\n",
    "    train_set[0] = np.array(molecules_split[0])\n",
    "    train_set[1] = np.array(molecules_split[2])\n",
    "    \n",
    "    return train_set, val_mols, val_labels"
   ]
  },
  {
   "cell_type": "markdown",
   "metadata": {},
   "source": [
    "## Neuron layers"
   ]
  },
  {
   "cell_type": "code",
   "execution_count": 6,
   "metadata": {
    "collapsed": true
   },
   "outputs": [],
   "source": [
    "def neuron_layer(isize, hsize, prev_layer):\n",
    "    ''' Create a single neuron layer - weight, bias, placeholder '''\n",
    "    # weights and biases\n",
    "    w = tf.Variable(tf.random_normal((isize, hsize), stddev=1/sqrt(isize)))\n",
    "    b = tf.Variable(tf.random_normal((hsize,), stddev=0.1))\n",
    "    # neuron\n",
    "    h = tf.nn.relu(tf.matmul(prev_layer, w) + b)\n",
    "    return w,b,h\n",
    "\n",
    "def setup_layers(layers, osize, isize=2048):\n",
    "    ''' Create placeholders, weights and biases for all requested layers '''\n",
    "    x = tf.placeholder(tf.float32, shape=[None,isize])\n",
    "    active_layers = {'x':x,'w':[],'b':[],'h':[]}\n",
    "    \n",
    "    for i in range(len(layers)):\n",
    "        if i == 0:\n",
    "            w,b,h = neuron_layer(isize, layers[0], x)\n",
    "        else:\n",
    "            w,b,h = neuron_layer(layers[i-1], layers[i], prev_h)\n",
    "        active_layers['w'].append(w)\n",
    "        active_layers['b'].append(b)\n",
    "        active_layers['h'].append(h)\n",
    "        prev_h = h\n",
    "    \n",
    "    # Output Layer\n",
    "    wo = tf.Variable(tf.random_normal((layers[-1], osize), stddev=1/sqrt(layers[-1])))\n",
    "    bo = tf.Variable(tf.random_normal((osize,), stddev=0.1))\n",
    "    a = tf.matmul(h, wo) + bo #h is the one last initialized in the loop > of the last layer\n",
    "    \n",
    "    # Placeholder for targets\n",
    "    t = tf.placeholder(tf.float32, shape=[None, osize])\n",
    "    \n",
    "    active_layers['out'] = [wo,bo,a,t]\n",
    "    return active_layers"
   ]
  },
  {
   "cell_type": "markdown",
   "metadata": {},
   "source": [
    "## Training functions"
   ]
  },
  {
   "cell_type": "code",
   "execution_count": 7,
   "metadata": {
    "collapsed": true
   },
   "outputs": [],
   "source": [
    "def next_batch(data, size): #data = [[fingerprints], [labels]]\n",
    "    ''' Extract the next batch from a dataset.\n",
    "        If dataset size is not dividable by batch size with reminder 0,\n",
    "       the last full batch and the remaining incomplete batch will be merged \n",
    "       to incorporate all data.'''\n",
    "    global batch_number\n",
    "    if batch_number == len(data[0])//size-1:\n",
    "        #the last batch may be larger to incorporate all data\n",
    "        # -1 because the first batch number is 0\n",
    "        start = batch_number*size\n",
    "        batch_number = 0\n",
    "        return data[0][start:], data[1][start:]\n",
    "    start = batch_number*size\n",
    "    batch_number += 1\n",
    "    return data[0][start:start+size], data[1][start:start+size]\n",
    "\n",
    "def shuffle_data(data):\n",
    "    '''Used to shuffle the training set after an epoch'''\n",
    "    indices = list(range(len(data[0])))\n",
    "    random.shuffle(indices)\n",
    "    new_data = [data[0][indices], data[1][indices]]\n",
    "    return new_data\n",
    "\n",
    "def timer(start,end):\n",
    "    ''' For timing the training of the network '''\n",
    "    hours, rem = divmod(end-start, 3600)\n",
    "    minutes, seconds = divmod(rem, 60)\n",
    "    return \"{:0>2}:{:0>2}:{:0>2}\".format(int(hours),int(minutes),int(seconds))\n",
    "\n",
    "def tf_fractions(a1, a2):\n",
    "    ''' Calculate true/false positives/negatives in a2 based on a1\n",
    "        for each class seperately. '''\n",
    "    num_class = len(a1[0]) #number of classes\n",
    "    tp = np.array([0] * num_class)\n",
    "    fn = np.array([0] * num_class)\n",
    "    tn = np.array([0] * num_class)\n",
    "    fp = np.array([0] * num_class)\n",
    "    for i in range(num_class):\n",
    "        for j in range(len(a1)):\n",
    "            if a2[j][i] == a1[j][i]:\n",
    "                if a1[j][i] == 1:\n",
    "                    tp[i] += 1\n",
    "                else:\n",
    "                    tn[i] += 1\n",
    "            else:\n",
    "                if a1[j][i] == 1:\n",
    "                    fn[i] += 1\n",
    "                else:\n",
    "                    fp[i] += 1\n",
    "    return [tp,fn,tn,fp]"
   ]
  },
  {
   "cell_type": "code",
   "execution_count": 8,
   "metadata": {
    "collapsed": true
   },
   "outputs": [],
   "source": [
    "def train_network(data, batch_size, epochs, verbose=True, save=True):\n",
    "    ''' This function trains the network, returning the rate of training and validation accuracy '''\n",
    "    # Variables:\n",
    "    global start, train, val_pred, batch_number\n",
    "    iterations = len(data[0]) // batch_size * epochs\n",
    "    if verbose: print(iterations, ' iterations')\n",
    "    tr_rate = []\n",
    "    val_rate = []\n",
    "    f1 = [[],[],[]]\n",
    "    tf_frac = []\n",
    "    batch_number = 0\n",
    "    save_step=0\n",
    "    # Training:\n",
    "    with tf.Session() as session:\n",
    "        session.run(tf.global_variables_initializer())\n",
    "\n",
    "        if save:\n",
    "            saver.save(session, \"tmp/checkpoint\", global_step=save_step)\n",
    "        \n",
    "        # Train the network\n",
    "        for i in range(iterations):\n",
    "            if i != 0 and batch_number == 0:\n",
    "                data = shuffle_data(data)\n",
    "            \n",
    "            mols, labels = next_batch(data, batch_size)\n",
    "            \n",
    "            session.run(train, feed_dict={x: mols, t: labels})\n",
    "            \n",
    "            # Display progress and make a checkpoint\n",
    "            if i == 0 or (i+1)%(iterations//10) == 0:\n",
    "                if save:\n",
    "                    save_step += 1\n",
    "                    saver.save(session, \"tmp/checkpoint\", global_step = save_step)\n",
    "                if verbose:\n",
    "                    progress = int((i+1)/(iterations//10))*10\n",
    "                    now = timer(start,time.time())\n",
    "                    print(\"%3i\" % progress + '%, ' + str(now))                \n",
    "            \n",
    "            # Validate predictions\n",
    "            if i % 200 == 0 or i == iterations-1:\n",
    "                \n",
    "                tr_target = labels\n",
    "                tr_predictions = session.run(predict, feed_dict={x: mols, t: labels})\n",
    "                tr_rate.append((tr_target == tr_predictions).all(axis=1).mean())\n",
    "\n",
    "                val_predictions = session.run(predict, feed_dict={x: val_mols, t: val_labels})\n",
    "                val_rate.append((val_labels == val_predictions).all(axis=1).mean())\n",
    "                \n",
    "                \n",
    "                f1[0].append(f1_score(val_labels, val_predictions, average='micro'))\n",
    "                f1[1].append(f1_score(val_labels, val_predictions, average='macro'))\n",
    "                f1[2].append(f1_score(val_labels, val_predictions, average='weighted'))\n",
    "                \n",
    "        tf_frac = tf_fractions(val_labels,val_predictions)\n",
    "        # Final checkpoint\n",
    "        if save:\n",
    "            saver.save(session, \"tmp/checkpoint\", global_step=save_step+1)\n",
    "    return tr_rate, val_rate, f1, tf_frac\n"
   ]
  },
  {
   "cell_type": "markdown",
   "metadata": {},
   "source": [
    "## Functions to draw and save plots"
   ]
  },
  {
   "cell_type": "code",
   "execution_count": 9,
   "metadata": {
    "collapsed": true
   },
   "outputs": [],
   "source": [
    "def filename_gen(plot_type='', path=''):\n",
    "    ''' Generate filename for a plot. '''\n",
    "    if plot_type != '':\n",
    "        plot_type += '_'\n",
    "    filename = plot_type\n",
    "    layers_str = \"{}'{}\".format(len(layers),max(layers))\n",
    "    filename += \"{}_{}_{}_{:>6}_{}_{}_{:.4}_{}\".format(\n",
    "                num_class, f_size, layers_str, learning_rate, batch_size, epochs, max(val_rate), rType)\n",
    "    filename = filename.replace(\".\",\"'\")\n",
    "    filename = filename.replace(\" \",\"_\")\n",
    "    filename = path + filename + \".pdf\"\n",
    "    return filename\n",
    "\n",
    "def save_accuracy_plot(tr_rate, save=True, path=\"plots/\"):\n",
    "    ''' Draws and saves a plot which displays changes of accuracy \n",
    "        during training for training and validation sets. '''\n",
    "    plt.close()\n",
    "    fig = plt.figure()\n",
    "    ax = fig.add_subplot(111)\n",
    "    \n",
    "    x = [i*200 for i in range(len(tr_rate))]\n",
    "    ax.plot(x,tr_rate, label='trening')\n",
    "    ax.plot(x,val_rate, label='walidacja')\n",
    "    ax.legend(loc=5)\n",
    "    ax.set_ylabel('Dokładność')\n",
    "    ax.set_xlabel('Krok')\n",
    "    plt.ylim([0,1])\n",
    "    vals = ax.get_yticks()\n",
    "    ax.set_yticklabels(['{:3.0f}%'.format(x*100) for x in vals])\n",
    "    \n",
    "    title = \"Cele terapeutyczne: {:2}, Szybkość uczenia: {}\\nWarstwy: {}, Rozmiar batcha: {}, Liczba epok: {}\".format(\n",
    "        num_class, learning_rate, layers, batch_size, epochs)\n",
    "    plt.title(title);\n",
    "    \n",
    "    if save:\n",
    "        filename = filename_gen('',path)\n",
    "        plt.savefig(filename);\n",
    "\n",
    "def save_f1_plot(f1, save=True, path=\"plots/\"):\n",
    "    ''' Draws and saves a plot which displays changes of F1-score\n",
    "        during training for the validation set.\n",
    "        F1 calculated and drawn in three types of averaging. '''\n",
    "    plt.close()\n",
    "    fig = plt.figure()\n",
    "    x = [i*200 for i in range(len(f1[0]))]\n",
    "    ax = fig.add_subplot(111)\n",
    "    \n",
    "    ax.plot(x,f1[0], label='F1 micro')\n",
    "    ax.plot(x,f1[1], label='F1 macro')\n",
    "    ax.plot(x,f1[2], label='F1 ważone')\n",
    "    ax.legend(loc=7)\n",
    "    ax.set_ylabel('F1')\n",
    "    ax.set_xlabel('Krok')\n",
    "    plt.ylim([0,1])\n",
    "    vals = ax.get_yticks()\n",
    "    ax.set_yticklabels(['{:3.0f}%'.format(x*100) for x in vals])\n",
    "    \n",
    "    title = \"Cele terapeutyczne: {:2}, Szybkość uczenia: {}\\nWarstwy: {}, Rozmiar batcha: {}, Liczba epok: {}\".format(\n",
    "        num_class, learning_rate, layers, batch_size, epochs)\n",
    "    plt.title(title);\n",
    "    \n",
    "    if save:\n",
    "        filename = filename_gen('f1',path)\n",
    "        plt.savefig(filename);\n",
    "\n",
    "def save_tf_fractions_plot(tff, save=True, path='plots/'):\n",
    "    ''' Draws and saves a histogram of true/false positive/negative fractions:\n",
    "        True Positive rate, False Positive Rate, False Negative Rate and\n",
    "        False Discovery Rate.\n",
    "        True Negative Rate not included due to having values indistinguishably\n",
    "        close to 100%; however, TNR = 100% - FPR, and the FPR histogram is more\n",
    "        visually clear. '''\n",
    "    plt.close()\n",
    "    fig = plt.figure()\n",
    "    subplots = [fig.add_subplot(221), fig.add_subplot(222),\n",
    "                fig.add_subplot(223), fig.add_subplot(224)]\n",
    "    titles = ['Odsetek prawdziwie pozytywnych', 'Odsetek fałszywie pozytywnych',\n",
    "              'Odsetek fałszywie negatywnych', 'Odsetek fałszywych odkryć']\n",
    "    rate_values = [tff[0]/(tff[0]+tff[1]), tff[3]/(tff[2]+tff[3]),\n",
    "                   tff[1]/(tff[0]+tff[1]), tff[3]/(tff[0]+tff[3])]\n",
    "    xlabel = 'Cele terapeutyczne'\n",
    "    xrange = range(1,len(tff[0])+1)\n",
    "    \n",
    "    for i, ax in enumerate(subplots):\n",
    "        ax.bar(xrange, rate_values[i])\n",
    "        ax.set_title(titles[i])\n",
    "        ax.set_xlabel(xlabel)\n",
    "        ax.set_xticks([])\n",
    "        ax.set_xlim([0,num_class+2])\n",
    "        vals = ax.get_yticks()\n",
    "        if i == 1: #false positive rate is very small\n",
    "            ax.set_yticklabels(['{:3.2f}%'.format(x*100) for x in vals])\n",
    "        else:\n",
    "            ax.set_yticklabels(['{:3.0f}%'.format(x*100) for x in vals])\n",
    "    \n",
    "    plt.tight_layout()\n",
    "    title = \"Cele terapeutyczne: {:2}, Szybkość uczenia: {}\\nWarstwy: {}, Rozmiar batcha: {}, Liczba epok: {}\".format(\n",
    "        num_class, learning_rate, layers, batch_size, epochs)\n",
    "    fig.suptitle(title)\n",
    "    fig.subplots_adjust(top=0.85)\n",
    "    \n",
    "    if save:\n",
    "        filename = filename_gen('tff',path)\n",
    "        plt.savefig(filename)"
   ]
  },
  {
   "cell_type": "markdown",
   "metadata": {},
   "source": [
    "---"
   ]
  },
  {
   "cell_type": "markdown",
   "metadata": {},
   "source": [
    "# 3. Script"
   ]
  },
  {
   "cell_type": "markdown",
   "metadata": {},
   "source": [
    "### Prepare data"
   ]
  },
  {
   "cell_type": "code",
   "execution_count": 10,
   "metadata": {
    "collapsed": false
   },
   "outputs": [
    {
     "data": {
      "text/plain": [
       "['CN1CCN(CC1)C2=Cc3ccccc3C(=C(C)C)c4ccccc24',\n",
       " 'CN1CCN(CC1)C2=Nc3cc(Cl)ccc3Nc4ccccc24',\n",
       " 'CN1CCC(CC1)C2=Cc3cc(Cl)ccc3Cc4ccccc24']"
      ]
     },
     "execution_count": 10,
     "metadata": {},
     "output_type": "execute_result"
    }
   ],
   "source": [
    "num_class = 73 #first n most numerous classes - 2<=n<=73\n",
    "ism_path = 'data/targets/'   #path to .ism files which represent classes and contain molecules\n",
    "mol_matrix = []\n",
    "for line in receptors[:num_class]:\n",
    "    name = line[0]\n",
    "    mol_list = read_ism(ism_path + name)\n",
    "    mol_matrix.append(mol_list)\n",
    "mol_matrix[0][:3]"
   ]
  },
  {
   "cell_type": "markdown",
   "metadata": {},
   "source": [
    "# TESTING - splitting data"
   ]
  },
  {
   "cell_type": "raw",
   "metadata": {
    "collapsed": true
   },
   "source": [
    "# StratifiedShuffleSplit\n",
    "from sklearn.model_selection import StratifiedShuffleSplit\n",
    "\n",
    "sss = StratifiedShuffleSplit(n_splits=1, test_size=0.2, random_state=15)\n",
    "\n",
    "for train_index, test_index in sss.split(mts[0], mts[1]):\n",
    "    X_train, X_test = mts[0][train_index], mts[1][test_index]\n",
    "    y_train, y_test = mts[0][train_index], mts[1][test_index]"
   ]
  },
  {
   "cell_type": "code",
   "execution_count": 76,
   "metadata": {
    "collapsed": true
   },
   "outputs": [],
   "source": [
    "data = get_class_vectors(mol_matrix,\"fingerprint\",1024)\n",
    "smiles, labels = [], []\n",
    "for key, val in data.items():\n",
    "    smiles.append(key)    #  smile       #CHANGE TO \"fingerprints\" WHEN IMPLEMENTING\n",
    "    labels.append(val[1]) # [label]\n",
    "# ADD THE FOLLOWING WHEN IMPLEMENTING\n",
    "#fingerprints = np.array(fingerprints)\n",
    "#labels = np.array(labels)"
   ]
  },
  {
   "cell_type": "code",
   "execution_count": 23,
   "metadata": {
    "collapsed": true
   },
   "outputs": [],
   "source": [
    "# Split the data into training and validation sets\n",
    "data_split = train_test_split(smiles, labels, test_size=0.2, random_state=15)#, stratify=labels)"
   ]
  },
  {
   "cell_type": "code",
   "execution_count": 24,
   "metadata": {
    "collapsed": true
   },
   "outputs": [],
   "source": [
    "# Are there any repetitions between the train and validation sets?\n",
    "train_smiles, test_smiles = data_split[0], data_split[1]\n",
    "repeated=[]\n",
    "for smile in train_smiles:\n",
    "    if smile in test_smiles:\n",
    "        repeated.append(smile)\n",
    "len(repeated)"
   ]
  },
  {
   "cell_type": "markdown",
   "metadata": {},
   "source": [
    "### Unique labels"
   ]
  },
  {
   "cell_type": "code",
   "execution_count": 87,
   "metadata": {
    "collapsed": false
   },
   "outputs": [
    {
     "data": {
      "text/plain": [
       "(82957, 73)"
      ]
     },
     "execution_count": 87,
     "metadata": {},
     "output_type": "execute_result"
    }
   ],
   "source": [
    "# All labels\n",
    "np_labels = np.array(mts[1])\n",
    "np_labels.shape"
   ]
  },
  {
   "cell_type": "code",
   "execution_count": 75,
   "metadata": {
    "collapsed": false,
    "scrolled": true
   },
   "outputs": [
    {
     "data": {
      "text/plain": [
       "(997, 73)"
      ]
     },
     "execution_count": 75,
     "metadata": {},
     "output_type": "execute_result"
    }
   ],
   "source": [
    "# Unique labels\n",
    "unique_labels, unique_indices, unique_counts = np.unique(ar=np_labels, return_index=True, return_counts=True, axis=0)\n",
    "unique_labels.shape"
   ]
  },
  {
   "cell_type": "code",
   "execution_count": 74,
   "metadata": {
    "collapsed": false
   },
   "outputs": [
    {
     "data": {
      "text/plain": [
       "(506, 73)"
      ]
     },
     "execution_count": 74,
     "metadata": {},
     "output_type": "execute_result"
    }
   ],
   "source": [
    "# The labels that appear only once\n",
    "unique_labels[unique_counts==1].shape"
   ]
  },
  {
   "cell_type": "code",
   "execution_count": 70,
   "metadata": {
    "collapsed": false,
    "scrolled": true
   },
   "outputs": [
    {
     "data": {
      "text/plain": [
       "array([ 3.11496468,  3.05793991,  2.49353528,  0.68402052,  0.1450677 ,\n",
       "        0.86676573,  0.47967685,  0.0533049 ,  2.03455964,  0.3353829 ,\n",
       "        0.11719895,  4.16010085,  7.02087287,  2.42275281,  6.62275887,\n",
       "        0.27667984,  7.12855427,  0.20333469,  0.21626298,  0.27855153,\n",
       "        0.40650407,  5.79862941,  0.        ,  0.05333333,  0.50139276,\n",
       "        8.92359175,  0.05592841,  4.60674157,  4.49640288,  5.75016523,\n",
       "        0.69979006,  0.6378455 ,  4.4935806 ,  9.84902948,  0.22156573,\n",
       "        1.27915726,  0.99616858,  1.92307692, 11.4924182 ,  0.32894737,\n",
       "       11.45228216,  0.43668122,  0.61188811, 10.9800363 ,  0.0929368 ,\n",
       "        3.93852065,  9.1350826 ,  2.64900662,  0.25      ,  1.40664962,\n",
       "        0.1303781 ,  0.40106952,  0.13793103,  0.29761905,  0.9478673 ,\n",
       "        0.        ,  0.        ,  0.        ,  0.        ,  0.        ,\n",
       "        3.003003  ,  0.        ,  0.33444816, 12.23628692,  0.51282051,\n",
       "        1.57068063,  0.        ,  0.56497175,  0.        ,  0.        ,\n",
       "        0.        ,  1.63934426,  1.69491525])"
      ]
     },
     "execution_count": 70,
     "metadata": {},
     "output_type": "execute_result"
    }
   ],
   "source": [
    "# Percentage of singular labels in relation to all molecules\n",
    "all_singular = np.sum(unique_labels[unique_counts==1], axis=0)\n",
    "all_singular/sum(np_labels)*100"
   ]
  },
  {
   "cell_type": "markdown",
   "metadata": {},
   "source": [
    "### Separate singular labels from the dataset"
   ]
  },
  {
   "cell_type": "code",
   "execution_count": 98,
   "metadata": {
    "collapsed": true
   },
   "outputs": [],
   "source": [
    "np_smiles = np.array(smiles)"
   ]
  },
  {
   "cell_type": "code",
   "execution_count": 91,
   "metadata": {
    "collapsed": true
   },
   "outputs": [],
   "source": [
    "singular_indices = unique_indices[unique_counts==1]"
   ]
  },
  {
   "cell_type": "code",
   "execution_count": 100,
   "metadata": {
    "collapsed": false
   },
   "outputs": [],
   "source": [
    "labels_no_singular = np.delete(np_labels, singular_indices, axis=0)"
   ]
  },
  {
   "cell_type": "code",
   "execution_count": 101,
   "metadata": {
    "collapsed": false
   },
   "outputs": [],
   "source": [
    "labels_only_singular = np_labels[singular_indices]"
   ]
  },
  {
   "cell_type": "code",
   "execution_count": 99,
   "metadata": {
    "collapsed": true
   },
   "outputs": [],
   "source": [
    "smiles_no_singular = np.delete(np_smiles, singular_indices, axis=0)\n",
    "smiles_only_singular = np_smiles[singular_indices]"
   ]
  },
  {
   "cell_type": "code",
   "execution_count": 116,
   "metadata": {
    "collapsed": false
   },
   "outputs": [],
   "source": [
    "# Split the data into training and validation sets\n",
    "data_split = train_test_split(smiles_no_singular, \n",
    "                              labels_no_singular, test_size=0.2, random_state=15, stratify=labels_no_singular)"
   ]
  },
  {
   "cell_type": "code",
   "execution_count": 117,
   "metadata": {
    "collapsed": false
   },
   "outputs": [
    {
     "data": {
      "text/plain": [
       "array([0.24798345, 0.2487906 , 0.2500592 , 0.24988044, 0.25037844,\n",
       "       0.2505467 , 0.24944532, 0.25      , 0.24955563, 0.24991237,\n",
       "       0.25009168, 0.24682247, 0.24418113, 0.25011246, 0.24731183,\n",
       "       0.24962853, 0.24878837, 0.24949084, 0.24972914, 0.25029104,\n",
       "       0.24920331, 0.24790503, 0.25      , 0.25016678, 0.25070028,\n",
       "       0.24942617, 0.25052484, 0.25221239, 0.25235849, 0.24868651,\n",
       "       0.25132275, 0.24955437, 0.24906716, 0.24652087, 0.25092593,\n",
       "       0.25071497, 0.25072604, 0.25      , 0.24606742, 0.24819773,\n",
       "       0.25087925, 0.25      , 0.25082508, 0.24492386, 0.25      ,\n",
       "       0.24688279, 0.25      , 0.24929178, 0.2507837 , 0.24757282,\n",
       "       0.24959217, 0.25      , 0.25043178, 0.25      , 0.24900398,\n",
       "       0.25098814, 0.24285714, 0.25073746, 0.24846626, 0.2527881 ,\n",
       "       0.24710425, 0.25      , 0.25210084, 0.25301205, 0.24358974,\n",
       "       0.25333333, 0.25827815, 0.23943662, 0.24626866, 0.25882353,\n",
       "       0.25      , 0.25      , 0.23404255])"
      ]
     },
     "execution_count": 117,
     "metadata": {},
     "output_type": "execute_result"
    }
   ],
   "source": [
    "sum(data_split[3])/sum(data_split[2])"
   ]
  },
  {
   "cell_type": "code",
   "execution_count": 118,
   "metadata": {
    "collapsed": false
   },
   "outputs": [],
   "source": [
    "# Split the data into training and validation sets\n",
    "singular_split = train_test_split(smiles_only_singular, \n",
    "                              labels_only_singular, test_size=0.2, random_state=15)#, stratify=labels_no_singular)"
   ]
  },
  {
   "cell_type": "code",
   "execution_count": 124,
   "metadata": {
    "collapsed": false
   },
   "outputs": [
    {
     "name": "stderr",
     "output_type": "stream",
     "text": [
      "/home/maks/anaconda3/envs/qSAR/lib/python3.5/site-packages/ipykernel_launcher.py:1: RuntimeWarning: divide by zero encountered in true_divide\n",
      "  \"\"\"Entry point for launching an IPython kernel.\n",
      "/home/maks/anaconda3/envs/qSAR/lib/python3.5/site-packages/ipykernel_launcher.py:1: RuntimeWarning: invalid value encountered in true_divide\n",
      "  \"\"\"Entry point for launching an IPython kernel.\n"
     ]
    },
    {
     "data": {
      "text/plain": [
       "array([0.25974026, 0.24817518, 0.21621622, 0.24137931, 0.        ,\n",
       "       0.34615385, 0.1875    , 1.        , 0.25862069, 0.09090909,\n",
       "       0.        , 0.26923077, 0.24719101, 0.25454545, 0.26573427,\n",
       "       0.4       , 0.21088435, 0.        , 0.        , 0.2       ,\n",
       "       0.33333333, 0.26436782,        nan, 0.        , 0.28571429,\n",
       "       0.26984127, 0.        , 0.32258065, 0.31578947, 0.26086957,\n",
       "       0.25      , 0.28571429, 0.36956522, 0.21238938, 2.        ,\n",
       "       0.54545455, 0.3       , 0.38888889, 0.26315789, 1.        ,\n",
       "       0.26605505, 0.66666667, 0.16666667, 0.24742268, 0.        ,\n",
       "       0.28125   , 0.18987342, 0.5       , 0.        , 1.2       ,\n",
       "       0.        , 0.        , 0.        , 1.        , 0.2       ,\n",
       "              nan,        nan,        nan,        nan,        nan,\n",
       "       0.25      ,        nan, 0.        , 0.26086957, 0.        ,\n",
       "       0.5       ,        nan, 0.        ,        nan,        nan,\n",
       "              nan,        inf, 0.        ])"
      ]
     },
     "execution_count": 124,
     "metadata": {},
     "output_type": "execute_result"
    }
   ],
   "source": [
    "sum(singular_split[3])/sum(singular_split[2])"
   ]
  },
  {
   "cell_type": "markdown",
   "metadata": {},
   "source": [
    "---"
   ]
  },
  {
   "cell_type": "markdown",
   "metadata": {},
   "source": [
    "## Proposed verison of    prepare_sets()"
   ]
  },
  {
   "cell_type": "code",
   "execution_count": 137,
   "metadata": {
    "collapsed": true
   },
   "outputs": [],
   "source": [
    "def separate_singular_uniques(fingerprints, labels):\n",
    "    '''\n",
    "    Separate examples with unique labels which appear only once.\n",
    "    This is done to ensure proper functionality of *train_test_split()*\n",
    "    when using the *stratify* argument.\n",
    "    '''\n",
    "    # Find indices of singular uniques\n",
    "    unique_labels, unique_indices, unique_counts = np.unique(\n",
    "        ar=labels, return_index=True, return_counts=True, axis=0)\n",
    "    singular_indices = unique_indices[unique_counts==1]\n",
    "    # Separate fingerprints\n",
    "    fingerprints_no_singular = np.delete(fingerprints, singular_indices, axis=0)\n",
    "    fingerprints_only_singular = fingerprints[singular_indices]\n",
    "    # Separate labels\n",
    "    labels_no_singular = np.delete(labels, singular_indices, axis=0)\n",
    "    labels_only_singular = labels[singular_indices]\n",
    "    \n",
    "    return fingerprints_no_singular, labels_no_singular, fingerprints_only_singular, labels_only_singular"
   ]
  },
  {
   "cell_type": "code",
   "execution_count": 135,
   "metadata": {
    "collapsed": false
   },
   "outputs": [],
   "source": [
    "fns,lns,fos,los = separate_singular_uniques(np_smiles,np_labels)"
   ]
  },
  {
   "cell_type": "code",
   "execution_count": 136,
   "metadata": {
    "collapsed": true
   },
   "outputs": [],
   "source": [
    "def prepare_sets(mol_matrix, val_prc=0.2, rType='fingerprint', f_size=2048):\n",
    "    ''' Create training and validation sets with labels from an array of smiles\n",
    "        rType - type of representation - fingerprint/descriptor/mixed\n",
    "        f_size - size of the fingerprint if rType is fingerprint or mixed '''\n",
    "    # Create a representation and a class vector for each molecule\n",
    "    molecules = get_class_vectors(mol_matrix,rType,f_size)\n",
    "\n",
    "    # Split the data into training and validation sets\n",
    "    fingerprints, labels = [],[]\n",
    "    for val in molecules.values():\n",
    "        fingerprints.append(val[0]) # [fingerprint]\n",
    "        labels.append(val[1]) # [label]\n",
    "    fingerprints = np.array(fingerprints)\n",
    "    labels = np.array(labels)\n",
    "    \n",
    "    fns,lns,fos,los = separate_singular_uniques(np_smiles,np_labels)\n",
    "\n",
    "    no_singular = train_test_split(fns, lns, test_size=val_prc, random_state=15, stratify=lns)\n",
    "    only_singular = train_test_split(fns, lns, test_size=val_prc, random_state=15)\n",
    "    \n",
    "    # Training set:\n",
    "    #     a list of representations (mols) and\n",
    "    #     a list of corresponding class vectors (labels)\n",
    "    train_mols = np.append(no_singular[0], only_singular[0])\n",
    "    train_labels = np.append(no_singular[2], only_singular[2])\n",
    "    # Validation set:\n",
    "    #     a list of representations (mols) and\n",
    "    #     a list of corresponding class vectors (labels)\n",
    "    val_mols = np.append(no_singular[1], only_singular[1])\n",
    "    val_labels = np.append(no_singular[3], only_singular[3])\n",
    "    \n",
    "    train_set = [train_mols, train_labels] # CONSIDER SPLITTING THIS!!!\n",
    "                                           # otherwise: Training set is pakcaged in a list for ease of use later on.\n",
    "    return train_set, val_mols, val_labels"
   ]
  },
  {
   "cell_type": "code",
   "execution_count": 138,
   "metadata": {
    "collapsed": false
   },
   "outputs": [
    {
     "name": "stdout",
     "output_type": "stream",
     "text": [
      "CPU times: user 2min 58s, sys: 1.78 s, total: 3min\n",
      "Wall time: 2min 57s\n"
     ]
    }
   ],
   "source": [
    "%%time\n",
    "all_data = prepare_sets(mol_matrix, f_size=1024)"
   ]
  },
  {
   "cell_type": "markdown",
   "metadata": {},
   "source": [
    "### Type of representation:"
   ]
  },
  {
   "cell_type": "code",
   "execution_count": 11,
   "metadata": {
    "collapsed": false,
    "scrolled": true
   },
   "outputs": [
    {
     "name": "stdout",
     "output_type": "stream",
     "text": [
      "CPU times: user 2min 53s, sys: 176 ms, total: 2min 53s\n",
      "Wall time: 2min 53s\n"
     ]
    }
   ],
   "source": [
    "rType = 'fingerprint'\n",
    "f_size = 1024        #size of fingerprint, if rType = 'fingerprint' or 'mixed'\n",
    "%time train_set,val_mols,val_labels = prepare_sets(mol_matrix, 0.2, rType, f_size)"
   ]
  },
  {
   "cell_type": "raw",
   "metadata": {
    "collapsed": false,
    "scrolled": true
   },
   "source": [
    "rType = 'descriptor'\n",
    "f_size = 37        #the existance of the variable is neccessary for some plotting functions\n",
    "%time train_set,val_mols,val_labels = prepare_sets(mol_matrix, 0.2, rType)"
   ]
  },
  {
   "cell_type": "markdown",
   "metadata": {},
   "source": [
    "### Saving and loading prepared sets"
   ]
  },
  {
   "cell_type": "code",
   "execution_count": 14,
   "metadata": {
    "collapsed": true
   },
   "outputs": [],
   "source": [
    "import pickle\n",
    "\n",
    "def load_var(name):\n",
    "    with open(name,'rb') as f:\n",
    "        return pickle.load(f)\n",
    "\n",
    "def save_var(name,var):\n",
    "    with open(name,'wb') as f:\n",
    "        pickle.dump(var,f)"
   ]
  },
  {
   "cell_type": "code",
   "execution_count": 15,
   "metadata": {
    "collapsed": true
   },
   "outputs": [],
   "source": [
    "save_var(\"1024_n_1.txt\",{\"ts\":train_set,\"vm\":val_mols,\"vl\":val_labels})"
   ]
  },
  {
   "cell_type": "code",
   "execution_count": 12,
   "metadata": {
    "collapsed": false
   },
   "outputs": [],
   "source": [
    "loaded = load_var(\"1024_.txt\")\n",
    "train_set=loaded[\"ts\"]\n",
    "val_mols=loaded[\"vm\"]\n",
    "val_labels=loaded[\"vl\"]"
   ]
  },
  {
   "cell_type": "markdown",
   "metadata": {},
   "source": [
    "###  User-defined network variables:"
   ]
  },
  {
   "cell_type": "code",
   "execution_count": 12,
   "metadata": {
    "collapsed": true
   },
   "outputs": [],
   "source": [
    "layers = [500,500]\n",
    "learning_rate = 0.001\n",
    "batch_size = 25\n",
    "epochs = 10"
   ]
  },
  {
   "cell_type": "markdown",
   "metadata": {},
   "source": [
    "### Create and train the network"
   ]
  },
  {
   "cell_type": "code",
   "execution_count": 13,
   "metadata": {
    "collapsed": false
   },
   "outputs": [
    {
     "name": "stdout",
     "output_type": "stream",
     "text": [
      "2018-09-27 15:00:10\n",
      "26540  iterations\n",
      "  0%, 00:00:01\n"
     ]
    },
    {
     "name": "stderr",
     "output_type": "stream",
     "text": [
      "/home/maks/anaconda3/envs/qSAR/lib/python3.5/site-packages/sklearn/metrics/classification.py:1143: UndefinedMetricWarning: F-score is ill-defined and being set to 0.0 in labels with no predicted samples.\n",
      "  'precision', 'predicted', average, warn_for)\n"
     ]
    },
    {
     "name": "stdout",
     "output_type": "stream",
     "text": [
      " 10%, 00:00:11\n",
      " 20%, 00:00:21\n",
      " 30%, 00:00:31\n",
      " 40%, 00:00:41\n",
      " 50%, 00:00:51\n",
      " 60%, 00:01:00\n",
      " 70%, 00:01:10\n",
      " 80%, 00:01:20\n",
      " 90%, 00:01:30\n",
      "100%, 00:01:40\n"
     ]
    },
    {
     "data": {
      "text/plain": [
       "'00:01:44'"
      ]
     },
     "execution_count": 13,
     "metadata": {},
     "output_type": "execute_result"
    }
   ],
   "source": [
    "tf.reset_default_graph()\n",
    "tf.set_random_seed(15)\n",
    "random.seed(15)\n",
    "print(time.strftime(\"%Y-%m-%d %H:%M:%S\", time.localtime()))\n",
    "start = time.time()\n",
    "\n",
    "#Automatic network variables.\n",
    "isize = len(val_mols[0])\n",
    "osize = num_class\n",
    "'''\n",
    "isize - size of the input layer, equal to the size \n",
    "        of the data representation (fingerprint/descriptor)\n",
    "osize - size of the output layer, equal to the number of classes.\n",
    "'''\n",
    "\n",
    "# Neuron layers\n",
    "active_layers = setup_layers(layers, osize, isize)\n",
    "x = active_layers['x'] # first placeholder\n",
    "a = active_layers['out'][2] # output layer activations\n",
    "t = active_layers['out'][3] # placeholder for targets\n",
    "\n",
    "saver = tf.train.Saver(max_to_keep=12)\n",
    "\n",
    "# Objective\n",
    "'''Adam Optimizer'''\n",
    "cross_entropy = tf.reduce_mean(tf.nn.sigmoid_cross_entropy_with_logits(labels=t, logits=a))\n",
    "train = tf.train.AdamOptimizer(learning_rate).minimize(cross_entropy)\n",
    "\n",
    "# Prediction\n",
    "y = tf.nn.sigmoid(a)\n",
    "predict = tf.round(y)\n",
    "\n",
    "# Train the network\n",
    "tr_rate, val_rate, f1, tf_frac = train_network(train_set, batch_size, epochs, save=True, verbose=True)\n",
    "full_time = timer(start,time.time())\n",
    "full_time"
   ]
  },
  {
   "cell_type": "markdown",
   "metadata": {},
   "source": [
    "### Accuracy"
   ]
  },
  {
   "cell_type": "code",
   "execution_count": 14,
   "metadata": {
    "collapsed": false
   },
   "outputs": [
    {
     "data": {
      "text/plain": [
       "76.0788331726133"
      ]
     },
     "execution_count": 14,
     "metadata": {},
     "output_type": "execute_result"
    }
   ],
   "source": [
    "max(val_rate)*100"
   ]
  },
  {
   "cell_type": "markdown",
   "metadata": {},
   "source": [
    "# 4. Plots for evaluating predictions, and saving results."
   ]
  },
  {
   "cell_type": "markdown",
   "metadata": {},
   "source": [
    "### Accuracy - training and validation rates"
   ]
  },
  {
   "cell_type": "code",
   "execution_count": 15,
   "metadata": {
    "collapsed": false
   },
   "outputs": [
    {
     "data": {
      "image/png": "[encoded data removed]",
      "text/plain": [
       "<Figure size 432x288 with 1 Axes>"
      ]
     },
     "metadata": {},
     "output_type": "display_data"
    }
   ],
   "source": [
    "save_accuracy_plot(tr_rate, save=False, path='plots/')"
   ]
  },
  {
   "cell_type": "markdown",
   "metadata": {},
   "source": [
    "### F1 score"
   ]
  },
  {
   "cell_type": "code",
   "execution_count": 16,
   "metadata": {
    "collapsed": false
   },
   "outputs": [
    {
     "data": {
      "image/png": "[encoded data removed]",
      "text/plain": [
       "<Figure size 432x288 with 1 Axes>"
      ]
     },
     "metadata": {},
     "output_type": "display_data"
    }
   ],
   "source": [
    "save_f1_plot(f1, save=False, path='plots/')"
   ]
  },
  {
   "cell_type": "markdown",
   "metadata": {},
   "source": [
    "### True/false-positive/negative-related histograms"
   ]
  },
  {
   "cell_type": "code",
   "execution_count": 17,
   "metadata": {
    "collapsed": false
   },
   "outputs": [
    {
     "data": {
      "image/png": "[encoded data removed]",
      "text/plain": [
       "<Figure size 432x288 with 4 Axes>"
      ]
     },
     "metadata": {},
     "output_type": "display_data"
    }
   ],
   "source": [
    "save_tf_fractions_plot(tf_frac, save=False, path='plots/')"
   ]
  },
  {
   "cell_type": "markdown",
   "metadata": {},
   "source": [
    "### Saving results to file"
   ]
  },
  {
   "cell_type": "code",
   "execution_count": null,
   "metadata": {
    "collapsed": true
   },
   "outputs": [],
   "source": [
    "# Create a new file\n",
    "with open('plots/desc/desc.csv','w') as f:\n",
    "    f.write('Type of Representation,Number of classes,Fingerprint size,Hidden Layers,Learning Rate,Batch Size,Number of Epochs, Max. Validation Rate\\n')"
   ]
  },
  {
   "cell_type": "code",
   "execution_count": null,
   "metadata": {
    "collapsed": true
   },
   "outputs": [],
   "source": [
    "def save_res_to_file(rType,num_class,f_size,layers,learning_rate,batch_size,epochs,max_val):\n",
    "    with open('plots/desc/desc.csv','a') as f:\n",
    "        layers_str = str(layers).replace(',',';') #for .csv compatibility reasons\n",
    "        s = \"{},{},{},{},{},{},{},{:.4}\\n\".format(\n",
    "            rType,num_class,f_size,layers_str,learning_rate,batch_size,epochs,max_val)\n",
    "        f.write(s)"
   ]
  },
  {
   "cell_type": "markdown",
   "metadata": {},
   "source": [
    "---"
   ]
  },
  {
   "cell_type": "markdown",
   "metadata": {},
   "source": [
    "# 5. Testing the network on drugs"
   ]
  },
  {
   "cell_type": "markdown",
   "metadata": {},
   "source": [
    "## Preparing the test set"
   ]
  },
  {
   "cell_type": "code",
   "execution_count": 18,
   "metadata": {
    "collapsed": true
   },
   "outputs": [],
   "source": [
    "with open('data/drug_targets_untrained.csv') as f: #or 'data/drug_targets.csv' for the full set\n",
    "    drug_targets = [l.strip().split(',') for l in f.readlines()[1:]]\n",
    "class_to_smiles = {}\n",
    "for l in drug_targets:\n",
    "    if l[2] not in class_to_smiles.keys():\n",
    "        class_to_smiles[l[2]] = []\n",
    "    class_to_smiles[l[2]].append(l[4])\n",
    "\n",
    "targets = [l[0].strip('.ism') for l in receptors]\n",
    "\n",
    "drug_mol_matrix = [[]]*73\n",
    "for k, v in class_to_smiles.items():\n",
    "    drug_mol_matrix[targets.index(k)] = v\n",
    "\n",
    "cv_dict = get_class_vectors(drug_mol_matrix, f_size=f_size)\n",
    "drug_mols, drug_labels = [], []\n",
    "for v in cv_dict.values():\n",
    "    drug_mols.append(v[0])\n",
    "    drug_labels.append(v[1])\n",
    "drug_mols, drug_labels = np.array(drug_mols), np.array(drug_labels)"
   ]
  },
  {
   "cell_type": "markdown",
   "metadata": {},
   "source": [
    "## *Rebuilding the network\n",
    "(if the training code in section 3. has not been run)"
   ]
  },
  {
   "cell_type": "code",
   "execution_count": 20,
   "metadata": {
    "collapsed": true
   },
   "outputs": [],
   "source": [
    "tf.reset_default_graph()\n",
    "tf.set_random_seed(15)\n",
    "random.seed(15)\n",
    "# Automatic network variables\n",
    "isize = 4096\n",
    "osize = 73\n",
    "active_layers = setup_layers([800,800], osize, isize)\n",
    "x = active_layers['x'] # first placeholder\n",
    "a = active_layers['out'][2] # output layer activations\n",
    "t = active_layers['out'][3] # placeholder for targets\n",
    "saver = tf.train.Saver(max_to_keep=12)\n",
    "# Objective\n",
    "'''Adam Optimizer'''\n",
    "cross_entropy = tf.reduce_mean(tf.nn.sigmoid_cross_entropy_with_logits(a, t))\n",
    "train = tf.train.AdamOptimizer(0.001).minimize(cross_entropy)\n",
    "# Prediction\n",
    "y = tf.nn.sigmoid(a)\n",
    "predict = tf.round(y)"
   ]
  },
  {
   "cell_type": "markdown",
   "metadata": {},
   "source": [
    "## Restoring network from checkpoint and running test data"
   ]
  },
  {
   "cell_type": "code",
   "execution_count": 19,
   "metadata": {
    "collapsed": false
   },
   "outputs": [
    {
     "ename": "NotFoundError",
     "evalue": "Unsuccessful TensorSliceReader constructor: Failed to find any matching files for checkpoint-12\n\t [[Node: save/RestoreV2_2 = RestoreV2[dtypes=[DT_FLOAT], _device=\"/job:localhost/replica:0/task:0/cpu:0\"](_recv_save/Const_0, save/RestoreV2_2/tensor_names, save/RestoreV2_2/shape_and_slices)]]\n\t [[Node: save/RestoreV2_4/_3 = _Recv[client_terminated=false, recv_device=\"/job:localhost/replica:0/task:0/gpu:0\", send_device=\"/job:localhost/replica:0/task:0/cpu:0\", send_device_incarnation=1, tensor_name=\"edge_10_save/RestoreV2_4\", tensor_type=DT_FLOAT, _device=\"/job:localhost/replica:0/task:0/gpu:0\"]()]]\n\nCaused by op 'save/RestoreV2_2', defined at:\n  File \"/home/maks/anaconda3/envs/qSAR/lib/python3.5/runpy.py\", line 193, in _run_module_as_main\n    \"__main__\", mod_spec)\n  File \"/home/maks/anaconda3/envs/qSAR/lib/python3.5/runpy.py\", line 85, in _run_code\n    exec(code, run_globals)\n  File \"/home/maks/anaconda3/envs/qSAR/lib/python3.5/site-packages/ipykernel_launcher.py\", line 16, in <module>\n    app.launch_new_instance()\n  File \"/home/maks/anaconda3/envs/qSAR/lib/python3.5/site-packages/traitlets/config/application.py\", line 658, in launch_instance\n    app.start()\n  File \"/home/maks/anaconda3/envs/qSAR/lib/python3.5/site-packages/ipykernel/kernelapp.py\", line 477, in start\n    ioloop.IOLoop.instance().start()\n  File \"/home/maks/anaconda3/envs/qSAR/lib/python3.5/site-packages/zmq/eventloop/ioloop.py\", line 177, in start\n    super(ZMQIOLoop, self).start()\n  File \"/home/maks/anaconda3/envs/qSAR/lib/python3.5/site-packages/tornado/ioloop.py\", line 888, in start\n    handler_func(fd_obj, events)\n  File \"/home/maks/anaconda3/envs/qSAR/lib/python3.5/site-packages/tornado/stack_context.py\", line 277, in null_wrapper\n    return fn(*args, **kwargs)\n  File \"/home/maks/anaconda3/envs/qSAR/lib/python3.5/site-packages/zmq/eventloop/zmqstream.py\", line 440, in _handle_events\n    self._handle_recv()\n  File \"/home/maks/anaconda3/envs/qSAR/lib/python3.5/site-packages/zmq/eventloop/zmqstream.py\", line 472, in _handle_recv\n    self._run_callback(callback, msg)\n  File \"/home/maks/anaconda3/envs/qSAR/lib/python3.5/site-packages/zmq/eventloop/zmqstream.py\", line 414, in _run_callback\n    callback(*args, **kwargs)\n  File \"/home/maks/anaconda3/envs/qSAR/lib/python3.5/site-packages/tornado/stack_context.py\", line 277, in null_wrapper\n    return fn(*args, **kwargs)\n  File \"/home/maks/anaconda3/envs/qSAR/lib/python3.5/site-packages/ipykernel/kernelbase.py\", line 283, in dispatcher\n    return self.dispatch_shell(stream, msg)\n  File \"/home/maks/anaconda3/envs/qSAR/lib/python3.5/site-packages/ipykernel/kernelbase.py\", line 235, in dispatch_shell\n    handler(stream, idents, msg)\n  File \"/home/maks/anaconda3/envs/qSAR/lib/python3.5/site-packages/ipykernel/kernelbase.py\", line 399, in execute_request\n    user_expressions, allow_stdin)\n  File \"/home/maks/anaconda3/envs/qSAR/lib/python3.5/site-packages/ipykernel/ipkernel.py\", line 196, in do_execute\n    res = shell.run_cell(code, store_history=store_history, silent=silent)\n  File \"/home/maks/anaconda3/envs/qSAR/lib/python3.5/site-packages/ipykernel/zmqshell.py\", line 533, in run_cell\n    return super(ZMQInteractiveShell, self).run_cell(*args, **kwargs)\n  File \"/home/maks/anaconda3/envs/qSAR/lib/python3.5/site-packages/IPython/core/interactiveshell.py\", line 2717, in run_cell\n    interactivity=interactivity, compiler=compiler, result=result)\n  File \"/home/maks/anaconda3/envs/qSAR/lib/python3.5/site-packages/IPython/core/interactiveshell.py\", line 2821, in run_ast_nodes\n    if self.run_code(code, result):\n  File \"/home/maks/anaconda3/envs/qSAR/lib/python3.5/site-packages/IPython/core/interactiveshell.py\", line 2881, in run_code\n    exec(code_obj, self.user_global_ns, self.user_ns)\n  File \"<ipython-input-13-7a5616769527>\", line 22, in <module>\n    saver = tf.train.Saver(max_to_keep=12)\n  File \"/home/maks/anaconda3/envs/qSAR/lib/python3.5/site-packages/tensorflow/python/training/saver.py\", line 1040, in __init__\n    self.build()\n  File \"/home/maks/anaconda3/envs/qSAR/lib/python3.5/site-packages/tensorflow/python/training/saver.py\", line 1070, in build\n    restore_sequentially=self._restore_sequentially)\n  File \"/home/maks/anaconda3/envs/qSAR/lib/python3.5/site-packages/tensorflow/python/training/saver.py\", line 675, in build\n    restore_sequentially, reshape)\n  File \"/home/maks/anaconda3/envs/qSAR/lib/python3.5/site-packages/tensorflow/python/training/saver.py\", line 402, in _AddRestoreOps\n    tensors = self.restore_op(filename_tensor, saveable, preferred_shard)\n  File \"/home/maks/anaconda3/envs/qSAR/lib/python3.5/site-packages/tensorflow/python/training/saver.py\", line 242, in restore_op\n    [spec.tensor.dtype])[0])\n  File \"/home/maks/anaconda3/envs/qSAR/lib/python3.5/site-packages/tensorflow/python/ops/gen_io_ops.py\", line 668, in restore_v2\n    dtypes=dtypes, name=name)\n  File \"/home/maks/anaconda3/envs/qSAR/lib/python3.5/site-packages/tensorflow/python/framework/op_def_library.py\", line 763, in apply_op\n    op_def=op_def)\n  File \"/home/maks/anaconda3/envs/qSAR/lib/python3.5/site-packages/tensorflow/python/framework/ops.py\", line 2327, in create_op\n    original_op=self._default_original_op, op_def=op_def)\n  File \"/home/maks/anaconda3/envs/qSAR/lib/python3.5/site-packages/tensorflow/python/framework/ops.py\", line 1226, in __init__\n    self._traceback = _extract_stack()\n\nNotFoundError (see above for traceback): Unsuccessful TensorSliceReader constructor: Failed to find any matching files for checkpoint-12\n\t [[Node: save/RestoreV2_2 = RestoreV2[dtypes=[DT_FLOAT], _device=\"/job:localhost/replica:0/task:0/cpu:0\"](_recv_save/Const_0, save/RestoreV2_2/tensor_names, save/RestoreV2_2/shape_and_slices)]]\n\t [[Node: save/RestoreV2_4/_3 = _Recv[client_terminated=false, recv_device=\"/job:localhost/replica:0/task:0/gpu:0\", send_device=\"/job:localhost/replica:0/task:0/cpu:0\", send_device_incarnation=1, tensor_name=\"edge_10_save/RestoreV2_4\", tensor_type=DT_FLOAT, _device=\"/job:localhost/replica:0/task:0/gpu:0\"]()]]\n",
     "output_type": "error",
     "traceback": [
      "\u001b[0;31m---------------------------------------------------------------------------\u001b[0m",
      "\u001b[0;31mNotFoundError\u001b[0m                             Traceback (most recent call last)",
      "\u001b[0;32m/home/maks/anaconda3/envs/qSAR/lib/python3.5/site-packages/tensorflow/python/client/session.py\u001b[0m in \u001b[0;36m_do_call\u001b[0;34m(self, fn, *args)\u001b[0m\n\u001b[1;32m   1021\u001b[0m     \u001b[0;32mtry\u001b[0m\u001b[0;34m:\u001b[0m\u001b[0;34m\u001b[0m\u001b[0m\n\u001b[0;32m-> 1022\u001b[0;31m       \u001b[0;32mreturn\u001b[0m \u001b[0mfn\u001b[0m\u001b[0;34m(\u001b[0m\u001b[0;34m*\u001b[0m\u001b[0margs\u001b[0m\u001b[0;34m)\u001b[0m\u001b[0;34m\u001b[0m\u001b[0m\n\u001b[0m\u001b[1;32m   1023\u001b[0m     \u001b[0;32mexcept\u001b[0m \u001b[0merrors\u001b[0m\u001b[0;34m.\u001b[0m\u001b[0mOpError\u001b[0m \u001b[0;32mas\u001b[0m \u001b[0me\u001b[0m\u001b[0;34m:\u001b[0m\u001b[0;34m\u001b[0m\u001b[0m\n",
      "\u001b[0;32m/home/maks/anaconda3/envs/qSAR/lib/python3.5/site-packages/tensorflow/python/client/session.py\u001b[0m in \u001b[0;36m_run_fn\u001b[0;34m(session, feed_dict, fetch_list, target_list, options, run_metadata)\u001b[0m\n\u001b[1;32m   1003\u001b[0m                                  \u001b[0mfeed_dict\u001b[0m\u001b[0;34m,\u001b[0m \u001b[0mfetch_list\u001b[0m\u001b[0;34m,\u001b[0m \u001b[0mtarget_list\u001b[0m\u001b[0;34m,\u001b[0m\u001b[0;34m\u001b[0m\u001b[0m\n\u001b[0;32m-> 1004\u001b[0;31m                                  status, run_metadata)\n\u001b[0m\u001b[1;32m   1005\u001b[0m \u001b[0;34m\u001b[0m\u001b[0m\n",
      "\u001b[0;32m/home/maks/anaconda3/envs/qSAR/lib/python3.5/contextlib.py\u001b[0m in \u001b[0;36m__exit__\u001b[0;34m(self, type, value, traceback)\u001b[0m\n\u001b[1;32m     65\u001b[0m             \u001b[0;32mtry\u001b[0m\u001b[0;34m:\u001b[0m\u001b[0;34m\u001b[0m\u001b[0m\n\u001b[0;32m---> 66\u001b[0;31m                 \u001b[0mnext\u001b[0m\u001b[0;34m(\u001b[0m\u001b[0mself\u001b[0m\u001b[0;34m.\u001b[0m\u001b[0mgen\u001b[0m\u001b[0;34m)\u001b[0m\u001b[0;34m\u001b[0m\u001b[0m\n\u001b[0m\u001b[1;32m     67\u001b[0m             \u001b[0;32mexcept\u001b[0m \u001b[0mStopIteration\u001b[0m\u001b[0;34m:\u001b[0m\u001b[0;34m\u001b[0m\u001b[0m\n",
      "\u001b[0;32m/home/maks/anaconda3/envs/qSAR/lib/python3.5/site-packages/tensorflow/python/framework/errors_impl.py\u001b[0m in \u001b[0;36mraise_exception_on_not_ok_status\u001b[0;34m()\u001b[0m\n\u001b[1;32m    465\u001b[0m           \u001b[0mcompat\u001b[0m\u001b[0;34m.\u001b[0m\u001b[0mas_text\u001b[0m\u001b[0;34m(\u001b[0m\u001b[0mpywrap_tensorflow\u001b[0m\u001b[0;34m.\u001b[0m\u001b[0mTF_Message\u001b[0m\u001b[0;34m(\u001b[0m\u001b[0mstatus\u001b[0m\u001b[0;34m)\u001b[0m\u001b[0;34m)\u001b[0m\u001b[0;34m,\u001b[0m\u001b[0;34m\u001b[0m\u001b[0m\n\u001b[0;32m--> 466\u001b[0;31m           pywrap_tensorflow.TF_GetCode(status))\n\u001b[0m\u001b[1;32m    467\u001b[0m   \u001b[0;32mfinally\u001b[0m\u001b[0;34m:\u001b[0m\u001b[0;34m\u001b[0m\u001b[0m\n",
      "\u001b[0;31mNotFoundError\u001b[0m: Unsuccessful TensorSliceReader constructor: Failed to find any matching files for checkpoint-12\n\t [[Node: save/RestoreV2_2 = RestoreV2[dtypes=[DT_FLOAT], _device=\"/job:localhost/replica:0/task:0/cpu:0\"](_recv_save/Const_0, save/RestoreV2_2/tensor_names, save/RestoreV2_2/shape_and_slices)]]\n\t [[Node: save/RestoreV2_4/_3 = _Recv[client_terminated=false, recv_device=\"/job:localhost/replica:0/task:0/gpu:0\", send_device=\"/job:localhost/replica:0/task:0/cpu:0\", send_device_incarnation=1, tensor_name=\"edge_10_save/RestoreV2_4\", tensor_type=DT_FLOAT, _device=\"/job:localhost/replica:0/task:0/gpu:0\"]()]]",
      "\nDuring handling of the above exception, another exception occurred:\n",
      "\u001b[0;31mNotFoundError\u001b[0m                             Traceback (most recent call last)",
      "\u001b[0;32m<ipython-input-19-98c4d90d9bc5>\u001b[0m in \u001b[0;36m<module>\u001b[0;34m()\u001b[0m\n\u001b[1;32m      1\u001b[0m \u001b[0mf1\u001b[0m\u001b[0;34m=\u001b[0m\u001b[0;34m[\u001b[0m\u001b[0;34m[\u001b[0m\u001b[0;34m]\u001b[0m\u001b[0;34m,\u001b[0m\u001b[0;34m[\u001b[0m\u001b[0;34m]\u001b[0m\u001b[0;34m,\u001b[0m\u001b[0;34m[\u001b[0m\u001b[0;34m]\u001b[0m\u001b[0;34m]\u001b[0m\u001b[0;34m\u001b[0m\u001b[0m\n\u001b[1;32m      2\u001b[0m \u001b[0;32mwith\u001b[0m \u001b[0mtf\u001b[0m\u001b[0;34m.\u001b[0m\u001b[0mSession\u001b[0m\u001b[0;34m(\u001b[0m\u001b[0;34m)\u001b[0m \u001b[0;32mas\u001b[0m \u001b[0msess\u001b[0m\u001b[0;34m:\u001b[0m\u001b[0;34m\u001b[0m\u001b[0m\n\u001b[0;32m----> 3\u001b[0;31m     \u001b[0msaver\u001b[0m\u001b[0;34m.\u001b[0m\u001b[0mrestore\u001b[0m\u001b[0;34m(\u001b[0m\u001b[0msess\u001b[0m\u001b[0;34m,\u001b[0m \u001b[0;34m'checkpoint-12'\u001b[0m\u001b[0;34m)\u001b[0m\u001b[0;34m\u001b[0m\u001b[0m\n\u001b[0m\u001b[1;32m      4\u001b[0m \u001b[0;34m\u001b[0m\u001b[0m\n\u001b[1;32m      5\u001b[0m     \u001b[0mdrug_pred\u001b[0m \u001b[0;34m=\u001b[0m \u001b[0msess\u001b[0m\u001b[0;34m.\u001b[0m\u001b[0mrun\u001b[0m\u001b[0;34m(\u001b[0m\u001b[0mpredict\u001b[0m\u001b[0;34m,\u001b[0m \u001b[0mfeed_dict\u001b[0m\u001b[0;34m=\u001b[0m\u001b[0;34m{\u001b[0m\u001b[0mx\u001b[0m\u001b[0;34m:\u001b[0m \u001b[0mdrug_mols\u001b[0m\u001b[0;34m,\u001b[0m \u001b[0mt\u001b[0m\u001b[0;34m:\u001b[0m \u001b[0mdrug_labels\u001b[0m\u001b[0;34m}\u001b[0m\u001b[0;34m)\u001b[0m \u001b[0;31m#rounded prediction values\u001b[0m\u001b[0;34m\u001b[0m\u001b[0m\n",
      "\u001b[0;32m/home/maks/anaconda3/envs/qSAR/lib/python3.5/site-packages/tensorflow/python/training/saver.py\u001b[0m in \u001b[0;36mrestore\u001b[0;34m(self, sess, save_path)\u001b[0m\n\u001b[1;32m   1426\u001b[0m       \u001b[0;32mreturn\u001b[0m\u001b[0;34m\u001b[0m\u001b[0m\n\u001b[1;32m   1427\u001b[0m     sess.run(self.saver_def.restore_op_name,\n\u001b[0;32m-> 1428\u001b[0;31m              {self.saver_def.filename_tensor_name: save_path})\n\u001b[0m\u001b[1;32m   1429\u001b[0m \u001b[0;34m\u001b[0m\u001b[0m\n\u001b[1;32m   1430\u001b[0m   \u001b[0;34m@\u001b[0m\u001b[0mstaticmethod\u001b[0m\u001b[0;34m\u001b[0m\u001b[0m\n",
      "\u001b[0;32m/home/maks/anaconda3/envs/qSAR/lib/python3.5/site-packages/tensorflow/python/client/session.py\u001b[0m in \u001b[0;36mrun\u001b[0;34m(self, fetches, feed_dict, options, run_metadata)\u001b[0m\n\u001b[1;32m    765\u001b[0m     \u001b[0;32mtry\u001b[0m\u001b[0;34m:\u001b[0m\u001b[0;34m\u001b[0m\u001b[0m\n\u001b[1;32m    766\u001b[0m       result = self._run(None, fetches, feed_dict, options_ptr,\n\u001b[0;32m--> 767\u001b[0;31m                          run_metadata_ptr)\n\u001b[0m\u001b[1;32m    768\u001b[0m       \u001b[0;32mif\u001b[0m \u001b[0mrun_metadata\u001b[0m\u001b[0;34m:\u001b[0m\u001b[0;34m\u001b[0m\u001b[0m\n\u001b[1;32m    769\u001b[0m         \u001b[0mproto_data\u001b[0m \u001b[0;34m=\u001b[0m \u001b[0mtf_session\u001b[0m\u001b[0;34m.\u001b[0m\u001b[0mTF_GetBuffer\u001b[0m\u001b[0;34m(\u001b[0m\u001b[0mrun_metadata_ptr\u001b[0m\u001b[0;34m)\u001b[0m\u001b[0;34m\u001b[0m\u001b[0m\n",
      "\u001b[0;32m/home/maks/anaconda3/envs/qSAR/lib/python3.5/site-packages/tensorflow/python/client/session.py\u001b[0m in \u001b[0;36m_run\u001b[0;34m(self, handle, fetches, feed_dict, options, run_metadata)\u001b[0m\n\u001b[1;32m    963\u001b[0m     \u001b[0;32mif\u001b[0m \u001b[0mfinal_fetches\u001b[0m \u001b[0;32mor\u001b[0m \u001b[0mfinal_targets\u001b[0m\u001b[0;34m:\u001b[0m\u001b[0;34m\u001b[0m\u001b[0m\n\u001b[1;32m    964\u001b[0m       results = self._do_run(handle, final_targets, final_fetches,\n\u001b[0;32m--> 965\u001b[0;31m                              feed_dict_string, options, run_metadata)\n\u001b[0m\u001b[1;32m    966\u001b[0m     \u001b[0;32melse\u001b[0m\u001b[0;34m:\u001b[0m\u001b[0;34m\u001b[0m\u001b[0m\n\u001b[1;32m    967\u001b[0m       \u001b[0mresults\u001b[0m \u001b[0;34m=\u001b[0m \u001b[0;34m[\u001b[0m\u001b[0;34m]\u001b[0m\u001b[0;34m\u001b[0m\u001b[0m\n",
      "\u001b[0;32m/home/maks/anaconda3/envs/qSAR/lib/python3.5/site-packages/tensorflow/python/client/session.py\u001b[0m in \u001b[0;36m_do_run\u001b[0;34m(self, handle, target_list, fetch_list, feed_dict, options, run_metadata)\u001b[0m\n\u001b[1;32m   1013\u001b[0m     \u001b[0;32mif\u001b[0m \u001b[0mhandle\u001b[0m \u001b[0;32mis\u001b[0m \u001b[0;32mNone\u001b[0m\u001b[0;34m:\u001b[0m\u001b[0;34m\u001b[0m\u001b[0m\n\u001b[1;32m   1014\u001b[0m       return self._do_call(_run_fn, self._session, feed_dict, fetch_list,\n\u001b[0;32m-> 1015\u001b[0;31m                            target_list, options, run_metadata)\n\u001b[0m\u001b[1;32m   1016\u001b[0m     \u001b[0;32melse\u001b[0m\u001b[0;34m:\u001b[0m\u001b[0;34m\u001b[0m\u001b[0m\n\u001b[1;32m   1017\u001b[0m       return self._do_call(_prun_fn, self._session, handle, feed_dict,\n",
      "\u001b[0;32m/home/maks/anaconda3/envs/qSAR/lib/python3.5/site-packages/tensorflow/python/client/session.py\u001b[0m in \u001b[0;36m_do_call\u001b[0;34m(self, fn, *args)\u001b[0m\n\u001b[1;32m   1033\u001b[0m         \u001b[0;32mexcept\u001b[0m \u001b[0mKeyError\u001b[0m\u001b[0;34m:\u001b[0m\u001b[0;34m\u001b[0m\u001b[0m\n\u001b[1;32m   1034\u001b[0m           \u001b[0;32mpass\u001b[0m\u001b[0;34m\u001b[0m\u001b[0m\n\u001b[0;32m-> 1035\u001b[0;31m       \u001b[0;32mraise\u001b[0m \u001b[0mtype\u001b[0m\u001b[0;34m(\u001b[0m\u001b[0me\u001b[0m\u001b[0;34m)\u001b[0m\u001b[0;34m(\u001b[0m\u001b[0mnode_def\u001b[0m\u001b[0;34m,\u001b[0m \u001b[0mop\u001b[0m\u001b[0;34m,\u001b[0m \u001b[0mmessage\u001b[0m\u001b[0;34m)\u001b[0m\u001b[0;34m\u001b[0m\u001b[0m\n\u001b[0m\u001b[1;32m   1036\u001b[0m \u001b[0;34m\u001b[0m\u001b[0m\n\u001b[1;32m   1037\u001b[0m   \u001b[0;32mdef\u001b[0m \u001b[0m_extend_graph\u001b[0m\u001b[0;34m(\u001b[0m\u001b[0mself\u001b[0m\u001b[0;34m)\u001b[0m\u001b[0;34m:\u001b[0m\u001b[0;34m\u001b[0m\u001b[0m\n",
      "\u001b[0;31mNotFoundError\u001b[0m: Unsuccessful TensorSliceReader constructor: Failed to find any matching files for checkpoint-12\n\t [[Node: save/RestoreV2_2 = RestoreV2[dtypes=[DT_FLOAT], _device=\"/job:localhost/replica:0/task:0/cpu:0\"](_recv_save/Const_0, save/RestoreV2_2/tensor_names, save/RestoreV2_2/shape_and_slices)]]\n\t [[Node: save/RestoreV2_4/_3 = _Recv[client_terminated=false, recv_device=\"/job:localhost/replica:0/task:0/gpu:0\", send_device=\"/job:localhost/replica:0/task:0/cpu:0\", send_device_incarnation=1, tensor_name=\"edge_10_save/RestoreV2_4\", tensor_type=DT_FLOAT, _device=\"/job:localhost/replica:0/task:0/gpu:0\"]()]]\n\nCaused by op 'save/RestoreV2_2', defined at:\n  File \"/home/maks/anaconda3/envs/qSAR/lib/python3.5/runpy.py\", line 193, in _run_module_as_main\n    \"__main__\", mod_spec)\n  File \"/home/maks/anaconda3/envs/qSAR/lib/python3.5/runpy.py\", line 85, in _run_code\n    exec(code, run_globals)\n  File \"/home/maks/anaconda3/envs/qSAR/lib/python3.5/site-packages/ipykernel_launcher.py\", line 16, in <module>\n    app.launch_new_instance()\n  File \"/home/maks/anaconda3/envs/qSAR/lib/python3.5/site-packages/traitlets/config/application.py\", line 658, in launch_instance\n    app.start()\n  File \"/home/maks/anaconda3/envs/qSAR/lib/python3.5/site-packages/ipykernel/kernelapp.py\", line 477, in start\n    ioloop.IOLoop.instance().start()\n  File \"/home/maks/anaconda3/envs/qSAR/lib/python3.5/site-packages/zmq/eventloop/ioloop.py\", line 177, in start\n    super(ZMQIOLoop, self).start()\n  File \"/home/maks/anaconda3/envs/qSAR/lib/python3.5/site-packages/tornado/ioloop.py\", line 888, in start\n    handler_func(fd_obj, events)\n  File \"/home/maks/anaconda3/envs/qSAR/lib/python3.5/site-packages/tornado/stack_context.py\", line 277, in null_wrapper\n    return fn(*args, **kwargs)\n  File \"/home/maks/anaconda3/envs/qSAR/lib/python3.5/site-packages/zmq/eventloop/zmqstream.py\", line 440, in _handle_events\n    self._handle_recv()\n  File \"/home/maks/anaconda3/envs/qSAR/lib/python3.5/site-packages/zmq/eventloop/zmqstream.py\", line 472, in _handle_recv\n    self._run_callback(callback, msg)\n  File \"/home/maks/anaconda3/envs/qSAR/lib/python3.5/site-packages/zmq/eventloop/zmqstream.py\", line 414, in _run_callback\n    callback(*args, **kwargs)\n  File \"/home/maks/anaconda3/envs/qSAR/lib/python3.5/site-packages/tornado/stack_context.py\", line 277, in null_wrapper\n    return fn(*args, **kwargs)\n  File \"/home/maks/anaconda3/envs/qSAR/lib/python3.5/site-packages/ipykernel/kernelbase.py\", line 283, in dispatcher\n    return self.dispatch_shell(stream, msg)\n  File \"/home/maks/anaconda3/envs/qSAR/lib/python3.5/site-packages/ipykernel/kernelbase.py\", line 235, in dispatch_shell\n    handler(stream, idents, msg)\n  File \"/home/maks/anaconda3/envs/qSAR/lib/python3.5/site-packages/ipykernel/kernelbase.py\", line 399, in execute_request\n    user_expressions, allow_stdin)\n  File \"/home/maks/anaconda3/envs/qSAR/lib/python3.5/site-packages/ipykernel/ipkernel.py\", line 196, in do_execute\n    res = shell.run_cell(code, store_history=store_history, silent=silent)\n  File \"/home/maks/anaconda3/envs/qSAR/lib/python3.5/site-packages/ipykernel/zmqshell.py\", line 533, in run_cell\n    return super(ZMQInteractiveShell, self).run_cell(*args, **kwargs)\n  File \"/home/maks/anaconda3/envs/qSAR/lib/python3.5/site-packages/IPython/core/interactiveshell.py\", line 2717, in run_cell\n    interactivity=interactivity, compiler=compiler, result=result)\n  File \"/home/maks/anaconda3/envs/qSAR/lib/python3.5/site-packages/IPython/core/interactiveshell.py\", line 2821, in run_ast_nodes\n    if self.run_code(code, result):\n  File \"/home/maks/anaconda3/envs/qSAR/lib/python3.5/site-packages/IPython/core/interactiveshell.py\", line 2881, in run_code\n    exec(code_obj, self.user_global_ns, self.user_ns)\n  File \"<ipython-input-13-7a5616769527>\", line 22, in <module>\n    saver = tf.train.Saver(max_to_keep=12)\n  File \"/home/maks/anaconda3/envs/qSAR/lib/python3.5/site-packages/tensorflow/python/training/saver.py\", line 1040, in __init__\n    self.build()\n  File \"/home/maks/anaconda3/envs/qSAR/lib/python3.5/site-packages/tensorflow/python/training/saver.py\", line 1070, in build\n    restore_sequentially=self._restore_sequentially)\n  File \"/home/maks/anaconda3/envs/qSAR/lib/python3.5/site-packages/tensorflow/python/training/saver.py\", line 675, in build\n    restore_sequentially, reshape)\n  File \"/home/maks/anaconda3/envs/qSAR/lib/python3.5/site-packages/tensorflow/python/training/saver.py\", line 402, in _AddRestoreOps\n    tensors = self.restore_op(filename_tensor, saveable, preferred_shard)\n  File \"/home/maks/anaconda3/envs/qSAR/lib/python3.5/site-packages/tensorflow/python/training/saver.py\", line 242, in restore_op\n    [spec.tensor.dtype])[0])\n  File \"/home/maks/anaconda3/envs/qSAR/lib/python3.5/site-packages/tensorflow/python/ops/gen_io_ops.py\", line 668, in restore_v2\n    dtypes=dtypes, name=name)\n  File \"/home/maks/anaconda3/envs/qSAR/lib/python3.5/site-packages/tensorflow/python/framework/op_def_library.py\", line 763, in apply_op\n    op_def=op_def)\n  File \"/home/maks/anaconda3/envs/qSAR/lib/python3.5/site-packages/tensorflow/python/framework/ops.py\", line 2327, in create_op\n    original_op=self._default_original_op, op_def=op_def)\n  File \"/home/maks/anaconda3/envs/qSAR/lib/python3.5/site-packages/tensorflow/python/framework/ops.py\", line 1226, in __init__\n    self._traceback = _extract_stack()\n\nNotFoundError (see above for traceback): Unsuccessful TensorSliceReader constructor: Failed to find any matching files for checkpoint-12\n\t [[Node: save/RestoreV2_2 = RestoreV2[dtypes=[DT_FLOAT], _device=\"/job:localhost/replica:0/task:0/cpu:0\"](_recv_save/Const_0, save/RestoreV2_2/tensor_names, save/RestoreV2_2/shape_and_slices)]]\n\t [[Node: save/RestoreV2_4/_3 = _Recv[client_terminated=false, recv_device=\"/job:localhost/replica:0/task:0/gpu:0\", send_device=\"/job:localhost/replica:0/task:0/cpu:0\", send_device_incarnation=1, tensor_name=\"edge_10_save/RestoreV2_4\", tensor_type=DT_FLOAT, _device=\"/job:localhost/replica:0/task:0/gpu:0\"]()]]\n"
     ]
    }
   ],
   "source": [
    "f1=[[],[],[]]\n",
    "with tf.Session() as sess:\n",
    "    saver.restore(sess, 'checkpoint-12')\n",
    "    \n",
    "    drug_pred = sess.run(predict, feed_dict={x: drug_mols, t: drug_labels}) #rounded prediction values\n",
    "    drug_pred_roc = sess.run(y, feed_dict={x: drug_mols, t: drug_labels}) #not-rounded, raw prediction values\n",
    "    drug_rate = (drug_labels == drug_pred).mean(axis=0)\n",
    "    \n",
    "    f1[0].append(f1_score(drug_labels, drug_pred, average='micro'))\n",
    "    f1[1].append(f1_score(drug_labels, drug_pred, average='macro'))\n",
    "    f1[2].append(f1_score(drug_labels, drug_pred, average='weighted'))\n",
    "    score_per_class = tf_frac(drug_labels,drug_pred)"
   ]
  },
  {
   "cell_type": "code",
   "execution_count": null,
   "metadata": {
    "collapsed": true
   },
   "outputs": [],
   "source": [
    "precision_score(drug_pred,drug_labels, average=\"weighted\")\n",
    "precision_score((drug_pred_roc > 0.01).astype(float),drug_labels, average=\"weighted\")\n",
    "tf_fractions(drug_labels, drug_pred)\n",
    "[sum(i) for i in tf_frac]\n",
    "fpr, tpr, thresholds = roc_curve(drug_labels.flatten(), drug_pred_roc.flatten())\n",
    "auc(fpr,tpr)"
   ]
  },
  {
   "cell_type": "code",
   "execution_count": null,
   "metadata": {
    "collapsed": true
   },
   "outputs": [],
   "source": [
    "plt.plot(fpr, tpr, color='darkorange',\n",
    "         lw=2, label='Krzywa ROC (pole powierzchni = %0.2f)' % auc(fpr, tpr))\n",
    "plt.plot([0, 1], [0, 1], color='#4C72B0', lw=2, linestyle='--')\n",
    "plt.axes().set_aspect('equal')\n",
    "plt.xlim([0.0, 1.0])\n",
    "plt.ylim([0.0, 1.0])\n",
    "plt.xlabel('Odsetek fałszywie pozytywnych')\n",
    "plt.ylabel('Odsetek prawdziwie pozytywnych')\n",
    "plt.title('Charakterystyka operacyjna odbiornika (ROC curve)')\n",
    "plt.legend(loc=\"lower right\")\n",
    "#plt.savefig('plots/best/drugs_roc.pdf')\n",
    "plt.show()"
   ]
  },
  {
   "cell_type": "markdown",
   "metadata": {},
   "source": [
    "---"
   ]
  }
 ],
 "metadata": {
  "anaconda-cloud": {},
  "kernelspec": {
   "display_name": "Python 3",
   "language": "python",
   "name": "python3"
  },
  "language_info": {
   "codemirror_mode": {
    "name": "ipython",
    "version": 3
   },
   "file_extension": ".py",
   "mimetype": "text/x-python",
   "name": "python",
   "nbconvert_exporter": "python",
   "pygments_lexer": "ipython3",
   "version": "3.5.4"
  }
 },
 "nbformat": 4,
 "nbformat_minor": 1
}
