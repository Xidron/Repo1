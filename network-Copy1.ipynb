{
 "cells": [
  {
   "cell_type": "markdown",
   "metadata": {},
   "source": [
    "# Problemy do rozwiązania"
   ]
  },
  {
   "cell_type": "raw",
   "metadata": {},
   "source": [
    "* get_class_vectors() potrzebuje lepszej nazwy\n",
    "\n",
    "!!! Dla 'fingerprint' (f_size=1024) funkcja get_class_vectors() trwa ~30s, a prepare_sets() ~3min\n",
    "    ALE dla 'mixed' (f_size=1024) get_class_vectors() trwa ~3min (spodziewane ze względu na normalizację deskryptorów), a prepare_sets() trwa TYLKO ~10s!!! Nie mam pojęcia dlaczego. Stworzone zbiory są w porządku, wyniki wydają się zgadzać.\n",
    "\n",
    "* Czy w porządku jest używać len(np.array), czy lepiej np.array.shape[0]???\n",
    "\n",
    "* Czy użyć sklearn.metrics.confusion_matrix w tutejszej funkcji calculate_confusion_matrix()?\n",
    "    Aktualnie są zagnieżdżone pętle 'for'.\n",
    "    \n",
    "* Plot functions -- używają wielu zmiennych globalnych bez deklaracji. Czy trzeba to naprawiać?\n",
    "    >>> definiować wewnątrz odpowiednik f_size (ze względu na reprezentacje \"descriptor\" i \"mixed\")\n",
    "\n",
    "\n",
    "*** Zmienić polskie podpisy w wykresach na angielskie."
   ]
  },
  {
   "cell_type": "markdown",
   "metadata": {},
   "source": [
    "# Sections in this notebook:\n",
    "#### 1. [Imports](#s1)\n",
    "#### 2. [Funcitons](#s2)\n",
    "#### 3. [Script](#s3)\n",
    "#### 4. [Plots for evaluating predictions](#s4)\n",
    "#### 5. [Testing the network on drugs](#s5)"
   ]
  },
  {
   "cell_type": "markdown",
   "metadata": {},
   "source": [
    "### Note:\n",
    "\n",
    "You may receive the following warnings:\n",
    "\n",
    "* \"UndefinedMetricWarning\" regarding F1\n",
    "\n",
    "* package deprecation warnings.\n",
    "\n",
    "They can be ignored."
   ]
  },
  {
   "cell_type": "markdown",
   "metadata": {},
   "source": [
    "<a id='s1'></a>\n",
    "# 1. Imports"
   ]
  },
  {
   "cell_type": "code",
   "execution_count": 36,
   "metadata": {
    "collapsed": false
   },
   "outputs": [
    {
     "name": "stderr",
     "output_type": "stream",
     "text": [
      "/home/maks/anaconda3/envs/qSAR/lib/python3.5/site-packages/IPython/html.py:14: ShimWarning: The `IPython.html` package has been deprecated. You should import from `notebook` instead. `IPython.html.widgets` has moved to `ipywidgets`.\n",
      "  \"`IPython.html.widgets` has moved to `ipywidgets`.\", ShimWarning)\n"
     ]
    }
   ],
   "source": [
    "#Imports - general\n",
    "import random\n",
    "random.seed(15)\n",
    "import tensorflow as tf\n",
    "import numpy as np\n",
    "import matplotlib.pyplot as plt\n",
    "import seaborn as sns\n",
    "sns.set_style('whitegrid')\n",
    "sns.set_context('paper')\n",
    "from math import sqrt\n",
    "from sklearn.metrics import f1_score, roc_curve, auc, precision_score, accuracy_score\n",
    "from sklearn.model_selection import train_test_split\n",
    "%matplotlib inline\n",
    "\n",
    "#Imports - RDKit\n",
    "from rdkit.Chem import MolFromSmiles\n",
    "from rdkit.Chem.AllChem import GetMorganFingerprintAsBitVect\n",
    "from rdkit.Chem.rdMolDescriptors import *\n",
    "from rdkit.DataStructs import DiceSimilarity\n",
    "from rdkit.DataStructs.cDataStructs import CreateFromBitString\n",
    "\n",
    "#Imports - additional\n",
    "from os import listdir #for getting a list of files in a dir to process checkpoints\n",
    "import time # for real-time timing the progress of the network"
   ]
  },
  {
   "cell_type": "markdown",
   "metadata": {},
   "source": [
    "---"
   ]
  },
  {
   "cell_type": "markdown",
   "metadata": {},
   "source": [
    "<a id='s2'></a>\n",
    "# 2. Functions"
   ]
  },
  {
   "cell_type": "markdown",
   "metadata": {},
   "source": [
    "## Transform numpy array into RDKit ExplicitBitVect"
   ]
  },
  {
   "cell_type": "code",
   "execution_count": 2,
   "metadata": {
    "collapsed": true
   },
   "outputs": [],
   "source": [
    "def CreateFromBinaryArray(arr):\n",
    "    '''\n",
    "    RDKit ExplicitBitVect data structure automatically converts into an array if stored in a numpy array.\n",
    "    This function restores the RDKit structure for the sake of calculating similarity with the DiceSimilarity()\n",
    "    function, which accepts only RDKit structures as input and returns an error on numpy arrays.\n",
    "    '''\n",
    "    s = ''.join([str(x) for x in arr])\n",
    "    return CreateFromBitString(s)"
   ]
  },
  {
   "cell_type": "markdown",
   "metadata": {},
   "source": [
    "## Preparing the dataset"
   ]
  },
  {
   "cell_type": "markdown",
   "metadata": {},
   "source": [
    "#### Reading smiles of molecules from .ism files"
   ]
  },
  {
   "cell_type": "code",
   "execution_count": 3,
   "metadata": {
    "collapsed": true
   },
   "outputs": [],
   "source": [
    "def read_ism(file_name):\n",
    "    ''' Parse an .ism file, returning a list of smiles of molecules '''\n",
    "    mol_list = []\n",
    "    with open(file_name, 'r') as f:\n",
    "        frl = f.readlines()\n",
    "    for line in frl:\n",
    "        line = line.split('\\t')\n",
    "        smile = line[0]\n",
    "        mol_list.append(smile)\n",
    "    return mol_list"
   ]
  },
  {
   "cell_type": "markdown",
   "metadata": {},
   "source": [
    "#### Creating molecule representations"
   ]
  },
  {
   "cell_type": "code",
   "execution_count": 4,
   "metadata": {
    "collapsed": true
   },
   "outputs": [],
   "source": [
    "def get_class_vectors(mol_matrix, rType = 'fingerprint', f_size=2048):\n",
    "    '''\n",
    "    For each molecule in the array (list of lists):\n",
    "    create its representation for training (ingerprint/descriptor/mixed)\n",
    "    and a binary vector showing which classes it belongs to.\n",
    "    Fingerprint will be of size = f_size.\n",
    "    '''\n",
    "    cv_dict = {}\n",
    "    for i,l in enumerate(mol_matrix):\n",
    "        for smile in l:\n",
    "            if smile not in cv_dict:\n",
    "                \n",
    "                mol = MolFromSmiles(smile)\n",
    "                if rType == 'fingerprint':\n",
    "                    rep = fingerprint(mol, f_size)\n",
    "                elif rType == 'descriptor':\n",
    "                    rep = descriptor(mol)\n",
    "                else:\n",
    "                    rep = descriptor(mol) + list(fingerprint(mol, f_size))\n",
    "                \n",
    "                labels = [0]*len(mol_matrix)\n",
    "                cv_dict[smile] = [rep, labels]\n",
    "            cv_dict[smile][1][i] = 1\n",
    "    # Normalize descriptors\n",
    "    if rType != 'fingerprint':\n",
    "        matrix_to_norm = []\n",
    "        for vals in cv_dict.values():\n",
    "            matrix_to_norm.append(vals[0][:37]) #there are 37 descriptors\n",
    "        matrix_to_norm = np.array(matrix_to_norm)\n",
    "        v_min = matrix_to_norm.min(axis=0)\n",
    "        v_max = matrix_to_norm.max(axis=0) - v_min\n",
    "        for key in cv_dict.keys():\n",
    "            for i in range(37):\n",
    "                normed_val = (cv_dict[key][0][i] - v_min[i]) / v_max[i]\n",
    "                cv_dict[key][0][i] = normed_val\n",
    "    return cv_dict\n",
    "\n",
    "def fingerprint(mol, f_size=2048):\n",
    "    return GetMorganFingerprintAsBitVect(mol,2,f_size)\n",
    "\n",
    "def descriptor(mol):\n",
    "    functions = [CalcChi0n,\n",
    "            CalcChi0v,\n",
    "            CalcChi1n,\n",
    "            CalcChi1v,\n",
    "            CalcChi2n,\n",
    "            CalcChi2v,\n",
    "            CalcChi3n,\n",
    "            CalcChi3v,\n",
    "            CalcChi4n,\n",
    "            CalcChi4v,\n",
    "            CalcExactMolWt,\n",
    "            CalcFractionCSP3,\n",
    "            CalcHallKierAlpha,\n",
    "            CalcKappa1,\n",
    "            CalcKappa2,\n",
    "            CalcKappa3,\n",
    "            CalcLabuteASA,\n",
    "            CalcNumAliphaticCarbocycles,\n",
    "            CalcNumAliphaticHeterocycles,\n",
    "            CalcNumAliphaticRings,\n",
    "            CalcNumAmideBonds,\n",
    "            CalcNumAromaticCarbocycles,\n",
    "            CalcNumAromaticHeterocycles,\n",
    "            CalcNumAromaticRings,\n",
    "            CalcNumBridgeheadAtoms,\n",
    "            CalcNumHBA,\n",
    "            CalcNumHBD,\n",
    "            CalcNumHeteroatoms,\n",
    "            CalcNumHeterocycles,\n",
    "            CalcNumLipinskiHBA,\n",
    "            CalcNumLipinskiHBD,\n",
    "            CalcNumRings,\n",
    "            CalcNumSaturatedCarbocycles,\n",
    "            CalcNumSaturatedHeterocycles,\n",
    "            CalcNumSaturatedRings,\n",
    "            CalcNumSpiroAtoms,\n",
    "            CalcTPSA]\n",
    "        \n",
    "    descriptors = []\n",
    "    for function in functions:\n",
    "        descriptors.append(function(mol))\n",
    "    return descriptors"
   ]
  },
  {
   "cell_type": "markdown",
   "metadata": {},
   "source": [
    "#### Separating singletons"
   ]
  },
  {
   "cell_type": "code",
   "execution_count": 5,
   "metadata": {
    "collapsed": true
   },
   "outputs": [],
   "source": [
    "def separate_singular_uniques(reps, labels, smiles=[]):\n",
    "    '''\n",
    "    Separate examples with unique labels which appear only once.\n",
    "    This is done to ensure proper functionality of *train_test_split()*\n",
    "    when using the *stratify* argument.\n",
    "    '''\n",
    "    # Find indices of singular uniques\n",
    "    unique_labels, unique_indices, unique_counts = np.unique(\n",
    "        ar=labels, return_index=True, return_counts=True, axis=0)\n",
    "    singular_indices = unique_indices[unique_counts==1]\n",
    "    # Separate reps\n",
    "    reps_no_singular = np.delete(reps, singular_indices, axis=0)\n",
    "    reps_only_singular = reps[singular_indices]\n",
    "    # Separate labels\n",
    "    labels_no_singular = np.delete(labels, singular_indices, axis=0)\n",
    "    labels_only_singular = labels[singular_indices]\n",
    "    if len(smiles)>0:\n",
    "        smiles = smiles[singular_indices]\n",
    "    \n",
    "    return reps_no_singular, labels_no_singular, reps_only_singular, labels_only_singular, smiles"
   ]
  },
  {
   "cell_type": "code",
   "execution_count": 6,
   "metadata": {
    "collapsed": true
   },
   "outputs": [],
   "source": [
    "def split_singular(reps, labels, rType, smiles=[], test_size=0.2, random_state=15):\n",
    "    '''\n",
    "    Split examples with unique labels which appear only once into training and validation sets.\n",
    "    Calculate dice similarity between examples.\n",
    "    Highly simmilar examples will all be allocated into the training set.\n",
    "    The rest of examples will be split by train_test_split() function from sklearn.\n",
    "    '''\n",
    "    # Get RDKit fingerprint structures for comparison with dice similarity\n",
    "    if rType == 'descriptor':\n",
    "        assert len(smiles)>0, 'Unable to split; provide an array of smiles for the molecules.'\n",
    "        fps_tmp = [GetMorganFingerprintAsBitVect(MolFromSmiles(x), 2) for x in smiles]\n",
    "    elif rType == 'mixed':\n",
    "        # Restore original RDKit structure of the fingerprint\n",
    "        fps_tmp = [CreateFromBinaryArray(x[37:]) for x in reps]\n",
    "    else:\n",
    "        # Restore original RDKit structure of the fingerprint\n",
    "        fps_tmp = [CreateFromBinaryArray(x) for x in reps]\n",
    "    \n",
    "    # Create a similarity matrix\n",
    "    r = len(fps_tmp)\n",
    "    similarity_matrix = np.zeros([r, r])\n",
    "    for i in range(r):\n",
    "        for j in range(i+1, r):\n",
    "            similarity_matrix[i,j] = similarity_matrix[j,i] = DiceSimilarity(fps_tmp[i], fps_tmp[j])\n",
    "    \n",
    "    # Acquire the indices of highly similar examples\n",
    "    highly_similar_indices = np.where(0.75<=similarity_matrix)\n",
    "    highly_similar_indices = np.unique(highly_similar_indices[0])\n",
    "    \n",
    "    # Separate highly similar examples from the rest\n",
    "    hs_f = reps[highly_similar_indices]\n",
    "    hs_l = labels[highly_similar_indices]\n",
    "    other_f = np.delete(reps, highly_similar_indices, axis=0)\n",
    "    other_l = np.delete(labels, highly_similar_indices, axis=0)\n",
    "    \n",
    "    # Split the rest into training and validation sets\n",
    "    train_f, test_f, train_l, test_l = train_test_split(other_f, other_l, test_size=test_size, random_state=random_state)\n",
    "    \n",
    "    # Append the highly similar examples to the training set\n",
    "    train_f = np.append(train_f, hs_f, axis=0)\n",
    "    train_l = np.append(train_l, hs_l, axis=0)\n",
    "    \n",
    "    return train_f, test_f, train_l, test_l"
   ]
  },
  {
   "cell_type": "markdown",
   "metadata": {},
   "source": [
    "#### Creating training and validation sets"
   ]
  },
  {
   "cell_type": "code",
   "execution_count": 7,
   "metadata": {
    "collapsed": true
   },
   "outputs": [],
   "source": [
    "def get_reps_and_labels(cv_dict, rType):\n",
    "    '''\n",
    "    Extracts arrays of representations and labels from the dictionary of molecules.\n",
    "    For 'descriptor' representation extracts also an array of smiles --\n",
    "    -- this is required for the sake of correctly splitting singletons.\n",
    "    '''\n",
    "    reps, labels, smiles = [],[],[]\n",
    "    for key,val in cv_dict.items():\n",
    "        reps.append(val[0]) # [fingerprint]\n",
    "        labels.append(val[1]) # [label]\n",
    "        if rType == 'descriptor':\n",
    "            smiles.append(key)\n",
    "    reps = np.array(reps)\n",
    "    labels = np.array(labels)\n",
    "    smiles = np.array(smiles)\n",
    "    return reps, labels, smiles"
   ]
  },
  {
   "cell_type": "code",
   "execution_count": 8,
   "metadata": {
    "collapsed": true
   },
   "outputs": [],
   "source": [
    "# molecules <--- mol_matrix\n",
    "def prepare_sets(cv_dict, val_prc=0.2, rType='fingerprint'):\n",
    "    '''\n",
    "    Create training and validation sets with labels from an array of smiles\n",
    "    rType - type of representation - fingerprint/descriptor/mixed\n",
    "    f_size - size of the fingerprint if rType is fingerprint or mixed\n",
    "    '''\n",
    "    # Split the data into training and validation sets\n",
    "    reps, labels, smiles = get_reps_and_labels(cv_dict, rType)\n",
    "    \n",
    "    # Separate singletons\n",
    "    rns,lns,ros,los,smiles = separate_singular_uniques(reps,labels,smiles)\n",
    "    \n",
    "    # Split singletons\n",
    "    only_singular = split_singular(ros, los, rType, smiles=smiles, test_size=val_prc, random_state=15)\n",
    "    \n",
    "    # Split the rest of the data\n",
    "    no_singular = train_test_split(rns, lns, test_size=0.2, random_state=15, stratify=lns)\n",
    "    \n",
    "\n",
    "    # Training set:\n",
    "    #     a list of representations (reps) and\n",
    "    #     a list of corresponding class vectors (labels)\n",
    "    train_reps = np.append(no_singular[0], only_singular[0], axis=0)\n",
    "    train_labels = np.append(no_singular[2], only_singular[2], axis=0)\n",
    "    # Validation set:\n",
    "    #     a list of representations (reps) and\n",
    "    #     a list of corresponding class vectors (labels)\n",
    "    val_reps = np.append(no_singular[1], only_singular[1], axis=0)\n",
    "    val_labels = np.append(no_singular[3], only_singular[3], axis=0)\n",
    "    \n",
    "    return train_reps, val_reps, train_labels, val_labels"
   ]
  },
  {
   "cell_type": "markdown",
   "metadata": {},
   "source": [
    "## Neuron layers"
   ]
  },
  {
   "cell_type": "code",
   "execution_count": 9,
   "metadata": {
    "collapsed": true
   },
   "outputs": [],
   "source": [
    "def neuron_layer(isize, hsize, prev_layer):\n",
    "    ''' Create a single neuron layer - weight, bias, placeholder '''\n",
    "    # weights and biases\n",
    "    w = tf.Variable(tf.random_normal((isize, hsize), stddev=1/sqrt(isize)))\n",
    "    b = tf.Variable(tf.random_normal((hsize,), stddev=0.1))\n",
    "    # neuron\n",
    "    h = tf.nn.relu(tf.matmul(prev_layer, w) + b)\n",
    "    return w,b,h\n",
    "\n",
    "def setup_layers(layers, osize, isize=2048):\n",
    "    ''' Create placeholders, weights and biases for all requested layers '''\n",
    "    x = tf.placeholder(tf.float32, shape=[None,isize])\n",
    "    active_layers = {'x':x,'w':[],'b':[],'h':[]}\n",
    "    \n",
    "    for i in range(len(layers)):\n",
    "        if i == 0: # Input Layer\n",
    "            w,b,h = neuron_layer(isize, layers[0], x)\n",
    "        else:\n",
    "            w,b,h = neuron_layer(layers[i-1], layers[i], prev_h)\n",
    "        active_layers['w'].append(w)\n",
    "        active_layers['b'].append(b)\n",
    "        active_layers['h'].append(h)\n",
    "        prev_h = h\n",
    "    \n",
    "    # Output Layer\n",
    "    wo = tf.Variable(tf.random_normal((layers[-1], osize), stddev=1/sqrt(layers[-1])))\n",
    "    bo = tf.Variable(tf.random_normal((osize,), stddev=0.1))\n",
    "    a = tf.matmul(h, wo) + bo #h is the one last initialized in the loop > of the last layer\n",
    "    \n",
    "    # Placeholder for targets\n",
    "    t = tf.placeholder(tf.float32, shape=[None, osize])\n",
    "    \n",
    "    active_layers['out'] = [wo,bo,a,t]\n",
    "    \n",
    "    return active_layers"
   ]
  },
  {
   "cell_type": "markdown",
   "metadata": {},
   "source": [
    "## Training functions"
   ]
  },
  {
   "cell_type": "code",
   "execution_count": 10,
   "metadata": {
    "collapsed": true
   },
   "outputs": [],
   "source": [
    "def next_batch(reps, labels, size):\n",
    "    '''\n",
    "    Extracts the next batch from a dataset.\n",
    "    If the dataset size is not dividable by batch size with reminder 0,\n",
    "    the last full batch and the remaining incomplete batch will be merged \n",
    "    in order to incorporate all data.\n",
    "    '''\n",
    "    global batch_number\n",
    "    start = batch_number*size\n",
    "    if batch_number == len(reps)//size-1:\n",
    "        #the last batch may be larger to incorporate all data\n",
    "        # -1 because the first batch number is 0\n",
    "        batch_number = 0\n",
    "        return reps[start:], labels[start:]\n",
    "    else:\n",
    "        batch_number += 1\n",
    "        return reps[start:start+size], labels[start:start+size]\n",
    "\n",
    "def shuffle_data(reps, labels):\n",
    "    '''Shuffles the training set after an epoch'''\n",
    "    indices = list(range(len(reps)))\n",
    "    random.shuffle(indices)\n",
    "    new_reps = reps[indices]\n",
    "    new_labels = labels[indices]\n",
    "    return new_reps, new_labels\n",
    "\n",
    "def timer(start,end):\n",
    "    '''\n",
    "    Calculates and formats the time since start to end.\n",
    "    Used for timing the training of the network.\n",
    "    Returns:\n",
    "        string representation of the result\n",
    "    '''\n",
    "    hours, rem = divmod(end-start, 3600)\n",
    "    minutes, seconds = divmod(rem, 60)\n",
    "    return \"{:0>2}:{:0>2}:{:0>2}\".format(int(hours),int(minutes),int(seconds))\n",
    "\n",
    "def calculate_confusion_matrix(y_true, y_pred):\n",
    "    '''\n",
    "    Calculates true/false positives/negatives in y_pred based on y_true\n",
    "    for each class seperately.\n",
    "    Returns:\n",
    "        An array of shape (4, number_of_classes)\n",
    "        in the following order:\n",
    "            number of true positives\n",
    "            number of false negatives\n",
    "            number of true negatives\n",
    "            number of false positives.\n",
    "    '''\n",
    "    num_class = len(y_true[0]) #number of classes\n",
    "    tp = np.array([0] * num_class)\n",
    "    fn = np.array([0] * num_class)\n",
    "    tn = np.array([0] * num_class)\n",
    "    fp = np.array([0] * num_class)\n",
    "    for i in range(num_class):\n",
    "        for j in range(len(y_true)):\n",
    "            if y_pred[j][i] == y_true[j][i]:\n",
    "                if y_true[j][i] == 1:\n",
    "                    tp[i] += 1\n",
    "                else:\n",
    "                    tn[i] += 1\n",
    "            else:\n",
    "                if y_true[j][i] == 1:\n",
    "                    fn[i] += 1\n",
    "                else:\n",
    "                    fp[i] += 1\n",
    "    return tp,fn,tn,fp"
   ]
  },
  {
   "cell_type": "code",
   "execution_count": 11,
   "metadata": {
    "collapsed": true
   },
   "outputs": [],
   "source": [
    "def train_network(train_reps, train_labels, batch_size, epochs, show_progress=True, save=True):\n",
    "    '''\n",
    "    This function trains the network.\n",
    "    A single iteration of training corresponds to a single batch,\n",
    "    and the total number of iterations equals:\n",
    "        total number of training samples floor-divided by batch size and multiplied by the number of epochs.\n",
    "    ------\n",
    "    Returns:\n",
    "        the rate of training accuracy, saved every 200 training iterations\n",
    "        the rate of validation accuracy, saved every 200 training iterations\n",
    "        f1 score in three variants -- micro, macro, weighted -- saved every 200 training iterations\n",
    "        confusion matrix.\n",
    "    '''\n",
    "    if show_progress:\n",
    "        print(time.strftime(\"%Y-%m-%d %H:%M:%S\", time.localtime()))\n",
    "        start = time.time()\n",
    "    if save:\n",
    "        global save_location\n",
    "        save_step=0\n",
    "    # Variables:\n",
    "    global train, val_pred, val_reps, val_labels, batch_number\n",
    "    iterations = len(train_reps) // batch_size * epochs\n",
    "    tr_rate = []   # training rate\n",
    "    val_rate = []  # validation rate\n",
    "    f1 = [[],[],[]]\n",
    "    confusion_matrix = []\n",
    "    batch_number = 0\n",
    "    # Training:\n",
    "    with tf.Session() as session:\n",
    "        session.run(tf.global_variables_initializer())\n",
    "\n",
    "        if save: # Create the first checkpoint\n",
    "            saver.save(session, save_location, global_step=save_step)\n",
    "        \n",
    "        # Train the network\n",
    "        for i in range(iterations):\n",
    "            if i != 0 and batch_number == 0:\n",
    "                train_reps, train_labels = shuffle_data(train_reps, train_labels)\n",
    "            \n",
    "            batch_reps, batch_labels = next_batch(train_reps, train_labels, batch_size)\n",
    "            \n",
    "            session.run(train, feed_dict={x: batch_reps, t: batch_labels})\n",
    "            \n",
    "            # Create a checkpoint and/or display progress\n",
    "            if i == 0 or (i+1)%(iterations//10) == 0:\n",
    "                if save:\n",
    "                    save_step += 1\n",
    "                    saver.save(session, \"tmp/checkpoint\", global_step = save_step)\n",
    "                if show_progress:\n",
    "                    progress = int((i+1)/(iterations//10))*10\n",
    "                    now = timer(start,time.time())\n",
    "                    print(\"%3i\" % progress + '%, ' + str(now))                \n",
    "            \n",
    "            # Validate predictions\n",
    "            if i % 200 == 0 or i == iterations-1:\n",
    "                \n",
    "                tr_target = batch_labels\n",
    "                tr_predictions = session.run(predict, feed_dict={x: batch_reps, t: batch_labels})\n",
    "                tr_rate.append((tr_target == tr_predictions).all(axis=1).mean())\n",
    "\n",
    "                val_predictions = session.run(predict, feed_dict={x: val_reps, t: val_labels})\n",
    "                val_rate.append((val_labels == val_predictions).all(axis=1).mean())\n",
    "                \n",
    "                \n",
    "                f1[0].append(f1_score(val_labels, val_predictions, average='micro'))\n",
    "                f1[1].append(f1_score(val_labels, val_predictions, average='macro'))\n",
    "                f1[2].append(f1_score(val_labels, val_predictions, average='weighted'))\n",
    "        \n",
    "        #Create a confusion matrix\n",
    "        confusion_matrix = calculate_confusion_matrix(val_labels,val_predictions)\n",
    "        # Final checkpoint and/or total time\n",
    "        if save:\n",
    "            saver.save(session, \"tmp/checkpoint\", global_step=save_step+1)\n",
    "        if show_progress:\n",
    "            print(timer(start,time.time()))\n",
    "    return tr_rate, val_rate, f1, confusion_matrix\n"
   ]
  },
  {
   "cell_type": "markdown",
   "metadata": {},
   "source": [
    "## Functions to draw and save plots"
   ]
  },
  {
   "cell_type": "code",
   "execution_count": 12,
   "metadata": {
    "collapsed": true
   },
   "outputs": [],
   "source": [
    "def filename_gen(plot_type='', path=''):\n",
    "    ''' Generates a filename for a plot. '''\n",
    "    if plot_type != '':\n",
    "        plot_type += '_'\n",
    "    filename = plot_type\n",
    "    layers_str = \"{}'{}\".format(len(layers),max(layers))\n",
    "    filename += \"{}_{}_{}_{:>6}_{}_{}_{:.4}_{}\".format(\n",
    "                num_class, f_size, layers_str, learning_rate, batch_size, epochs, max(val_rate), rType)\n",
    "    filename = filename.replace(\".\",\"'\")\n",
    "    filename = filename.replace(\" \",\"_\")\n",
    "    filename = path + filename + \".pdf\"\n",
    "    return filename\n",
    "\n",
    "def save_accuracy_plot(tr_rate, save=True, path=\"plots/\"):\n",
    "    '''\n",
    "    Draws and saves a plot which displays changes of accuracy \n",
    "    during training for training and validation sets.\n",
    "    '''\n",
    "    plt.close()\n",
    "    fig = plt.figure()\n",
    "    ax = fig.add_subplot(111)\n",
    "    \n",
    "    x = [i*200 for i in range(len(tr_rate))]\n",
    "    ax.plot(x,tr_rate, label='trening')\n",
    "    ax.plot(x,val_rate, label='walidacja')\n",
    "    ax.legend(loc=5)\n",
    "    ax.set_ylabel('Dokładność')\n",
    "    ax.set_xlabel('Krok')\n",
    "    plt.ylim([0,1])\n",
    "    vals = ax.get_yticks()\n",
    "    ax.set_yticklabels(['{:3.0f}%'.format(x*100) for x in vals])\n",
    "    \n",
    "    title = \"Cele terapeutyczne: {:2}, Szybkość uczenia: {}\\nWarstwy: {}, Rozmiar batcha: {}, Liczba epok: {}\".format(\n",
    "        num_class, learning_rate, layers, batch_size, epochs)\n",
    "    plt.title(title);\n",
    "    \n",
    "    if save:\n",
    "        filename = filename_gen('',path)\n",
    "        plt.savefig(filename);\n",
    "\n",
    "def save_f1_plot(f1, save=True, path=\"plots/\"):\n",
    "    '''\n",
    "    Draws and saves a plot which displays changes of F1-score\n",
    "    during training for the validation set.\n",
    "    F1 calculated and drawn in three types of averaging.\n",
    "    '''\n",
    "    plt.close()\n",
    "    fig = plt.figure()\n",
    "    x = [i*200 for i in range(len(f1[0]))]\n",
    "    ax = fig.add_subplot(111)\n",
    "    \n",
    "    ax.plot(x,f1[0], label='F1 micro')\n",
    "    ax.plot(x,f1[1], label='F1 macro')\n",
    "    ax.plot(x,f1[2], label='F1 ważone')\n",
    "    ax.legend(loc=7)\n",
    "    ax.set_ylabel('F1')\n",
    "    ax.set_xlabel('Krok')\n",
    "    plt.ylim([0,1])\n",
    "    vals = ax.get_yticks()\n",
    "    ax.set_yticklabels(['{:3.0f}%'.format(x*100) for x in vals])\n",
    "    \n",
    "    title = \"Cele terapeutyczne: {:2}, Szybkość uczenia: {}\\nWarstwy: {}, Rozmiar batcha: {}, Liczba epok: {}\".format(\n",
    "        num_class, learning_rate, layers, batch_size, epochs)\n",
    "    plt.title(title);\n",
    "    \n",
    "    if save:\n",
    "        filename = filename_gen('f1',path)\n",
    "        plt.savefig(filename);\n",
    "\n",
    "def save_confusion_matrix_plot(cm, save=True, path='plots/'):\n",
    "    '''\n",
    "    Draws and saves a histogram of true/false positive/negative fractions:\n",
    "    True Positive rate, False Positive Rate, False Negative Rate and\n",
    "    False Discovery Rate.\n",
    "    True Negative Rate not included due to having values indistinguishably\n",
    "    close to 100%; however, TNR = 100% - FPR, and the FPR histogram is more\n",
    "    visually clear.\n",
    "    '''\n",
    "    plt.close()\n",
    "    fig = plt.figure()\n",
    "    subplots = [fig.add_subplot(221), fig.add_subplot(222),\n",
    "                fig.add_subplot(223), fig.add_subplot(224)]\n",
    "    titles = ['Odsetek prawdziwie pozytywnych', 'Odsetek fałszywie pozytywnych',\n",
    "              'Odsetek fałszywie negatywnych', 'Odsetek fałszywych odkryć']\n",
    "    rate_values = [cm[0]/(cm[0]+cm[1]), cm[3]/(cm[2]+cm[3]),\n",
    "                   cm[1]/(cm[0]+cm[1]), cm[3]/(cm[0]+cm[3])]\n",
    "    xlabel = 'Cele terapeutyczne'\n",
    "    xrange = range(1,len(cm[0])+1)\n",
    "    \n",
    "    for i, ax in enumerate(subplots):\n",
    "        ax.bar(xrange, rate_values[i])\n",
    "        ax.set_title(titles[i])\n",
    "        ax.set_xlabel(xlabel)\n",
    "        ax.set_xticks([])\n",
    "        ax.set_xlim([0,num_class+2])\n",
    "        vals = ax.get_yticks()\n",
    "        # Set float format for ticks on the Y axis\n",
    "        if i != 1:\n",
    "            ax.set_yticklabels(['{:3.0f}%'.format(x*100) for x in vals])\n",
    "        # greater precision on the False Positives plot due to the rate being very small    \n",
    "        else:\n",
    "            ax.set_yticklabels(['{:3.2f}%'.format(x*100) for x in vals])\n",
    "    \n",
    "    plt.tight_layout()\n",
    "    title = \"Cele terapeutyczne: {:2}, Szybkość uczenia: {}\\nWarstwy: {}, Rozmiar batcha: {}, Liczba epok: {}\".format(\n",
    "        num_class, learning_rate, layers, batch_size, epochs)\n",
    "    fig.suptitle(title)\n",
    "    fig.subplots_adjust(top=0.85)\n",
    "    \n",
    "    if save:\n",
    "        filename = filename_gen('cm',path)\n",
    "        plt.savefig(filename)"
   ]
  },
  {
   "cell_type": "markdown",
   "metadata": {},
   "source": [
    "---"
   ]
  },
  {
   "cell_type": "markdown",
   "metadata": {},
   "source": [
    "<a id='s3'></a>\n",
    "# 3. Script"
   ]
  },
  {
   "cell_type": "markdown",
   "metadata": {},
   "source": [
    "## Prepare data"
   ]
  },
  {
   "cell_type": "markdown",
   "metadata": {},
   "source": [
    "### Fetch the list of names of the files that contain the data"
   ]
  },
  {
   "cell_type": "code",
   "execution_count": 133,
   "metadata": {
    "collapsed": false
   },
   "outputs": [
    {
     "name": "stdout",
     "output_type": "stream",
     "text": [
      "73\n"
     ]
    },
    {
     "data": {
      "text/plain": [
       "[['DRD2.ism', '6229'],\n",
       " ['HTR1A.ism', '5592'],\n",
       " ['SLC6A4.ism', '5414'],\n",
       " ['OPRM1.ism', '5263'],\n",
       " ['ADORA1.ism', '4136']]"
      ]
     },
     "execution_count": 133,
     "metadata": {},
     "output_type": "execute_result"
    }
   ],
   "source": [
    "'''\n",
    "Get the list of filenames in data/targets/\n",
    "ordered by descending size of class.\n",
    "'''\n",
    "with open(\"receptors_descending.txt\", \"r\") as f:\n",
    "    receptors = [l.strip().split() for l in f.readlines()]\n",
    "\n",
    "print(len(receptors))\n",
    "receptors[:5]"
   ]
  },
  {
   "cell_type": "markdown",
   "metadata": {},
   "source": [
    "### Specify the number of classes to be used"
   ]
  },
  {
   "cell_type": "code",
   "execution_count": 14,
   "metadata": {
    "collapsed": true
   },
   "outputs": [],
   "source": [
    "'''\n",
    "num_class most numerous classes will be used for further analysis.\n",
    "2 <= num_class <= 73\n",
    "'''\n",
    "num_class = 73\n",
    "\n",
    "assert 2 <= num_class <= 73 and type(num_class)==int, \"Invalid number of classes. Choose an int value from range <2, 73>\""
   ]
  },
  {
   "cell_type": "markdown",
   "metadata": {},
   "source": [
    "### Specify the path to the directory containing data files"
   ]
  },
  {
   "cell_type": "code",
   "execution_count": 15,
   "metadata": {
    "collapsed": true
   },
   "outputs": [],
   "source": [
    "ism_path = 'data/targets/'   #path to .ism files which represent classes and contain molecules"
   ]
  },
  {
   "cell_type": "markdown",
   "metadata": {},
   "source": [
    "### Create a matrix of smiles belonging to each class"
   ]
  },
  {
   "cell_type": "code",
   "execution_count": 16,
   "metadata": {
    "collapsed": false
   },
   "outputs": [
    {
     "data": {
      "text/plain": [
       "['CN1CCN(CC1)C2=Cc3ccccc3C(=C(C)C)c4ccccc24',\n",
       " 'CN1CCN(CC1)C2=Nc3cc(Cl)ccc3Nc4ccccc24',\n",
       " 'CN1CCC(CC1)C2=Cc3cc(Cl)ccc3Cc4ccccc24']"
      ]
     },
     "execution_count": 16,
     "metadata": {},
     "output_type": "execute_result"
    }
   ],
   "source": [
    "mol_matrix = []\n",
    "for line in receptors[:num_class]:\n",
    "    name = line[0]\n",
    "    mol_list = read_ism(ism_path + name)\n",
    "    mol_matrix.append(mol_list)\n",
    "mol_matrix[0][:3]"
   ]
  },
  {
   "cell_type": "markdown",
   "metadata": {},
   "source": [
    "### Type of representation:"
   ]
  },
  {
   "cell_type": "markdown",
   "metadata": {},
   "source": [
    "#### Fingerprint"
   ]
  },
  {
   "cell_type": "code",
   "execution_count": 17,
   "metadata": {
    "collapsed": true
   },
   "outputs": [],
   "source": [
    "rType = 'fingerprint'\n",
    "f_size = 2048        #size of fingerprint"
   ]
  },
  {
   "cell_type": "markdown",
   "metadata": {},
   "source": [
    "#### Descriptor"
   ]
  },
  {
   "cell_type": "raw",
   "metadata": {
    "collapsed": false,
    "scrolled": true
   },
   "source": [
    "rType = 'descriptor'"
   ]
  },
  {
   "cell_type": "markdown",
   "metadata": {},
   "source": [
    "#### Mixed"
   ]
  },
  {
   "cell_type": "raw",
   "metadata": {
    "collapsed": true
   },
   "source": [
    "rType = 'mixed'\n",
    "f_size = 1024        #size of fingerprint"
   ]
  },
  {
   "cell_type": "markdown",
   "metadata": {},
   "source": [
    "## Split the data into training and validation sets"
   ]
  },
  {
   "cell_type": "markdown",
   "metadata": {},
   "source": [
    "### Specify the size of the validation set as percentage of the entire dataset"
   ]
  },
  {
   "cell_type": "code",
   "execution_count": 18,
   "metadata": {
    "collapsed": true
   },
   "outputs": [],
   "source": [
    "val_prc = 0.2        #the percent of all data that will be allocated into the validation set"
   ]
  },
  {
   "cell_type": "markdown",
   "metadata": {},
   "source": [
    "### Split\n",
    "Note: this may take a while."
   ]
  },
  {
   "cell_type": "code",
   "execution_count": 19,
   "metadata": {
    "collapsed": false,
    "scrolled": true
   },
   "outputs": [
    {
     "name": "stdout",
     "output_type": "stream",
     "text": [
      "CPU times: user 30.4 s, sys: 52 ms, total: 30.5 s\n",
      "Wall time: 30.5 s\n"
     ]
    }
   ],
   "source": [
    "%%time\n",
    "rep_dict = get_class_vectors(mol_matrix, rType, f_size)"
   ]
  },
  {
   "cell_type": "code",
   "execution_count": 21,
   "metadata": {
    "collapsed": false,
    "scrolled": false
   },
   "outputs": [
    {
     "name": "stdout",
     "output_type": "stream",
     "text": [
      "CPU times: user 4min 7s, sys: 3 s, total: 4min 10s\n",
      "Wall time: 4min 6s\n"
     ]
    }
   ],
   "source": [
    "%%time\n",
    "train_reps,val_reps,train_labels,val_labels = prepare_sets(rep_dict, val_prc, rType)"
   ]
  },
  {
   "cell_type": "markdown",
   "metadata": {},
   "source": [
    "## Optional - Saving and loading prepared sets\n",
    "This is done to preserve time if one wishes to continue calculations on a set another time. "
   ]
  },
  {
   "cell_type": "raw",
   "metadata": {
    "collapsed": true
   },
   "source": [
    "import pickle\n",
    "\n",
    "def load_var(name):\n",
    "    with open(name,'rb') as f:\n",
    "        return pickle.load(f)\n",
    "\n",
    "def save_var(name,var):\n",
    "    with open(name,'wb') as f:\n",
    "        pickle.dump(var,f)"
   ]
  },
  {
   "cell_type": "raw",
   "metadata": {
    "collapsed": true
   },
   "source": [
    "save_var(\"73_2048.txt\",{\"tm\":train_reps,\"tl\":train_labels,\"vm\":val_reps,\"vl\":val_labels})"
   ]
  },
  {
   "cell_type": "raw",
   "metadata": {
    "collapsed": false
   },
   "source": [
    "loaded = load_var(\"73_2048.txt\")\n",
    "train_reps=loaded[\"tm\"]\n",
    "train_labels = loaded[\"tl\"]\n",
    "val_reps=loaded[\"vm\"]\n",
    "val_labels=loaded[\"vl\"]"
   ]
  },
  {
   "cell_type": "markdown",
   "metadata": {},
   "source": [
    "##  User-defined network variables:"
   ]
  },
  {
   "cell_type": "code",
   "execution_count": 22,
   "metadata": {
    "collapsed": true
   },
   "outputs": [],
   "source": [
    "layers = [500,500]\n",
    "learning_rate = 0.001\n",
    "batch_size = 25\n",
    "epochs = 10"
   ]
  },
  {
   "cell_type": "markdown",
   "metadata": {},
   "source": [
    "## Create and train the network"
   ]
  },
  {
   "cell_type": "markdown",
   "metadata": {},
   "source": [
    "### Preparing random generators and resetting tensorflow graph"
   ]
  },
  {
   "cell_type": "code",
   "execution_count": 23,
   "metadata": {
    "collapsed": true
   },
   "outputs": [],
   "source": [
    "tf.reset_default_graph()\n",
    "tf.set_random_seed(15)\n",
    "random.seed(15)"
   ]
  },
  {
   "cell_type": "markdown",
   "metadata": {},
   "source": [
    "### Automatic network variables"
   ]
  },
  {
   "cell_type": "code",
   "execution_count": 24,
   "metadata": {
    "collapsed": true
   },
   "outputs": [],
   "source": [
    "'''\n",
    "isize - size of the input layer, equal to the size of\n",
    "        the data representation (fingerprint/descriptor/mixed)\n",
    "osize - size of the output layer, equal to the number of classes.\n",
    "'''\n",
    "isize = val_reps.shape[1]\n",
    "osize = num_class"
   ]
  },
  {
   "cell_type": "markdown",
   "metadata": {},
   "source": [
    "### Creating neuron layers"
   ]
  },
  {
   "cell_type": "code",
   "execution_count": 25,
   "metadata": {
    "collapsed": true
   },
   "outputs": [],
   "source": [
    "active_layers = setup_layers(layers, osize, isize)\n",
    "x = active_layers['x'] # first placeholder\n",
    "a = active_layers['out'][2] # output layer activations\n",
    "t = active_layers['out'][3] # placeholder for targets"
   ]
  },
  {
   "cell_type": "markdown",
   "metadata": {},
   "source": [
    "### Saving checkpoints"
   ]
  },
  {
   "cell_type": "code",
   "execution_count": 26,
   "metadata": {
    "collapsed": true
   },
   "outputs": [],
   "source": [
    "'''\n",
    "A function that creates checkpoints during training,\n",
    "which can later be used to reconstruct the network\n",
    "and use the test set with it.\n",
    "Following checkpoints are created:\n",
    "                before training begins\n",
    "                after every 10% of progress\n",
    "                after training.\n",
    "That is 12 checkpoints in total.\n",
    "Running the training function will overwrite existing checkpoints.\n",
    "Checkpoints will be saved to save_location directory.\n",
    "'''\n",
    "saver = tf.train.Saver(max_to_keep=12)\n",
    "save_location = \"tmp/checkpoint\""
   ]
  },
  {
   "cell_type": "markdown",
   "metadata": {},
   "source": [
    "### Optimizer function"
   ]
  },
  {
   "cell_type": "code",
   "execution_count": 27,
   "metadata": {
    "collapsed": true
   },
   "outputs": [],
   "source": [
    "'''Adam Optimizer'''\n",
    "cross_entropy = tf.reduce_mean(tf.nn.sigmoid_cross_entropy_with_logits(labels=t, logits=a))\n",
    "train = tf.train.AdamOptimizer(learning_rate).minimize(cross_entropy)"
   ]
  },
  {
   "cell_type": "markdown",
   "metadata": {},
   "source": [
    "### Prediction"
   ]
  },
  {
   "cell_type": "code",
   "execution_count": 28,
   "metadata": {
    "collapsed": true
   },
   "outputs": [],
   "source": [
    "y = tf.nn.sigmoid(a)\n",
    "predict = tf.round(y)"
   ]
  },
  {
   "cell_type": "markdown",
   "metadata": {},
   "source": [
    "### Batch number"
   ]
  },
  {
   "cell_type": "code",
   "execution_count": 29,
   "metadata": {
    "collapsed": true
   },
   "outputs": [],
   "source": [
    "''' Batch number is used as a global variable in the training-associated functions. '''\n",
    "batch_number = 0"
   ]
  },
  {
   "cell_type": "markdown",
   "metadata": {},
   "source": [
    "### Training the network\n",
    "Note: you might receive a warning regarding F-score when training the network. This is expected and can be ignored."
   ]
  },
  {
   "cell_type": "code",
   "execution_count": 30,
   "metadata": {
    "collapsed": false,
    "scrolled": true
   },
   "outputs": [
    {
     "name": "stdout",
     "output_type": "stream",
     "text": [
      "2018-10-11 14:35:05\n",
      "  0%, 00:00:00\n"
     ]
    },
    {
     "name": "stderr",
     "output_type": "stream",
     "text": [
      "/home/maks/anaconda3/envs/qSAR/lib/python3.5/site-packages/sklearn/metrics/classification.py:1143: UndefinedMetricWarning: F-score is ill-defined and being set to 0.0 in labels with no predicted samples.\n",
      "  'precision', 'predicted', average, warn_for)\n"
     ]
    },
    {
     "name": "stdout",
     "output_type": "stream",
     "text": [
      " 10%, 00:00:13\n",
      " 20%, 00:00:26\n",
      " 30%, 00:00:39\n",
      " 40%, 00:00:53\n",
      " 50%, 00:01:05\n",
      " 60%, 00:01:19\n",
      " 70%, 00:01:31\n",
      " 80%, 00:01:45\n",
      " 90%, 00:01:57\n",
      "100%, 00:02:10\n",
      "00:02:14\n"
     ]
    }
   ],
   "source": [
    "tr_rate, val_rate, f1, confusion_matrix = train_network(train_reps, train_labels, batch_size, epochs, show_progress=True, save=True)"
   ]
  },
  {
   "cell_type": "markdown",
   "metadata": {},
   "source": [
    "# Accuracy"
   ]
  },
  {
   "cell_type": "code",
   "execution_count": 32,
   "metadata": {
    "collapsed": false,
    "scrolled": true
   },
   "outputs": [
    {
     "data": {
      "text/plain": [
       "77.68"
      ]
     },
     "execution_count": 32,
     "metadata": {},
     "output_type": "execute_result"
    }
   ],
   "source": [
    "max(val_rate).round(4)*100"
   ]
  },
  {
   "cell_type": "markdown",
   "metadata": {},
   "source": [
    "---"
   ]
  },
  {
   "cell_type": "markdown",
   "metadata": {},
   "source": [
    "<a id='s4'></a>\n",
    "# 4. Plots for evaluating predictions"
   ]
  },
  {
   "cell_type": "markdown",
   "metadata": {},
   "source": [
    "### Accuracy - training and validation rates"
   ]
  },
  {
   "cell_type": "code",
   "execution_count": 37,
   "metadata": {
    "collapsed": false,
    "scrolled": true
   },
   "outputs": [
    {
     "data": {
      "image/png": "[encoded data removed]",
      "text/plain": [
       "<Figure size 432x288 with 1 Axes>"
      ]
     },
     "metadata": {},
     "output_type": "display_data"
    }
   ],
   "source": [
    "save_accuracy_plot(tr_rate, save=False, path='plots/')"
   ]
  },
  {
   "cell_type": "markdown",
   "metadata": {},
   "source": [
    "### F1 score"
   ]
  },
  {
   "cell_type": "code",
   "execution_count": 38,
   "metadata": {
    "collapsed": false
   },
   "outputs": [
    {
     "data": {
      "image/png": "[encoded data removed]",
      "text/plain": [
       "<Figure size 432x288 with 1 Axes>"
      ]
     },
     "metadata": {},
     "output_type": "display_data"
    }
   ],
   "source": [
    "save_f1_plot(f1, save=False, path='plots/')"
   ]
  },
  {
   "cell_type": "markdown",
   "metadata": {},
   "source": [
    "### True/false-positive/negative-related histograms"
   ]
  },
  {
   "cell_type": "code",
   "execution_count": 39,
   "metadata": {
    "collapsed": false,
    "scrolled": true
   },
   "outputs": [
    {
     "data": {
      "image/png": "[encoded data removed]",
      "text/plain": [
       "<Figure size 432x288 with 4 Axes>"
      ]
     },
     "metadata": {},
     "output_type": "display_data"
    }
   ],
   "source": [
    "save_confusion_matrix_plot(confusion_matrix, save=False, path='plots/')"
   ]
  },
  {
   "cell_type": "markdown",
   "metadata": {},
   "source": [
    "---"
   ]
  },
  {
   "cell_type": "markdown",
   "metadata": {},
   "source": [
    "<a id='s5'></a>\n",
    "# 5. Testing the network on drugs"
   ]
  },
  {
   "cell_type": "markdown",
   "metadata": {},
   "source": [
    "## Preparing the test set"
   ]
  },
  {
   "cell_type": "code",
   "execution_count": 40,
   "metadata": {
    "collapsed": true
   },
   "outputs": [],
   "source": [
    "with open('data/drug_targets_untrained.csv') as f: #or 'data/drug_targets.csv' for the full set\n",
    "    drug_targets = [l.strip().split(',') for l in f.readlines()[1:]]\n",
    "class_to_smiles = {}\n",
    "for l in drug_targets:\n",
    "    if l[2] not in class_to_smiles.keys():\n",
    "        class_to_smiles[l[2]] = []\n",
    "    class_to_smiles[l[2]].append(l[4])\n",
    "\n",
    "targets = [l[0].strip('.ism') for l in receptors]\n",
    "\n",
    "drug_mol_matrix = [[]]*73\n",
    "for k, v in class_to_smiles.items():\n",
    "    drug_mol_matrix[targets.index(k)] = v\n",
    "\n",
    "cv_dict = get_class_vectors(drug_mol_matrix, f_size=f_size)\n",
    "drug_mols, drug_labels = [], []\n",
    "for v in cv_dict.values():\n",
    "    drug_mols.append(v[0])\n",
    "    drug_labels.append(v[1])\n",
    "drug_mols, drug_labels = np.array(drug_mols), np.array(drug_labels)"
   ]
  },
  {
   "cell_type": "markdown",
   "metadata": {},
   "source": [
    "### Classes not represented in the test set"
   ]
  },
  {
   "cell_type": "code",
   "execution_count": 174,
   "metadata": {
    "collapsed": false
   },
   "outputs": [
    {
     "data": {
      "text/plain": [
       "[18, 21, 27, 45, 49, 51, 53, 54, 56, 57, 58, 59, 62, 63, 65, 66, 69, 70, 71]"
      ]
     },
     "execution_count": 174,
     "metadata": {},
     "output_type": "execute_result"
    }
   ],
   "source": [
    "norep = np.where(sum(drug_labels)==0)[0]\n",
    "list(norep+1)"
   ]
  },
  {
   "cell_type": "markdown",
   "metadata": {},
   "source": [
    "#### Have any molecules been predicted to belong to those classes?"
   ]
  },
  {
   "cell_type": "code",
   "execution_count": 175,
   "metadata": {
    "collapsed": false,
    "scrolled": true
   },
   "outputs": [
    {
     "data": {
      "text/plain": [
       "[0.0,\n",
       " 0.0,\n",
       " 0.0,\n",
       " 0.0,\n",
       " 0.0,\n",
       " 0.0,\n",
       " 0.0,\n",
       " 1.0,\n",
       " 0.0,\n",
       " 0.0,\n",
       " 0.0,\n",
       " 0.0,\n",
       " 0.0,\n",
       " 0.0,\n",
       " 0.0,\n",
       " 0.0,\n",
       " 0.0,\n",
       " 0.0,\n",
       " 0.0]"
      ]
     },
     "execution_count": 175,
     "metadata": {},
     "output_type": "execute_result"
    }
   ],
   "source": [
    "list(sum(drug_pred)[norep])"
   ]
  },
  {
   "cell_type": "markdown",
   "metadata": {},
   "source": [
    "## Optional - Rebuilding the network\n",
    "if the training code in section 3. has not been run"
   ]
  },
  {
   "cell_type": "raw",
   "metadata": {
    "collapsed": true
   },
   "source": [
    "tf.reset_default_graph()\n",
    "tf.set_random_seed(15)\n",
    "random.seed(15)\n",
    "# Automatic network variables\n",
    "isize = 4096\n",
    "osize = 73\n",
    "active_layers = setup_layers([800,800], osize, isize)\n",
    "x = active_layers['x'] # first placeholder\n",
    "a = active_layers['out'][2] # output layer activations\n",
    "t = active_layers['out'][3] # placeholder for targets\n",
    "saver = tf.train.Saver(max_to_keep=12)\n",
    "# Objective\n",
    "'''Adam Optimizer'''\n",
    "cross_entropy = tf.reduce_mean(tf.nn.sigmoid_cross_entropy_with_logits(a, t))\n",
    "train = tf.train.AdamOptimizer(0.001).minimize(cross_entropy)\n",
    "# Prediction\n",
    "y = tf.nn.sigmoid(a)\n",
    "predict = tf.round(y)"
   ]
  },
  {
   "cell_type": "markdown",
   "metadata": {},
   "source": [
    "## Restoring the network from the last checkpoint and running test data"
   ]
  },
  {
   "cell_type": "code",
   "execution_count": 162,
   "metadata": {
    "collapsed": false
   },
   "outputs": [
    {
     "name": "stderr",
     "output_type": "stream",
     "text": [
      "/home/maks/anaconda3/envs/qSAR/lib/python3.5/site-packages/sklearn/metrics/classification.py:1143: UndefinedMetricWarning: F-score is ill-defined and being set to 0.0 in labels with no predicted samples.\n",
      "  'precision', 'predicted', average, warn_for)\n",
      "/home/maks/anaconda3/envs/qSAR/lib/python3.5/site-packages/sklearn/metrics/classification.py:1145: UndefinedMetricWarning: F-score is ill-defined and being set to 0.0 in labels with no true samples.\n",
      "  'recall', 'true', average, warn_for)\n"
     ]
    }
   ],
   "source": [
    "f1=[]\n",
    "with tf.Session() as sess:\n",
    "    saver.restore(sess, 'tmp/checkpoint-12')\n",
    "    \n",
    "    drug_pred = sess.run(predict, feed_dict={x: drug_mols, t: drug_labels}) #rounded prediction values\n",
    "    drug_pred_roc = sess.run(y, feed_dict={x: drug_mols, t: drug_labels}) #not-rounded, raw prediction values\n",
    "    drug_rate = (drug_labels == drug_pred).all(axis=1).mean()\n",
    "    \n",
    "    f1.append(f1_score(drug_labels, drug_pred, average='micro'))\n",
    "    f1.append(f1_score(drug_labels, drug_pred, average='macro'))\n",
    "    f1.append(f1_score(drug_labels, drug_pred, average='weighted'))\n",
    "    score_per_class = calculate_confusion_matrix(drug_labels,drug_pred)"
   ]
  },
  {
   "cell_type": "markdown",
   "metadata": {},
   "source": [
    "## Various evaluations of predictions"
   ]
  },
  {
   "cell_type": "markdown",
   "metadata": {},
   "source": [
    "### F1 scores"
   ]
  },
  {
   "cell_type": "code",
   "execution_count": 166,
   "metadata": {
    "collapsed": false
   },
   "outputs": [
    {
     "name": "stdout",
     "output_type": "stream",
     "text": [
      "   micro:   0.3917\n",
      "   macro:   0.2519\n",
      "weighted:   0.3541\n"
     ]
    }
   ],
   "source": [
    "averages = ['   micro:  ','   macro:  ','weighted:  ']\n",
    "for i in range(3):\n",
    "    print(averages[i],f1[i].round(4))"
   ]
  },
  {
   "cell_type": "markdown",
   "metadata": {},
   "source": [
    "### Precision score"
   ]
  },
  {
   "cell_type": "markdown",
   "metadata": {},
   "source": [
    "#### Raw prediction values"
   ]
  },
  {
   "cell_type": "code",
   "execution_count": 50,
   "metadata": {
    "collapsed": false
   },
   "outputs": [
    {
     "name": "stderr",
     "output_type": "stream",
     "text": [
      "/home/maks/anaconda3/envs/qSAR/lib/python3.5/site-packages/sklearn/metrics/classification.py:1143: UndefinedMetricWarning: Precision is ill-defined and being set to 0.0 in labels with no predicted samples.\n",
      "  'precision', 'predicted', average, warn_for)\n"
     ]
    },
    {
     "data": {
      "text/plain": [
       "0.4863070990167189"
      ]
     },
     "execution_count": 50,
     "metadata": {},
     "output_type": "execute_result"
    }
   ],
   "source": [
    "precision_score((drug_pred_roc > 0.01).astype(float),drug_labels, average=\"weighted\")"
   ]
  },
  {
   "cell_type": "markdown",
   "metadata": {},
   "source": [
    "#### Rounded prediction values"
   ]
  },
  {
   "cell_type": "code",
   "execution_count": 80,
   "metadata": {
    "collapsed": false,
    "scrolled": true
   },
   "outputs": [
    {
     "name": "stderr",
     "output_type": "stream",
     "text": [
      "/home/maks/anaconda3/envs/qSAR/lib/python3.5/site-packages/sklearn/metrics/classification.py:1143: UndefinedMetricWarning: Precision is ill-defined and being set to 0.0 in labels with no predicted samples.\n",
      "  'precision', 'predicted', average, warn_for)\n"
     ]
    },
    {
     "data": {
      "text/plain": [
       "0.39734934285464324"
      ]
     },
     "execution_count": 80,
     "metadata": {},
     "output_type": "execute_result"
    }
   ],
   "source": [
    "precision_score(drug_pred,drug_labels, average=\"weighted\")"
   ]
  },
  {
   "cell_type": "markdown",
   "metadata": {},
   "source": [
    "### Confusion Matrix"
   ]
  },
  {
   "cell_type": "code",
   "execution_count": 159,
   "metadata": {
    "collapsed": false
   },
   "outputs": [
    {
     "name": "stdout",
     "output_type": "stream",
     "text": [
      "True Positive:\t 132\n",
      "False Negative:\t 328\n",
      "True Negative:\t 12598\n",
      "False Positive:\t 82\n"
     ]
    }
   ],
   "source": [
    "drugs_cm = calculate_confusion_matrix(drug_labels, drug_pred)\n",
    "rates = ['True Positive:\\t','False Negative:\\t','True Negative:\\t','False Positive:\\t']\n",
    "for i in range(4):\n",
    "    print(rates[i],sum(drugs_cm[i]))"
   ]
  },
  {
   "cell_type": "markdown",
   "metadata": {},
   "source": [
    "#### Plot"
   ]
  },
  {
   "cell_type": "code",
   "execution_count": 171,
   "metadata": {
    "collapsed": false
   },
   "outputs": [
    {
     "name": "stderr",
     "output_type": "stream",
     "text": [
      "/home/maks/anaconda3/envs/qSAR/lib/python3.5/site-packages/ipykernel_launcher.py:17: RuntimeWarning: invalid value encountered in true_divide\n"
     ]
    },
    {
     "data": {
      "image/png": "[encoded data removed]",
      "text/plain": [
       "<Figure size 432x288 with 4 Axes>"
      ]
     },
     "metadata": {},
     "output_type": "display_data"
    }
   ],
   "source": [
    "# Set the filename under which to save the plot\n",
    "save_dcm_plot = True\n",
    "dcm_plotname = 'drugs_cm_plot.pdf'\n",
    "# Erase classes that are not represented in the set\n",
    "norep = np.where(sum(drug_labels)==0)[0]\n",
    "drugs_cm = calculate_confusion_matrix(drug_labels, drug_pred)\n",
    "cm = np.array([np.delete(a,norep,axis=0) for a in drugs_cm])\n",
    "\n",
    "# Draw the plot\n",
    "plt.close()\n",
    "fig = plt.figure()\n",
    "subplots = [fig.add_subplot(221), fig.add_subplot(222),\n",
    "            fig.add_subplot(223), fig.add_subplot(224)]\n",
    "titles = ['Odsetek prawdziwie pozytywnych', 'Odsetek fałszywie pozytywnych',\n",
    "          'Odsetek fałszywie negatywnych', 'Odsetek fałszywych odkryć']\n",
    "rate_values = [cm[0]/(cm[0]+cm[1]), cm[3]/(cm[2]+cm[3]),\n",
    "               cm[1]/(cm[0]+cm[1]), cm[3]/(cm[0]+cm[3])]\n",
    "\n",
    "# Find where TP+FP==0\n",
    "fdr_nan = np.where(np.isnan(rate_values[3])==True)[0]\n",
    "\n",
    "xlabel = 'Cele terapeutyczne'\n",
    "xrange = np.arange(1,len(cm[0])+1)\n",
    "\n",
    "for i, ax in enumerate(subplots):\n",
    "    ax.bar(xrange, rate_values[i])\n",
    "    # On False Discoveries plot mark classes where TP+FP==0 using half-transparent green\n",
    "    if i == 3:\n",
    "        ax.bar(xrange[fdr_nan],[max(rate_values[i])]*fdr_nan.size,color=\"#59ff69\", alpha=0.5)\n",
    "    \n",
    "    ax.set_title(titles[i])\n",
    "    ax.set_xlabel(xlabel)\n",
    "    ax.set_xticks([])\n",
    "    ax.set_xlim([0,len(cm[0])+1])\n",
    "    ax.set_ylim([0,max(rate_values[i])])\n",
    "    vals = ax.get_yticks()\n",
    "    # Set float format for ticks on the Y axis\n",
    "    if i != 1:\n",
    "        ax.set_yticklabels(['{:3.0f}%'.format(x*100) for x in vals])\n",
    "    # greater precision on the False Positives plot due to the rate being very small\n",
    "    else:\n",
    "        ax.set_yticklabels(['{:3.2f}%'.format(x*100) for x in vals])\n",
    "\n",
    "plt.tight_layout();\n",
    "if save_dcm_plot:\n",
    "    plt.savefig(dcm_plotname)"
   ]
  },
  {
   "cell_type": "markdown",
   "metadata": {},
   "source": [
    "### ROC Curve"
   ]
  },
  {
   "cell_type": "markdown",
   "metadata": {},
   "source": [
    "#### Plot"
   ]
  },
  {
   "cell_type": "code",
   "execution_count": 82,
   "metadata": {
    "collapsed": false
   },
   "outputs": [
    {
     "name": "stderr",
     "output_type": "stream",
     "text": [
      "/home/maks/anaconda3/envs/qSAR/lib/python3.5/site-packages/matplotlib/cbook/deprecation.py:107: MatplotlibDeprecationWarning: Adding an axes using the same arguments as a previous axes currently reuses the earlier instance.  In a future version, a new instance will always be created and returned.  Meanwhile, this warning can be suppressed, and the future behavior ensured, by passing a unique label to each axes instance.\n",
      "  warnings.warn(message, mplDeprecation, stacklevel=1)\n"
     ]
    },
    {
     "data": {
      "image/png": "[encoded data removed]",
      "text/plain": [
       "<Figure size 432x288 with 1 Axes>"
      ]
     },
     "metadata": {},
     "output_type": "display_data"
    }
   ],
   "source": [
    "plt.close()\n",
    "plt.plot(fpr, tpr, color='darkorange',\n",
    "         lw=2, label='Krzywa ROC (pole powierzchni = %0.2f)' % auc(fpr, tpr))\n",
    "plt.plot([0, 1], [0, 1], color='#4C72B0', lw=2, linestyle='--')\n",
    "plt.axes().set_aspect('equal')\n",
    "plt.xlim([0.0, 1.0])\n",
    "plt.ylim([0.0, 1.0])\n",
    "plt.xlabel('Odsetek fałszywie pozytywnych')\n",
    "plt.ylabel('Odsetek prawdziwie pozytywnych')\n",
    "plt.title('Krzywa ROC')\n",
    "plt.legend(loc=\"lower right\")\n",
    "#plt.savefig('plots/best/drugs_roc.pdf')\n",
    "plt.show()"
   ]
  },
  {
   "cell_type": "markdown",
   "metadata": {},
   "source": [
    "#### Area under the curve"
   ]
  },
  {
   "cell_type": "code",
   "execution_count": 53,
   "metadata": {
    "collapsed": false
   },
   "outputs": [
    {
     "data": {
      "text/plain": [
       "0.8322166026608147"
      ]
     },
     "execution_count": 53,
     "metadata": {},
     "output_type": "execute_result"
    }
   ],
   "source": [
    "fpr, tpr, thresholds = roc_curve(drug_labels.flatten(), drug_pred_roc.flatten())\n",
    "auc(fpr,tpr)"
   ]
  },
  {
   "cell_type": "markdown",
   "metadata": {},
   "source": [
    "---"
   ]
  },
  {
   "cell_type": "code",
   "execution_count": null,
   "metadata": {
    "collapsed": true
   },
   "outputs": [],
   "source": []
  },
  {
   "cell_type": "code",
   "execution_count": 90,
   "metadata": {
    "collapsed": false
   },
   "outputs": [],
   "source": [
    "norep = np.where(sum(drug_labels)==0)[0]"
   ]
  },
  {
   "cell_type": "code",
   "execution_count": 96,
   "metadata": {
    "collapsed": false
   },
   "outputs": [
    {
     "data": {
      "text/plain": [
       "array([17, 20, 26, 44, 48, 50, 52, 53, 55, 56, 57, 58, 61, 62, 64, 65, 68,\n",
       "       69, 70])"
      ]
     },
     "execution_count": 96,
     "metadata": {},
     "output_type": "execute_result"
    }
   ],
   "source": [
    "norep"
   ]
  },
  {
   "cell_type": "code",
   "execution_count": 142,
   "metadata": {
    "collapsed": false
   },
   "outputs": [
    {
     "data": {
      "text/plain": [
       "array([0., 0., 0., 0., 0., 0., 0., 1., 0., 0., 0., 0., 0., 0., 0., 0., 0.,\n",
       "       0., 0.], dtype=float32)"
      ]
     },
     "execution_count": 142,
     "metadata": {},
     "output_type": "execute_result"
    }
   ],
   "source": [
    "sum(drug_pred)[norep]"
   ]
  },
  {
   "cell_type": "markdown",
   "metadata": {},
   "source": [
    "---"
   ]
  }
 ],
 "metadata": {
  "anaconda-cloud": {},
  "kernelspec": {
   "display_name": "Python 3",
   "language": "python",
   "name": "python3"
  },
  "language_info": {
   "codemirror_mode": {
    "name": "ipython",
    "version": 3
   },
   "file_extension": ".py",
   "mimetype": "text/x-python",
   "name": "python",
   "nbconvert_exporter": "python",
   "pygments_lexer": "ipython3",
   "version": "3.5.4"
  }
 },
 "nbformat": 4,
 "nbformat_minor": 1
}
